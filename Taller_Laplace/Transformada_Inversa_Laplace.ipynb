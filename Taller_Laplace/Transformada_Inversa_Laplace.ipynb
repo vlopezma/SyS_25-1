{
  "cells": [
    {
      "cell_type": "markdown",
      "metadata": {
        "id": "view-in-github",
        "colab_type": "text"
      },
      "source": [
        "<a href=\"https://colab.research.google.com/github/vlopezma/SyS_25-1/blob/main/Taller_Laplace/Transformada_Inversa_Laplace.ipynb\" target=\"_parent\"><img src=\"https://colab.research.google.com/assets/colab-badge.svg\" alt=\"Open In Colab\"/></a>"
      ]
    },
    {
      "cell_type": "markdown",
      "metadata": {
        "id": "0sjQJSFfLjvE",
        "nbsphinx": "hidden"
      },
      "source": [
        "# Transformada inversa de Laplace\n",
        "\n",
        "*This Jupyter notebook is part of a [collection of notebooks](../index.ipynb) in the bachelors module Signals and Systems, Communications Engineering, Universität Rostock. Please direct questions and suggestions to [Sascha.Spors@uni-rostock.de](mailto:Sascha.Spors@uni-rostock.de).*"
      ]
    },
    {
      "cell_type": "markdown",
      "metadata": {
        "id": "fNGAID8gLjvK"
      },
      "source": [
        "## Transformada Inversa\n",
        "\n",
        "- La transformada de Laplace también tiene una [transformada inversa](https://en.wikipedia.org/wiki/Inverse_Laplace_transform). La transformada inversa de Laplace convierte una transformada de Laplace compleja $X(s) \\in \\mathbb{C}$ en una señal compleja $x(t) \\in \\mathbb{C}$ con variable independiente real $t \\in \\mathbb{R}$.\n",
        "\n",
        "- Puede demostrarse que la transformada inversa de Laplace $x(t) = \\mathfrak{L}^{-1} \\{ X(s) \\}$ se determina de forma única."
      ]
    },
    {
      "cell_type": "markdown",
      "metadata": {
        "id": "Z4x5oCB5LjvN"
      },
      "source": [
        "### Fórmula Integral\n",
        "\n",
        "Usando los resultados del análisis complejo, la transformada inversa de Laplace viene dada por la siguiente integral de línea compleja:\n",
        "\n",
        "\\begin{equation}\n",
        "x(t) = \\frac{1}{2 \\pi j} \\int_{\\sigma - j \\infty}^{\\sigma + j \\infty} X(s) \\, e^{s t} \\; ds\n",
        "\\end{equation}\n",
        "donde se asume que $X(s) = \\mathfrak{L} \\{ x(t) \\}$  es analítica en su ROC. La notación $\\sigma \\mp j \\infty$ para los límites de integración denota una región arbitraria de integración que descansa en la ROC y para $\\Im \\{s\\} = - \\infty$ a $\\Im \\{s\\} = + \\infty$.\n",
        "\n",
        "La ruta de integración se puede elegir paralela al eje imaginario, pero también son posibles todas las demás rutas en la ROC. Esto resulta del [teorema de integral de Cauchy](https://en.wikipedia.org/wiki/Cauchy's_integral_theorem)."
      ]
    },
    {
      "cell_type": "markdown",
      "metadata": {
        "id": "SLP6ihJSLjvQ"
      },
      "source": [
        "### Transformadas de Laplace racionales\n",
        "\n",
        "El cálculo de la transformada inversa de Laplace mediante la integral puede ser trabajoso.\n",
        "\n",
        "El [teorema del residuo de Cauchy](https://en.wikipedia.org/wiki/Residue_theorem) da una solución práctica para las transformadas de Laplace $X(s) = \\mathfrak{L} \\{ x(t) \\}$ que están dadas como funciones racionales.\n",
        "\n",
        "Establece que el valor de una integral de línea de una función holomórfica sobre un contorno cerrado se da al resumir sus [residuos](https://en.wikipedia.org/wiki/Residue_theorem).\n",
        "\n",
        "El residuo es el valor de la integral de línea para una ruta que encierra una singularidad. En consecuencia, la transformada inversa de Laplace de una transformada de Laplace racional se puede calcular sumando las contribuciones individuales de sus polos."
      ]
    },
    {
      "cell_type": "markdown",
      "metadata": {
        "id": "-jQ2wkx2LjvV"
      },
      "source": [
        "#### Procedimiento básico\n",
        "\n",
        "Una transformada de Laplace  $X(s)$ racional puede ser escrita en términos de polinomios en el numerador y en el denominador:\n",
        "\n",
        "\\begin{equation}\n",
        "X(s) = \\frac{\\sum_{m=0}^{M} \\beta_m s^m}{\\sum_{n=0}^{N} \\alpha_n s^n}\n",
        "\\end{equation}\n",
        "donde $M$, $N$ son el orden de los polinomios del numerador y del denominador y $\\beta_m$, $\\alpha_n$ son sus coeficientes, respectivamente.\n",
        "\n",
        "Se asume que $\\alpha_N \\neq 0$ y que $M \\leq N$. Si $M > N$, $X(s)$  se puede descomponer por [división polinomial](https://en.wikipedia.org/wiki/Polynomial_long_division) dentro de una suma de potencias de $s$ y una función racional cumpliendo que $M \\leq N$.\n",
        "\n",
        "Ahora, la [descomposición en fracciones parciales](https://en.wikipedia.org/wiki/Partial_fraction_decomposition) de $X(s)$ se puede escribir como:\n",
        "\n",
        "\\begin{equation}\n",
        "X(s) = A_0 + \\sum_{\\mu = 1}^{L} \\sum_{\\nu = 1}^{R_\\mu} \\frac{A_{\\mu \\nu}}{(s - s_{\\infty \\mu})^\\nu}\n",
        "\\end{equation}\n",
        "donde $s_{\\infty \\mu}$ es el $\\mu$-th polo único de $X(s)$, $R_\\mu$ su grado y $L$ el número total de polos $\\mu = \\{1, \\dots, L\\}$.\n",
        "\n",
        "Utilizando las transformadas conocidas de Laplace (Ver [tablas de transformadas](https://github.com/amalvarezme/SenalesSistemas/blob/master/4_Transformada_Laplace/Laplace_Table.pdf)), por ejemplo:\n",
        "\n",
        "\\begin{equation}\n",
        "\\mathfrak{L} \\{ t^n e^{-s_0 t} \\epsilon(t) \\} = \\frac{n!}{(s + s_0)^{n+1}} \\qquad \\text{for } \\Re \\{ s \\} > \\Re \\{ - s_0 \\}\n",
        "\\end{equation}\n",
        "\n",
        "y $\\mathfrak{L} \\{ \\delta(t) \\} = 1$, junto con la linealidad de la transformada de Laplace, resulta en una expresión genérica para la transformada inversa $x(t) = \\mathfrak{L}^{-1} \\{ X(s) \\}$\n",
        "\n",
        "\\begin{equation}\n",
        "x(t) = A_0 \\cdot \\delta(t) + \\epsilon(t) \\sum_{\\mu = 1}^{L} e^{s_{\\infty \\mu} t} \\sum_{\\nu = 1}^{R_\\mu} \\frac{A_{\\mu \\nu} \\, t^{\\mu - 1}}{(\\nu -1)!}\n",
        "\\end{equation}\n",
        "\n",
        "Sin embargo, se deben calcular los coeficientes $A_0$ y $A_{\\mu \\nu}$ de la descomposición en fracciones parciales.\n",
        "\n",
        "El coeficiente constante $A_0$ está dado por:\n",
        "\n",
        "\\begin{equation}\n",
        "A_0 = \\lim_{s \\to \\infty} X(s)\n",
        "\\end{equation}\n",
        "\n",
        "Para un polo $s_{\\infty \\mu}$ con grado $R_\\mu = 1$, el coeficiente $A_{\\mu 1}$ es:\n",
        "\n",
        "\\begin{equation}\n",
        "A_{\\mu 1} = \\lim_{s \\to s_{\\infty \\mu}} \\left( X(s) \\cdot (s - s_{\\infty \\mu}) \\right)\n",
        "\\end{equation}\n",
        "\n",
        "Para un polo $s_{\\infty \\mu}$ de grado $R_\\mu > 1$, los coeficientes $A_{\\mu \\nu}$ son:\n",
        "\n",
        "\\begin{equation}\n",
        "A_{\\mu \\nu} = \\frac{1}{(R_\\mu - \\nu)!} \\lim_{s \\to s_{\\infty \\mu}} \\frac{d^{R_\\mu - \\nu}}{d s^{R_\\mu - \\nu}} \\left( X(s) \\cdot (s - s_{\\infty \\mu})^{R_\\mu} \\right)\n",
        "\\end{equation}"
      ]
    },
    {
      "cell_type": "markdown",
      "metadata": {
        "id": "2EnGvFCGLjvX"
      },
      "source": [
        "#### Clasificación de polos\n",
        "\n",
        "- El anterior procedimiento permite calcular la transformada inversa de Laplace $x(t) = \\mathfrak{L}^{-1} \\{ X(s) \\}$ de una transfromada de Laplace racional $X(s)$ de manera mecánica.\n",
        "\n",
        "- Es muy adecuado para una realización algorítmica. Sin embargo, para el cálculo manual puede ser más eficiente clasificar los polos con respecto a su ubicación en el plano $ s $ y sus simetrías.\n",
        "\n",
        "- La clasificación se puede usar para formular una descomposición de fracción parcial modificada que limita la necesidad de una posterior simplificación algebraica de la transformada de Laplace inversa.\n",
        "\n",
        "- Tres clases de polos son comunmente considerados:\n",
        "\n",
        "| Tipo | Diagrama de Polos y Ceros | $X(s)$ | $x(t) = \\mathfrak{L}^{-1} \\{ X(s) \\} \\qquad \\qquad$ |\n",
        "|---|:---:|:---:|:---:|\n",
        "| Un polo complejo | ![Un polo](https://github.com/amalvarezme/SenalesSistemas/blob/master/4_Transformada_Laplace/single_pole.png?raw=1) | $\\frac{n!}{(s + s_0)^{n+1}}$ | $t^n e^{-s_0 t} \\epsilon(t)$ |\n",
        "| Polos imaginarios conjugados| ![Imaginarios conjugados](https://github.com/amalvarezme/SenalesSistemas/blob/master/4_Transformada_Laplace/conjugated_imaginary_poles.png?raw=1) | $\\frac{A s + B}{s^2 + \\omega_0^2}$ | $\\begin{cases} \\sin(\\omega_0 t) \\epsilon(t) \\\\ \\cos(\\omega_0 t) \\epsilon(t) \\end{cases}$ |\n",
        "| Polos complejos conjugados| ![Complejos conjugados](https://github.com/amalvarezme/SenalesSistemas/blob/master/4_Transformada_Laplace/conjugated_complex_poles.png?raw=1) | $\\frac{A s + B}{(s + \\sigma_0)^2 + \\omega_0^2}$ | $\\begin{cases} e^{-\\sigma_0 t} \\sin(\\omega_0 t) \\epsilon(t) \\\\ e^{-\\sigma_0 t} \\cos(\\omega_0 t) \\epsilon(t) \\end{cases}$ |\n",
        "\n",
        "Donde $s_0 \\in \\mathbb{C}$ y $\\omega_0, \\sigma_0 \\in \\mathbb{R}$.\n",
        "\n",
        "- Los coeficientes de expansión $A, B \\in \\mathbb{R}$ se pueden derivar por comparación coeficientes. Si $x(t)$ contiene un seno o un coseno, depende del coeficiente $A$.\n",
        "\n",
        "- Si $A \\neq 0$ luego $x(t)$ contiene un coseno."
      ]
    },
    {
      "cell_type": "markdown",
      "metadata": {
        "id": "K37c2dY8Ljva"
      },
      "source": [
        "#### Ejemplo - Tranformada inversa de una transformada racional de Laplace\n",
        "\n",
        "Determine la transformada inversa $x(t) = \\mathfrak{L}^{-1} \\{ X(s) \\}$ de:\n",
        "\n",
        "\\begin{equation}\n",
        "X(s) = \\frac{2 s^2 + 14 s + 124}{s^3 + 8 s^2 + 46 s + 68} \\qquad \\text{for } \\Re \\{s \\} > -2\n",
        "\\end{equation}\n",
        "\n",
        "Primero se define la función $X(s)$ con `SymPy`."
      ]
    },
    {
      "cell_type": "code",
      "execution_count": null,
      "metadata": {
        "colab": {
          "base_uri": "https://localhost:8080/",
          "height": 55
        },
        "id": "0UPcCDrFLjvd",
        "outputId": "bb5ff717-d7e4-469f-fdec-9bc5c5981a86"
      },
      "outputs": [
        {
          "output_type": "execute_result",
          "data": {
            "image/png": "[encoded data removed]",
            "text/latex": "$\\displaystyle \\frac{2 s^{2} + 14 s + 124}{s^{3} + 8 s^{2} + 46 s + 68}$",
            "text/plain": [
              "     2               \n",
              "  2⋅s  + 14⋅s + 124  \n",
              "─────────────────────\n",
              " 3      2            \n",
              "s  + 8⋅s  + 46⋅s + 68"
            ]
          },
          "metadata": {},
          "execution_count": 1
        }
      ],
      "source": [
        "%matplotlib inline\n",
        "import sympy as sym\n",
        "sym.init_printing()\n",
        "\n",
        "s = sym.symbols('s', complex=True)\n",
        "t = sym.symbols('t', real=True)\n",
        "\n",
        "X = (2*s**2 + 14*s + 124)/(s**3 + 8 * s**2 + 46*s + 68)\n",
        "X"
      ]
    },
    {
      "cell_type": "markdown",
      "metadata": {
        "id": "WdfiHYoFLjvr"
      },
      "source": [
        "Los polos de $X(s)$ son obtenidos al calcular las raices del polinomio del denominador."
      ]
    },
    {
      "cell_type": "code",
      "execution_count": null,
      "metadata": {
        "colab": {
          "base_uri": "https://localhost:8080/",
          "height": 38
        },
        "id": "kCEEASs4Ljvu",
        "outputId": "9baa9fe6-dbb9-45ae-eb0b-5f2c78a5b7c1"
      },
      "outputs": [
        {
          "output_type": "execute_result",
          "data": {
            "image/png": "[encoded data removed]",
            "text/latex": "$\\displaystyle \\left\\{ -2 : 1, \\  -3 - 5 i : 1, \\  -3 + 5 i : 1\\right\\}$",
            "text/plain": [
              "{-2: 1, -3 - 5⋅ⅈ: 1, -3 + 5⋅ⅈ: 1}"
            ]
          },
          "metadata": {},
          "execution_count": 2
        }
      ],
      "source": [
        "poles = sym.roots(sym.denom(X))\n",
        "poles"
      ]
    },
    {
      "cell_type": "markdown",
      "metadata": {
        "id": "5oNpCh2ILjv4"
      },
      "source": [
        "El resultado es un polo real y un par de polos complejos conjugados. De acuerdo a la clasificación de polos, se escoge el siguiente método de fracciones parciales:\n",
        "\n",
        "\\begin{equation}\n",
        "X_p(s) = \\frac{A}{s + 2} + \\frac{B s + C}{s^2 + 6s + 34}\n",
        "\\end{equation}\n",
        "\n",
        "Los coeficientes $A, B, C \\in \\mathbb{R}$ son obtenidos al igualar los coeficientes con $X(s)$."
      ]
    },
    {
      "cell_type": "code",
      "execution_count": null,
      "metadata": {
        "colab": {
          "base_uri": "https://localhost:8080/",
          "height": 38
        },
        "id": "juaRecT3Ljv7",
        "outputId": "80646f3d-865f-4959-9d1a-f009a8d89ea8"
      },
      "outputs": [
        {
          "output_type": "execute_result",
          "data": {
            "image/png": "[encoded data removed]",
            "text/latex": "$\\displaystyle \\left\\{ A : 4, \\  B : -2, \\  C : -6\\right\\}$",
            "text/plain": [
              "{A: 4, B: -2, C: -6}"
            ]
          },
          "metadata": {},
          "execution_count": 3
        }
      ],
      "source": [
        "A, B, C = sym.symbols('A B C', real=True)\n",
        "#expresión en fracciones parciales\n",
        "Xp = A / (s+2) + (B*s + C)/(s**2 + 6*s + 34)\n",
        "#resolver coeficientes por igualación de expresiones\n",
        "coeffs = sym.solve(sym.Eq(X, Xp), (A, B, C))\n",
        "coeffs"
      ]
    },
    {
      "cell_type": "markdown",
      "metadata": {
        "id": "_gbLFpRELjwD"
      },
      "source": [
        "Al reemplazar los coeficientes en $X_p(s)$ resulta en:"
      ]
    },
    {
      "cell_type": "code",
      "execution_count": null,
      "metadata": {
        "colab": {
          "base_uri": "https://localhost:8080/",
          "height": 52
        },
        "id": "Xo6eafUoLjwF",
        "outputId": "e634a26d-8163-4bda-ff74-628eadc65ed6"
      },
      "outputs": [
        {
          "output_type": "execute_result",
          "data": {
            "image/png": "[encoded data removed]",
            "text/latex": "$\\displaystyle \\frac{- 2 s - 6}{s^{2} + 6 s + 34} + \\frac{4}{s + 2}$",
            "text/plain": [
              "   -2⋅s - 6       4  \n",
              "───────────── + ─────\n",
              " 2              s + 2\n",
              "s  + 6⋅s + 34        "
            ]
          },
          "metadata": {},
          "execution_count": 4
        }
      ],
      "source": [
        "Xp = Xp.subs(coeffs)\n",
        "Xp"
      ]
    },
    {
      "cell_type": "markdown",
      "metadata": {
        "id": "taJmAxsXLjwO"
      },
      "source": [
        "La primera fracción pertenece a los polos complejos conjugados. Al [completar el cuadrado](https://en.wikipedia.org/wiki/Completing_the_square) en el denominador, su inversa puede ser identificada en la tabla de transformadas como una señal coseno que decrece exponencialmente. Realizando la transformada inversa de Laplace con `SymPy`:"
      ]
    },
    {
      "cell_type": "code",
      "execution_count": null,
      "metadata": {
        "colab": {
          "base_uri": "https://localhost:8080/",
          "height": 38
        },
        "id": "iEHC_rO4LjwT",
        "outputId": "f97342c2-e949-4182-f2ef-1e5ba35058f1"
      },
      "outputs": [
        {
          "output_type": "execute_result",
          "data": {
            "image/png": "[encoded data removed]",
            "text/latex": "$\\displaystyle - 2 e^{- 3 t} \\cos{\\left(5 t \\right)} \\theta\\left(t\\right)$",
            "text/plain": [
              "    -3⋅t              \n",
              "-2⋅ℯ    ⋅cos(5⋅t)⋅θ(t)"
            ]
          },
          "metadata": {},
          "execution_count": 5
        }
      ],
      "source": [
        "x1 = sym.inverse_laplace_transform(Xp.args[1], s, t) #trasformada inversa del segundo componente\n",
        "x1"
      ]
    },
    {
      "cell_type": "markdown",
      "metadata": {
        "id": "g7FFBVRMLjwk"
      },
      "source": [
        "La segunda fracción corresponde a un polo real de primer orden. Su transformada inversa de Laplace se puede hallar en la tabla de transformadas, la cual es una señal exponencial que decae. Realizando la transformada inversa de Laplace con `SymPy`:"
      ]
    },
    {
      "cell_type": "code",
      "execution_count": null,
      "metadata": {
        "colab": {
          "base_uri": "https://localhost:8080/",
          "height": 38
        },
        "id": "IQ0iOU7XLjwn",
        "outputId": "78a2f665-74db-4a76-a158-f6ba3e100049"
      },
      "outputs": [
        {
          "output_type": "execute_result",
          "data": {
            "image/png": "[encoded data removed]",
            "text/latex": "$\\displaystyle 4 e^{- 2 t} \\theta\\left(t\\right)$",
            "text/plain": [
              "   -2⋅t     \n",
              "4⋅ℯ    ⋅θ(t)"
            ]
          },
          "metadata": {},
          "execution_count": 6
        }
      ],
      "source": [
        "x2 = sym.inverse_laplace_transform(Xp.args[0], s, t)#transformada inversa del primer componente\n",
        "x2"
      ]
    },
    {
      "cell_type": "markdown",
      "metadata": {
        "id": "o3wSq1PqLjwv"
      },
      "source": [
        "La transformada inversa de Laplace de $X(s)$ está dada por la suma de las dos partes descritas anteriormente:"
      ]
    },
    {
      "cell_type": "code",
      "execution_count": null,
      "metadata": {
        "colab": {
          "base_uri": "https://localhost:8080/",
          "height": 38
        },
        "id": "jmfNuGlCLjwx",
        "outputId": "61219e71-6531-4caf-b252-8929c1a2846b"
      },
      "outputs": [
        {
          "output_type": "execute_result",
          "data": {
            "image/png": "[encoded data removed]",
            "text/latex": "$\\displaystyle 4 e^{- 2 t} \\theta\\left(t\\right) - 2 e^{- 3 t} \\cos{\\left(5 t \\right)} \\theta\\left(t\\right)$",
            "text/plain": [
              "   -2⋅t           -3⋅t              \n",
              "4⋅ℯ    ⋅θ(t) - 2⋅ℯ    ⋅cos(5⋅t)⋅θ(t)"
            ]
          },
          "metadata": {},
          "execution_count": 7
        }
      ],
      "source": [
        "x = x1 + x2\n",
        "x"
      ]
    },
    {
      "cell_type": "markdown",
      "metadata": {
        "id": "-zLtWRzoLjw5"
      },
      "source": [
        "Se grafican los resultados:"
      ]
    },
    {
      "cell_type": "code",
      "execution_count": null,
      "metadata": {
        "colab": {
          "base_uri": "https://localhost:8080/",
          "height": 297
        },
        "id": "tatKDhk1Ljw8",
        "outputId": "d5ca1b19-f5bb-44cb-b3e3-94983f107200"
      },
      "outputs": [
        {
          "output_type": "display_data",
          "data": {
            "image/png": "[encoded data removed]",
            "text/plain": [
              "<Figure size 432x288 with 1 Axes>"
            ]
          },
          "metadata": {
            "needs_background": "light"
          }
        }
      ],
      "source": [
        "sym.plot(x, (t, -0.1, 4), xlabel='$t$', ylabel='$x(t)$');"
      ]
    },
    {
      "cell_type": "markdown",
      "metadata": {
        "id": "itSiYlz_LjxE"
      },
      "source": [
        "El mismo resultado se puede obtener directamente de $X(s)$ usando la transformada inversa de Laplace de `SymPy`:\n",
        "\n",
        "Nota: la operación inversa de simpy puede ser costosa computacionalmente, se sugiere utilizar fracciones parciales para simplificar los cálculos."
      ]
    },
    {
      "cell_type": "code",
      "execution_count": null,
      "metadata": {
        "colab": {
          "base_uri": "https://localhost:8080/",
          "height": 39
        },
        "id": "5UHRRl8XLjxF",
        "outputId": "5045e9ab-f7a4-49f2-9ef8-71bd241eb91a"
      },
      "outputs": [
        {
          "output_type": "execute_result",
          "data": {
            "image/png": "[encoded data removed]",
            "text/latex": "$\\displaystyle 2 \\left(2 e^{t} - \\cos{\\left(5 t \\right)}\\right) e^{- 3 t} \\theta\\left(t\\right)$",
            "text/plain": [
              "  ⎛   t           ⎞  -3⋅t     \n",
              "2⋅⎝2⋅ℯ  - cos(5⋅t)⎠⋅ℯ    ⋅θ(t)"
            ]
          },
          "metadata": {},
          "execution_count": 9
        }
      ],
      "source": [
        "sym.inverse_laplace_transform(X, s, t).simplify() #sin embargo puede ser más costoso computacionalmente"
      ]
    },
    {
      "cell_type": "markdown",
      "metadata": {
        "id": "UrkR89D_LjxN"
      },
      "source": [
        "**Ejercicio**\n",
        "\n",
        "* Obtener la transformada inversa de Laplace de $X(s)$ manualmente.\n",
        "* Obtener la transformada inversa de Laplace de\n",
        "    \\begin{equation}\n",
        "    X(s) = \\frac{1}{(s+1)(s+2)^2} \\qquad \\text{for } \\Re \\{ s \\} \\geq -1\n",
        "    \\end{equation}\n",
        "    manualmente. Comprobar los resultados utilizando `SymPy`."
      ]
    },
    {
      "cell_type": "markdown",
      "metadata": {
        "id": "ooMqDzvNLjxP",
        "nbsphinx": "hidden"
      },
      "source": [
        "**Copyright**\n",
        "\n",
        "The notebooks are provided as [Open Educational Resource](https://de.wikipedia.org/wiki/Open_Educational_Resources). Feel free to use the notebooks for your own educational purposes. The text is licensed under [Creative Commons Attribution 4.0](https://creativecommons.org/licenses/by/4.0/), the code of the IPython examples under the [MIT license](https://opensource.org/licenses/MIT). Please attribute the work as follows: *Lecture Notes on Signals and Systems* by Sascha Spors."
      ]
    },
    {
      "cell_type": "markdown",
      "source": [
        "###  Solución manual\n",
        "\n",
        "Queremos hallar:\n",
        "\n",
        "$$\n",
        "X(s) = \\frac{1}{(s + 1)(s + 2)^2}\n",
        "$$\n",
        "\n",
        "---\n",
        "\n",
        "#### 🔹 Paso 1: Descomposición en fracciones parciales\n",
        "\n",
        "Planteamos:\n",
        "\n",
        "$$\n",
        "X(s) = \\frac{A}{s + 1} + \\frac{B}{s + 2} + \\frac{C}{(s + 2)^2}\n",
        "$$\n",
        "\n",
        "Multiplicamos ambos lados por $(s + 1)(s + 2)^2$:\n",
        "\n",
        "$$\n",
        "1 = A(s + 2)^2 + B(s + 1)(s + 2) + C(s + 1)\n",
        "$$\n",
        "\n",
        "Expandimos:\n",
        "\n",
        "- $A(s + 2)^2 = A(s^2 + 4s + 4)$  \n",
        "- $B(s + 1)(s + 2) = B(s^2 + 3s + 2)$  \n",
        "- $C(s + 1) = Cs + C$\n",
        "\n",
        "Sumamos:\n",
        "\n",
        "$$\n",
        "1 = (A + B)s^2 + (4A + 3B + C)s + (4A + 2B + C)\n",
        "$$\n",
        "\n",
        "Igualamos coeficientes con el lado izquierdo ($1$):\n",
        "\n",
        "\\[\n",
        "\\begin{aligned}\n",
        "A + B &= 0 \\\\\n",
        "4A + 3B + C &= 0 \\\\\n",
        "4A + 2B + C &= 1\n",
        "\\end{aligned}\n",
        "\\]\n",
        "\n",
        "Resolviendo el sistema:\n",
        "\n",
        "- $A = 1$  \n",
        "- $B = -1$  \n",
        "- $C = -1$\n",
        "\n",
        "Entonces:\n",
        "\n",
        "$$\n",
        "X(s) = \\frac{1}{s + 1} - \\frac{1}{s + 2} - \\frac{1}{(s + 2)^2}\n",
        "$$\n",
        "\n",
        "---\n",
        "\n",
        "#### 🔹 Paso 2: Transformada inversa\n",
        "\n",
        "Usamos las fórmulas conocidas:\n",
        "\n",
        "- $\\mathcal{L}^{-1}\\left\\{ \\frac{1}{s + a} \\right\\} = e^{-at} \\cdot \\epsilon(t)$  \n",
        "- $\\mathcal{L}^{-1}\\left\\{ \\frac{1}{(s + a)^2} \\right\\} = t e^{-at} \\cdot \\epsilon(t)$\n",
        "\n",
        "Aplicando:\n",
        "\n",
        "$$\n",
        "x(t) = e^{-t} - e^{-2t} - t e^{-2t}, \\quad \\text{para } t \\geq 0\n",
        "$$\n",
        "\n",
        "---"
      ],
      "metadata": {
        "id": "UPpw44B2ApVk"
      }
    },
    {
      "cell_type": "code",
      "metadata": {
        "colab": {
          "base_uri": "https://localhost:8080/",
          "height": 39
        },
        "id": "290536c9",
        "outputId": "0477e7f4-0eec-42c3-a4b6-167d1da8f4fd"
      },
      "source": [
        "import sympy as sym\n",
        "\n",
        "s, t = sym.symbols('s t', real=True)\n",
        "\n",
        "# Define the Laplace transform function X(s)\n",
        "X_s = 1 / ((s + 1) * (s + 2)**2)\n",
        "\n",
        "# Calculate the inverse Laplace transform using SymPy\n",
        "x_sympy = sym.inverse_laplace_transform(X_s, s, t)\n",
        "x_sympy"
      ],
      "execution_count": 4,
      "outputs": [
        {
          "output_type": "execute_result",
          "data": {
            "text/plain": [
              "-t*exp(-2*t)*Heaviside(t) + exp(-t)*Heaviside(t) - exp(-2*t)*Heaviside(t)"
            ],
            "text/latex": "$\\displaystyle - t e^{- 2 t} \\theta\\left(t\\right) + e^{- t} \\theta\\left(t\\right) - e^{- 2 t} \\theta\\left(t\\right)$"
          },
          "metadata": {},
          "execution_count": 4
        }
      ]
    }
  ],
  "metadata": {
    "colab": {
      "provenance": [],
      "include_colab_link": true
    },
    "kernelspec": {
      "display_name": "Python 3",
      "language": "python",
      "name": "python3"
    },
    "language_info": {
      "codemirror_mode": {
        "name": "ipython",
        "version": 3
      },
      "file_extension": ".py",
      "mimetype": "text/x-python",
      "name": "python",
      "nbconvert_exporter": "python",
      "pygments_lexer": "ipython3",
      "version": "3.7.1"
    }
  },
  "nbformat": 4,
  "nbformat_minor": 0
}