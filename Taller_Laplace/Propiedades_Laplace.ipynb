{
  "cells": [
    {
      "cell_type": "markdown",
      "metadata": {
        "id": "view-in-github",
        "colab_type": "text"
      },
      "source": [
        "<a href=\"https://colab.research.google.com/github/vlopezma/SyS_25-1/blob/main/SyS_25-1%20/Taller_Laplace/Propiedades_Laplace.ipynb\" target=\"_parent\"><img src=\"https://colab.research.google.com/assets/colab-badge.svg\" alt=\"Open In Colab\"/></a>"
      ]
    },
    {
      "cell_type": "markdown",
      "metadata": {
        "id": "q9ciXsNS0maR",
        "nbsphinx": "hidden"
      },
      "source": [
        "# Transformada de Laplace\n",
        "\n",
        "*This Jupyter notebook is part of a [collection of notebooks](../index.ipynb) in the bachelors module Signals and Systems, Communications Engineering, Universität Rostock. Please direct questions and suggestions to [Sascha.Spors@uni-rostock.de](mailto:Sascha.Spors@uni-rostock.de).*"
      ]
    },
    {
      "cell_type": "markdown",
      "metadata": {
        "id": "Uw9f3YNk0maW"
      },
      "source": [
        "## Propiedades\n",
        "\n",
        "La transformada de Laplace tiene una serie de propiedades específicas que pueden obtenerse  directamente a partir de su definición. Las más importantes en el contexto de señales y sistemas se revisan a continuación."
      ]
    },
    {
      "cell_type": "markdown",
      "metadata": {
        "id": "mek1Dzlc0maZ"
      },
      "source": [
        "### Linealidad\n",
        "\n",
        "La transformada de Laplace es una transformación lineal, como se puede concluir directamente de su definición. Para dos señales $x_1(t)$ y $x_2(t)$ con transformadas de Laplace $X_1(s) = \\mathfrak{L} \\{ x_1(t) \\}$ y $X_2(s) = \\mathfrak{L} \\{ x_2(t) \\}$, se tiene que:\n",
        "\n",
        "\\begin{equation}\n",
        "\\mathfrak{L} \\{ A \\cdot x_1(t) + B \\cdot x_2(t) \\} = A \\cdot X_1(s) + B \\cdot X_2(s)\n",
        "\\end{equation}\n",
        "con $A, B \\in \\mathbb{C}$.\n",
        "\n",
        "La región de convergencia (ROC) de la superposición $A x_1(t) + B x_2(t)$ incluye la intersección de las ROCs de $x_1(t)$ y $x_2(t)$:\n",
        "\n",
        "\\begin{equation}\n",
        "\\text{ROC} \\{ A \\cdot x_1(t) + B \\cdot x_2(t) \\} \\supseteq \\text{ROC} \\{ x_1(t) \\} \\cap \\text{ROC} \\{ x_2(t) \\}\n",
        "\\end{equation}\n",
        "\n",
        "La transformada de Laplace de una superposición ponderada de señales es igual a la superposición ponderada de las transformadas de Laplace individuales. Esta propiedad es útil para derivar la transformada de Laplace de señales que pueden expresarse como superposición de otras señales cuyas transformadas de Laplace son conocidas o pueden calcularse más fácilmente."
      ]
    },
    {
      "cell_type": "markdown",
      "metadata": {
        "id": "s7dMDmLC0mac"
      },
      "source": [
        "#### Transformada de señales seno y coseno\n",
        "\n",
        "La transformada de Laplace de una señal coseno causal $\\epsilon(t) \\cdot \\cos(\\omega_0 t)$ y una señal seno causal $\\epsilon(t) \\cdot \\sin(\\omega_0 t)$ se deriva de la expresión de un coseno/seno como una suma de señales armónicas exponenciales, utilizando la [fórmula de Euler](https://en.wikipedia.org/wiki/Euler's_formula):\n",
        "\n",
        "\\begin{align}\n",
        "\\cos(\\omega_0 t) &= \\frac{1}{2} \\left( e^{j \\omega_0 t} + e^{-j \\omega_0 t} \\right) \\\\\n",
        "\\sin(\\omega_0 t) &= \\frac{1}{2j} \\left( e^{j \\omega_0 t} - e^{-j \\omega_0 t} \\right)\n",
        "\\end{align}\n",
        "\n",
        "La transformada de Laplace de una [señal exponencial compleja causal](Definicion.ipynb#Transformation-of-the-Causal-Complex-Exponential-Signal) es\n",
        "\n",
        "\\begin{equation}\n",
        "\\mathfrak{L} \\{ \\epsilon(t) \\cdot e^{-s_0 t} \\} = \\frac{1}{s + s_0} \\qquad \\text{for } \\Re \\{ s \\} > \\Re \\{ - s_0 \\}\n",
        "\\end{equation}\n",
        "\n",
        "Usando la linealidad de la transformada de Laplace:\n",
        "\n",
        "\\begin{equation}\n",
        "\\mathfrak{L} \\{ \\epsilon(t) \\cdot \\cos(\\omega_0 t) \\} =\n",
        "\\frac{1}{2} \\left( \\frac{1}{s - j \\omega_0} + \\frac{1}{s + j \\omega_0} \\right) = \\frac{s}{s^2 + \\omega_0^2}\n",
        "\\qquad \\text{; para } \\Re \\{ s \\} > 0\n",
        "\\end{equation}\n",
        "\n",
        "y\n",
        "\n",
        "\\begin{equation}\n",
        "\\mathfrak{L} \\{ \\epsilon(t) \\cdot \\sin(\\omega_0 t) \\} =\n",
        "\\frac{1}{2j} \\left( \\frac{1}{s - j \\omega_0} - \\frac{1}{s + j \\omega_0} \\right) = \\frac{\\omega_0}{s^2 + \\omega_0^2}\n",
        "\\qquad \\text{; para } \\Re \\{ s \\} > 0\n",
        "\\end{equation}"
      ]
    },
    {
      "cell_type": "markdown",
      "metadata": {
        "id": "G_4wYzjR0mag"
      },
      "source": [
        "**Ejemplo - Transformada de una señal coseno**\n",
        "\n",
        "La transformada de Laplace de una señal coseno causal se calcula con `Sympy`"
      ]
    },
    {
      "cell_type": "code",
      "execution_count": null,
      "metadata": {
        "colab": {
          "base_uri": "https://localhost:8080/",
          "height": 57
        },
        "id": "AYmSbkV30mai",
        "outputId": "bb5462d9-31ca-47d9-cdab-795a2fea7eee"
      },
      "outputs": [
        {
          "output_type": "execute_result",
          "data": {
            "image/png": "[encoded data removed]",
            "text/latex": "$\\displaystyle \\left( \\frac{\\omega_{0}}{\\omega_{0}^{2} + s^{2}}, \\  0, \\  2 \\left|{\\arg{\\left(\\omega_{0} \\right)}}\\right| = 0\\right)$",
            "text/plain": [
              "⎛   ω₀                       ⎞\n",
              "⎜────────, 0, 2⋅│arg(ω₀)│ = 0⎟\n",
              "⎜  2    2                    ⎟\n",
              "⎝ω₀  + s                     ⎠"
            ]
          },
          "metadata": {},
          "execution_count": 3
        }
      ],
      "source": [
        "%matplotlib inline\n",
        "import sympy as sym\n",
        "sym.init_printing()\n",
        "#se definen las variables simbólicas y se aplica la función de laplace de sympy\n",
        "t, w0 = sym.symbols('t omega0', real=True)\n",
        "s = sym.symbols('s', complex=True)\n",
        "\n",
        "x = sym.sin(w0*t)\n",
        "X, a, cond = sym.laplace_transform(x, t, s)\n",
        "X, a, cond"
      ]
    },
    {
      "cell_type": "markdown",
      "metadata": {
        "id": "nhY4XwTc0maw"
      },
      "source": [
        "**Ejercicio**\n",
        "\n",
        "* Determinar los polos y ceros de la transformada de Laplace $\\mathsf{L} \\{ \\epsilon(t) \\cdot \\sin(\\omega_0 t) \\}$ mediante el cálculo manual y extendiendo el ejemplo anterior. Qué simetría muestran los polos y los ceros en el plano $s$?"
      ]
    },
    {
      "cell_type": "markdown",
      "metadata": {
        "id": "gEsQncod0maz"
      },
      "source": [
        "### Simetría para señales reales\n",
        "\n",
        "La transformada de Laplace del complejo conjugado $x^*(t)$ de una señal $x(t)$ está dada por:\n",
        "\n",
        "\\begin{equation}\n",
        "\\mathfrak{L} \\{ x^*(t) \\} = \\int_{-\\infty}^{\\infty} x^*(t) \\, e^{-s t} dt\n",
        "= \\left( \\int_{-\\infty}^{\\infty} x(t) \\, e^{-s^* t} dt \\right)^*\n",
        "= X^*(s^*)\n",
        "\\end{equation}\n",
        "\n",
        "Donde $X(s) = \\mathfrak{L} \\{ x(t) \\}$. La ROC para $x^*(t)$ es igual a la ROC para $x(t)$. El resultado anterior se utiliza para obtener la transformada de Laplace de la parte real de la señal $x(t)$\n",
        "\n",
        "\\begin{equation}\n",
        "\\mathfrak{L} \\left\\{ \\Re \\{ x(t) \\} \\right\\} = \\mathfrak{L} \\left\\{ \\frac{1}{2} [ x(t) + x^*(t) ] \\right\\} = \\frac{1}{2} \\left[ X(s) + X^*(s^*) \\right]\n",
        "\\end{equation}\n",
        "\n",
        "y la parte imaginaria\n",
        "\n",
        "\\begin{equation}\n",
        "\\mathfrak{L} \\left\\{ \\Im \\{ x(t) \\} \\right\\} = \\mathfrak{L} \\left\\{ \\frac{1}{2j} [ x(t) - x^*(t) ] \\right\\} = \\frac{1}{2j} \\left[ X(s) - X^*(s^*) \\right]\n",
        "\\end{equation}\n",
        "\n",
        "Para una señal real $x(t) \\in \\mathbb{R}$ con $\\Im \\{ x(t) \\} = 0$ se tiene que\n",
        "\n",
        "\\begin{equation}\n",
        "X(s) = X^*(s^*)\n",
        "\\end{equation}\n",
        "\n",
        "Se puede concluir que la transformada de Laplace de una señal real muestra una simetría conjugada compleja.\n",
        "\n",
        "La parte real / imaginaria de la transformada de Laplace muestra simetría par / impar\n",
        "\n",
        "\\begin{align}\n",
        "\\Re \\{ X(s) \\} &= \\Re \\{ X(-s) \\} \\\\\n",
        "\\Im \\{ X(s) \\} &= - \\Im \\{ X(-s) \\}\n",
        "\\end{align}\n",
        "\n",
        "respectivamente y en consecuencia su magnitud / fase muestra también simetría par / impar\n",
        "\n",
        "\\begin{align}\n",
        "|X(s)| &= |X(-s)| \\\\\n",
        "\\varphi(s) &= - \\varphi(-s)\n",
        "\\end{align}\n",
        "\n",
        "Donde $\\varphi(s) = \\arg \\{ H(s) \\}$.\n",
        "\n",
        "Los polos y ceros de una transformada de Laplace que puede ser expresada como una función racional en $s$\n",
        "\n",
        "\\begin{equation}\n",
        "X(s) = \\frac{\\sum_{m=0}^{M} \\beta_m s^m}{\\sum_{n=0}^{N} \\alpha_n s^n} = K \\cdot \\frac{\\prod_{\\mu=0}^{Q} (s - s_{0 \\mu})}{\\prod_{\\nu=0}^{P} (s - s_{\\infty \\nu})}\n",
        "\\end{equation}\n",
        "\n",
        "con $Q=M-1$ y $P=N-1$, también muestra simetría específicas.\n",
        "\n",
        "De la simetría $X(s) = X^*(s^*)$ de la transformada de Laplace de una señal real $x(t) \\in \\mathbb{R}$, se puede concluir que los coeficientes $\\alpha_n, \\beta_m$ del numerador y del denominador son reales.\n",
        "\n",
        "El [teorema de las raices complejas conjugadas](https://en.wikipedia.org/wiki/Complex_conjugate_root_theorem) establece que las raíces de un polinomio con coeficientes reales son reales o van por pares complejos conjugados.\n",
        "\n",
        "Por lo tanto, los ceros y polos de la transformada de Laplace $X(s)$ de una señal real $x(t)$ son de valor real o constituyen pares conjugados complejos."
      ]
    },
    {
      "cell_type": "markdown",
      "metadata": {
        "id": "OZtkawU50ma2",
        "nbsphinx": "hidden"
      },
      "source": [
        "**Copyright**\n",
        "\n",
        "The notebooks are provided as [Open Educational Resource](https://de.wikipedia.org/wiki/Open_Educational_Resources). Feel free to use the notebooks for your own educational purposes. The text is licensed under [Creative Commons Attribution 4.0](https://creativecommons.org/licenses/by/4.0/), the code of the IPython examples under the [MIT license](https://opensource.org/licenses/MIT). Please attribute the work as follows: *Lecture Notes on Signals and Systems* by Sascha Spors."
      ]
    },
    {
      "cell_type": "code",
      "execution_count": null,
      "metadata": {
        "id": "_1egTcyWOcxm"
      },
      "outputs": [],
      "source": []
    }
  ],
  "metadata": {
    "colab": {
      "provenance": [],
      "include_colab_link": true
    },
    "kernelspec": {
      "display_name": "Python 3",
      "language": "python",
      "name": "python3"
    },
    "language_info": {
      "codemirror_mode": {
        "name": "ipython",
        "version": 3
      },
      "file_extension": ".py",
      "mimetype": "text/x-python",
      "name": "python",
      "nbconvert_exporter": "python",
      "pygments_lexer": "ipython3",
      "version": "3.7.1"
    }
  },
  "nbformat": 4,
  "nbformat_minor": 0
}
