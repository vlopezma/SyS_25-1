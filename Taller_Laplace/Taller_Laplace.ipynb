{
  "nbformat": 4,
  "nbformat_minor": 0,
  "metadata": {
    "colab": {
      "provenance": [],
      "authorship_tag": "ABX9TyOrTS+R2YmN0Kd2wYfYyYGF",
      "include_colab_link": true
    },
    "kernelspec": {
      "name": "python3",
      "display_name": "Python 3"
    },
    "language_info": {
      "name": "python"
    },
    "widgets": {
      "application/vnd.jupyter.widget-state+json": {
        "97c69cded5df4a02af2aea545edfbeac": {
          "model_module": "@jupyter-widgets/controls",
          "model_name": "VBoxModel",
          "model_module_version": "1.5.0",
          "state": {
            "_dom_classes": [
              "widget-interact"
            ],
            "_model_module": "@jupyter-widgets/controls",
            "_model_module_version": "1.5.0",
            "_model_name": "VBoxModel",
            "_view_count": null,
            "_view_module": "@jupyter-widgets/controls",
            "_view_module_version": "1.5.0",
            "_view_name": "VBoxView",
            "box_style": "",
            "children": [
              "IPY_MODEL_486b5979692940f0a510bc9b09eb153e",
              "IPY_MODEL_6ef4f7b6057944d0a6442a5fe63e66c5"
            ],
            "layout": "IPY_MODEL_039ab598a66b418ab2472a1ecd46da78"
          }
        },
        "486b5979692940f0a510bc9b09eb153e": {
          "model_module": "@jupyter-widgets/controls",
          "model_name": "IntSliderModel",
          "model_module_version": "1.5.0",
          "state": {
            "_dom_classes": [],
            "_model_module": "@jupyter-widgets/controls",
            "_model_module_version": "1.5.0",
            "_model_name": "IntSliderModel",
            "_view_count": null,
            "_view_module": "@jupyter-widgets/controls",
            "_view_module_version": "1.5.0",
            "_view_name": "IntSliderView",
            "continuous_update": true,
            "description": "k",
            "description_tooltip": null,
            "disabled": false,
            "layout": "IPY_MODEL_c74f09669e3e47cab9ff42d8e0c801f7",
            "max": 13,
            "min": 0,
            "orientation": "horizontal",
            "readout": true,
            "readout_format": "d",
            "step": 1,
            "style": "IPY_MODEL_c74eb66b70a54a7da2fcb5df4360b6b0",
            "value": 0
          }
        },
        "6ef4f7b6057944d0a6442a5fe63e66c5": {
          "model_module": "@jupyter-widgets/output",
          "model_name": "OutputModel",
          "model_module_version": "1.0.0",
          "state": {
            "_dom_classes": [],
            "_model_module": "@jupyter-widgets/output",
            "_model_module_version": "1.0.0",
            "_model_name": "OutputModel",
            "_view_count": null,
            "_view_module": "@jupyter-widgets/output",
            "_view_module_version": "1.0.0",
            "_view_name": "OutputView",
            "layout": "IPY_MODEL_71d1a25f0c714c918408cf1c5ff896fa",
            "msg_id": "",
            "outputs": [
              {
                "output_type": "display_data",
                "data": {
                  "text/plain": "<Figure size 1000x400 with 1 Axes>",
                  "image/png": "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\n"
                },
                "metadata": {}
              }
            ]
          }
        },
        "039ab598a66b418ab2472a1ecd46da78": {
          "model_module": "@jupyter-widgets/base",
          "model_name": "LayoutModel",
          "model_module_version": "1.2.0",
          "state": {
            "_model_module": "@jupyter-widgets/base",
            "_model_module_version": "1.2.0",
            "_model_name": "LayoutModel",
            "_view_count": null,
            "_view_module": "@jupyter-widgets/base",
            "_view_module_version": "1.2.0",
            "_view_name": "LayoutView",
            "align_content": null,
            "align_items": null,
            "align_self": null,
            "border": null,
            "bottom": null,
            "display": null,
            "flex": null,
            "flex_flow": null,
            "grid_area": null,
            "grid_auto_columns": null,
            "grid_auto_flow": null,
            "grid_auto_rows": null,
            "grid_column": null,
            "grid_gap": null,
            "grid_row": null,
            "grid_template_areas": null,
            "grid_template_columns": null,
            "grid_template_rows": null,
            "height": null,
            "justify_content": null,
            "justify_items": null,
            "left": null,
            "margin": null,
            "max_height": null,
            "max_width": null,
            "min_height": null,
            "min_width": null,
            "object_fit": null,
            "object_position": null,
            "order": null,
            "overflow": null,
            "overflow_x": null,
            "overflow_y": null,
            "padding": null,
            "right": null,
            "top": null,
            "visibility": null,
            "width": null
          }
        },
        "c74f09669e3e47cab9ff42d8e0c801f7": {
          "model_module": "@jupyter-widgets/base",
          "model_name": "LayoutModel",
          "model_module_version": "1.2.0",
          "state": {
            "_model_module": "@jupyter-widgets/base",
            "_model_module_version": "1.2.0",
            "_model_name": "LayoutModel",
            "_view_count": null,
            "_view_module": "@jupyter-widgets/base",
            "_view_module_version": "1.2.0",
            "_view_name": "LayoutView",
            "align_content": null,
            "align_items": null,
            "align_self": null,
            "border": null,
            "bottom": null,
            "display": null,
            "flex": null,
            "flex_flow": null,
            "grid_area": null,
            "grid_auto_columns": null,
            "grid_auto_flow": null,
            "grid_auto_rows": null,
            "grid_column": null,
            "grid_gap": null,
            "grid_row": null,
            "grid_template_areas": null,
            "grid_template_columns": null,
            "grid_template_rows": null,
            "height": null,
            "justify_content": null,
            "justify_items": null,
            "left": null,
            "margin": null,
            "max_height": null,
            "max_width": null,
            "min_height": null,
            "min_width": null,
            "object_fit": null,
            "object_position": null,
            "order": null,
            "overflow": null,
            "overflow_x": null,
            "overflow_y": null,
            "padding": null,
            "right": null,
            "top": null,
            "visibility": null,
            "width": null
          }
        },
        "c74eb66b70a54a7da2fcb5df4360b6b0": {
          "model_module": "@jupyter-widgets/controls",
          "model_name": "SliderStyleModel",
          "model_module_version": "1.5.0",
          "state": {
            "_model_module": "@jupyter-widgets/controls",
            "_model_module_version": "1.5.0",
            "_model_name": "SliderStyleModel",
            "_view_count": null,
            "_view_module": "@jupyter-widgets/base",
            "_view_module_version": "1.2.0",
            "_view_name": "StyleView",
            "description_width": "",
            "handle_color": null
          }
        },
        "71d1a25f0c714c918408cf1c5ff896fa": {
          "model_module": "@jupyter-widgets/base",
          "model_name": "LayoutModel",
          "model_module_version": "1.2.0",
          "state": {
            "_model_module": "@jupyter-widgets/base",
            "_model_module_version": "1.2.0",
            "_model_name": "LayoutModel",
            "_view_count": null,
            "_view_module": "@jupyter-widgets/base",
            "_view_module_version": "1.2.0",
            "_view_name": "LayoutView",
            "align_content": null,
            "align_items": null,
            "align_self": null,
            "border": null,
            "bottom": null,
            "display": null,
            "flex": null,
            "flex_flow": null,
            "grid_area": null,
            "grid_auto_columns": null,
            "grid_auto_flow": null,
            "grid_auto_rows": null,
            "grid_column": null,
            "grid_gap": null,
            "grid_row": null,
            "grid_template_areas": null,
            "grid_template_columns": null,
            "grid_template_rows": null,
            "height": null,
            "justify_content": null,
            "justify_items": null,
            "left": null,
            "margin": null,
            "max_height": null,
            "max_width": null,
            "min_height": null,
            "min_width": null,
            "object_fit": null,
            "object_position": null,
            "order": null,
            "overflow": null,
            "overflow_x": null,
            "overflow_y": null,
            "padding": null,
            "right": null,
            "top": null,
            "visibility": null,
            "width": null
          }
        },
        "0a18aa0d89444a0aa4249a73cb2094c8": {
          "model_module": "@jupyter-widgets/controls",
          "model_name": "VBoxModel",
          "model_module_version": "1.5.0",
          "state": {
            "_dom_classes": [
              "widget-interact"
            ],
            "_model_module": "@jupyter-widgets/controls",
            "_model_module_version": "1.5.0",
            "_model_name": "VBoxModel",
            "_view_count": null,
            "_view_module": "@jupyter-widgets/controls",
            "_view_module_version": "1.5.0",
            "_view_name": "VBoxView",
            "box_style": "",
            "children": [
              "IPY_MODEL_59be544dd5fa45249c4e529f99a64892",
              "IPY_MODEL_77adad73c59e4486bbc8475e9df99178"
            ],
            "layout": "IPY_MODEL_16476c18773246bbbd88d93be466de4f"
          }
        },
        "59be544dd5fa45249c4e529f99a64892": {
          "model_module": "@jupyter-widgets/controls",
          "model_name": "IntSliderModel",
          "model_module_version": "1.5.0",
          "state": {
            "_dom_classes": [],
            "_model_module": "@jupyter-widgets/controls",
            "_model_module_version": "1.5.0",
            "_model_name": "IntSliderModel",
            "_view_count": null,
            "_view_module": "@jupyter-widgets/controls",
            "_view_module_version": "1.5.0",
            "_view_name": "IntSliderView",
            "continuous_update": true,
            "description": "k",
            "description_tooltip": null,
            "disabled": false,
            "layout": "IPY_MODEL_233990997f03464f80ef57c7f55e5c94",
            "max": 14,
            "min": 0,
            "orientation": "horizontal",
            "readout": true,
            "readout_format": "d",
            "step": 1,
            "style": "IPY_MODEL_58ac8846e490403eb4a18b07dc2937d7",
            "value": 0
          }
        },
        "77adad73c59e4486bbc8475e9df99178": {
          "model_module": "@jupyter-widgets/output",
          "model_name": "OutputModel",
          "model_module_version": "1.0.0",
          "state": {
            "_dom_classes": [],
            "_model_module": "@jupyter-widgets/output",
            "_model_module_version": "1.0.0",
            "_model_name": "OutputModel",
            "_view_count": null,
            "_view_module": "@jupyter-widgets/output",
            "_view_module_version": "1.0.0",
            "_view_name": "OutputView",
            "layout": "IPY_MODEL_429d21f97c5f4b7090f047ac74359430",
            "msg_id": "",
            "outputs": [
              {
                "output_type": "display_data",
                "data": {
                  "text/plain": "<Figure size 1000x400 with 1 Axes>",
                  "image/png": "iVBORw0KGgoAAAANSUhEUgAAA94AAAGGCAYAAACNL1mYAAAAOnRFWHRTb2Z0d2FyZQBNYXRwbG90bGliIHZlcnNpb24zLjEwLjAsIGh0dHBzOi8vbWF0cGxvdGxpYi5vcmcvlHJYcgAAAAlwSFlzAAAPYQAAD2EBqD+naQAAVoJJREFUeJzt3Xl4FHW69vG7sxOygQkkIQmbQ1hkFxABRWV1AzOI4Abo4AIcQYdR9IyyOIrAHA4c3NBRcBZFRGTGBQQcQBTEJSQEAV8HgbAEEAUSIEvTqfePmJaQrZN0pbqS7+e6cpGu/lXV3fWkOjyp6iqHYRiGAAAAAACAKfysDgAAAAAAQF1G4w0AAAAAgIlovAEAAAAAMBGNNwAAAAAAJqLxBgAAAADARDTeAAAAAACYiMYbAAAAAAAT0XgDAAAAAGAiGm8AAAAAAExE4w0AAAAAgIlovAEAAAAAMBGNNwDYVH5+vp599ll9/PHHVkdBLaDeAADYF403AFTD0qVL5XA4tH//fsuW/8gjj+gf//iHevXqZUqGi82YMUMOh6NW1mXlOq3gi/X21NixY+VwOORwOHTZZZdVaxkLFixwL8PhcOjEiRNeTlk1lb2mM2fOyM/PT//7v/9b5vxmvp7idc+fP7/a+a1k1rabO3eu2rZtq8LCQm/GrXUvv/yykpKSlJ+fb3UUAF5G4w2gVu3du1f333+/WrVqpZCQEEVERKhPnz5auHChcnNzrY5nG8uXL9eqVau0evVqRUVFWR0HJvP1ekdHR+tvf/ubnnvuuWrNP2TIEP3tb3/TLbfc4uVk1VfRa9q5c6cMwyi3qa3q69m4caPGjh3r0djidXfo0KHCcTWtiVm8ve0kKTs7W3PmzNFjjz0mPz/f/a9tfn6+HnvsMcXHx6tBgwbq1auX1q1bV2LM2LFjVVBQoMWLF1uUEoBZfPfdCUCd8+GHH6pjx45avny5brrpJi1atEizZ89WUlKS/vCHP2jy5MlWR/QZd911l3Jzc9W8efNSzxmGoUOHDmn16tVKSkqyIB1qkx3q3bBhQ91555268cYbqzV/27Ztdeedd6pTp05eTlZ9Fb2mjIwMSVLHjh3LnNeT13P69Gl98cUXpaafOnVK27ZtK3e+4nW3b9++2vmt5I1td7HXX39d58+f1+jRo72S0Sxjx47V/Pnzdccdd2jhwoXy9/fX9ddfr88++8w9JiQkRGPGjNH8+fNlGIaFaQF4G403gFqxb98+jRo1Ss2bN9euXbu0cOFCjR8/XhMnTtRbb72lXbt2VXoEpz7x9/dXSEhImadZOxwOPfLIIz7VpMA81Nv3ZGRkKDo6WrGxsdVexoEDBzRmzBhNnjxZZ86ckSS9++676tatm7Zu3VrhuiMiIpSYmFjtdVvJG9vuYkuWLNHNN9+skJAQry3T27788kstW7ZMs2fP1rx583Tffffp3//+t5o3b65HH320xNiRI0fqwIED2rBhg0VpAZiBxhtArZg7d67OnDmj1157TXFxcaWev/TSS0sc8d6+fbuGDh2qiIgIhYWF6brrrit1dKj487//+c9/NHbsWEVFRSkyMlLjxo3TuXPn3ONWrFghh8OhTZs2lVrv4sWL5XA4tHPnziqt+2Jjx45VixYtSk0v7zPKhw8f1r333qv4+HgFBwerZcuWevDBB1VQUCCp/M/8enO7VOSzzz5Tjx49FBISotatW5d72uPhw4d1zz33qGnTpgoODlaHDh30+uuvlxqXk5OjKVOmqEWLFgoODlaTJk00cOBApaamVnmdVVlvdef1JG/xsiqq44EDBzRhwgQlJyerQYMGuuSSS3Trrbd6fG0AM+q9Z88eZWZmVrru66+/vsyfacMw1K1bN/Xr16/SZVxzzTW66qqrlJqaqqFDhyo8PFzNmjXTwoULK53XDIcPH1ZISIjuueeeEtPXr1+vwMBAPfzwwx4tJyMjo9QfCl999VUFBQVpypQpcrlclS6jU6dOysjIUGJiou6//36tWLFCy5cv14YNGzRlypQK192uXbsabVMr6+KNbXehffv2aceOHRowYECp57zxXugtK1askL+/v+677z73tJCQEN17773aunWrDh486J7evXt3NW7cWP/85z9rNSMAcwVYHQBA/fD++++rVatWuvLKKysd++2336pfv36KiIjQo48+qsDAQC1evFj9+/fXpk2bSl1cauTIkWrZsqVmz56t1NRU/eUvf1GTJk00Z84cSdINN9ygsLAwLV++XFdffXWJed9++2116NDB/XnDqq67Oo4cOaKePXvq1KlTuu+++9S2bVsdPnxYK1as0Llz5xQUFFQr26U8GRkZGjRokGJiYjRjxgydP39e06dPV9OmTUuMO3bsmK644go5HA5NmjRJMTExWr16te69915lZ2eXaB4eeOABrVixQpMmTVL79u31008/6bPPPtPu3bvVrVs3j9dZ1fVWd97K8npax6+++kpbtmzRqFGjlJCQoP379+ull15S//79tWvXLoWGhpab1ax6t2vXTldffbU2btxY7rolqUePHlq9erVOnjypRo0auacvW7ZM27dvL3F6bHkyMjIUHx+vm266SePGjdPw4cP16quv6uGHH9a1115b7unGZXE6nTp9+rRHYxs3blzmZ32bNWum3/3ud3rllVc0ffp0NW/eXHv27NGtt96qoUOH6n/+5388Wn5GRob7tObz589rypQpeuWVV/TCCy9o/PjxHr8mh8MhPz8/9x/nii8oVtm6mzZtqhtvvLHa29Sbdakqb227Ylu2bJEk935Zluq8F3rj5+1C27dvV5s2bRQREVFies+ePSVJaWlpJc5i6Natmz7//HOP1g/AJgwAMNnp06cNScawYcM8Gj98+HAjKCjI2Lt3r3vakSNHjPDwcOOqq65yT5s+fbohybjnnntKzH/LLbcYl1xySYlpo0ePNpo0aWKcP3/ePS0rK8vw8/MzZs2aVeV1L1myxJBk7Nu3zzAMwxgzZozRvHnzUq+lOOOF7r77bsPPz8/46quvSo0vLCwsc/lmbZeyDB8+3AgJCTEOHDjgnrZr1y7D39+/xGu59957jbi4OOPEiRMl5h81apQRGRlpnDt3zj0tMjLSmDhxYo3XWdX1XszTeSvLaxie1bGsLFu3bjUkGX/961/d02qz3pKMq6++usLXZhiG8a9//cuQZHzyySfuaQUFBUbr1q2Nm266yT2tvJ/9I0eOGJKMmJgY4+DBg+7pu3btMiQZb7zxRql5il/Ljz/+WOq5DRs2GJI8+rpwO17s0KFDRnBwsPHggw8aJ06cMFq3bm106dLFOHPmTKWv6cLX9fLLLxs//fSTce211xqNGzc2NmzYUKXXs2PHDqNt27bGf/3Xfxnvv/++MWbMGOOdd94xWrZsaSxYsKDCdUdHRxuZmZnu6RdvU0/yV6Uu3uKtbXehP/7xj4YkIycnp9xlVOe90Fs/b8U6dOhgXHvttaWmf/vtt+5tcqH77rvPaNCgQaXLBWAfHPEGYLrs7GxJUnh4eKVjXS6X1q5dq+HDh6tVq1bu6XFxcbr99tv16quvKjs7u8RRgwceeKDEMvr166f33nuvxLjbbrtNb731ljZu3KjrrrtOUtGpf4WFhbrtttuqve6qKiws1KpVq3TTTTfp8ssvL/V8eUe7zNouZa3n448/1vDhw0tcyKtdu3YaPHiwPvroI0lFpxu/++67GjlypAzDKHHLn8GDB2vZsmVKTU1Vnz59JElRUVHatm2bjhw5ovj4+GqtszrrvVBV5q0or+R5HRs0aOCe5nQ6lZ2drUsvvVRRUVFKTU3VXXfdVWre4m1iVr0NDy/Y1KNHD0lSamqqrr32WknSK6+8on379mnVqlWVzl98Ea3p06crISHBPT0wMFCSyj2zozydO3cudQXo8lT0+eFmzZpp/PjxevXVV5Wamqrc3Fxt2rRJDRs29GjZO3bskFRU4x49eigoKEjbtm3TpZde6tH8xZKSkrRkyRJdccUV7rMPRowYoQEDBui7776rcN2zZs0qcXS0Ktu0OnUpLCx0f3yiMsHBweW+j3lr213op59+UkBAgMLCwsodU533Qm/9vBXLzc1VcHBwqenFn0u/+K4ejRo1Um5urs6dO1fhmTEA7IPGG4Dpiv9jk5OTU+nYH3/8UefOnVNycnKp59q1a6fCwkIdPHiwxGcEL77Sc/FpsSdPnnSve8iQIYqMjNTbb7/tbrzffvttdenSRW3atKn2uqvqxx9/VHZ2dpXvrWvWdilrPbm5ufrNb35T6rnk5GR3E/zjjz/q1KlTeuWVV/TKK6+Uuazjx4+7v587d67GjBmjxMREde/eXddff73uvvtutWrVyuN1Vme9F782T+etKG/xsjypY25urmbPnq0lS5bo8OHDJZreik5jra16VyQ2NlbNmjXT9u3bJUlnz57V008/rTvvvNOjn9/iBm/48OElpu/Zs0eSynxtFWnUqFGZn+OtjqlTp+r555/Xjh07tHnzZjVr1szjeYtf16RJk3T55Zfro48+qtYt3iIjI3XFFVeUmh4VFVXuR1qK133xrbaqsk2rU5dPP/1U11xzTaXLlqTdu3erbdu2Fa67ptuuqqqzb3jz500q+iNcWffmzsvLcz9/oeL3iso+egDAPmi8AZguIiJC8fHxJS5g5k3+/v5lTr+wyQkODtbw4cP13nvv6cUXX9SxY8f0+eef69lnn/VKhoqOVFvFk+1SXYWFhZKkO++8U2PGjClzzIVX4R45cqT7KNPatWs1b948zZkzRytXrlTXrl1NW291560o79ChQz3O+1//9V9asmSJpkyZot69eysyMlIOh0OjRo1y5/EWM+rdo0cPd+M9f/58nTx5UrNmzfJo3h07drib9wulp6crICCg0tthXaygoEA///yzR2NjYmLK3R6S9Mwzz0gq+oxx48aNq5QjIyNDzZs3V+vWrbVz506dOXOmxs1j//791b9/f4/W3axZs1JHWKuyTatTl7Zt22rJkiWVLltSmRfPvDC/t7fdJZdcovPnzysnJ6fcs6qqs2948+dNKtouhw8fLjU9KytLkkqdWXPy5EmFhoaWasgB2BeNN4BaceONN+qVV17R1q1b1bt373LHxcTEKDQ0tMxTLffs2SM/P79q30bntttu0xtvvKFPPvlEu3fvlmEY7tPMa7ruRo0a6dSpU6WmHzhwoMTjmJgYRUREVPmPEGZul4vX06BBA33//felnrtw3TExMQoPD5fL5fL4qFBcXJwmTJigCRMm6Pjx4+rWrZueeeYZbdq0yaN1Vne91Z23vLxDhw71uI4rVqzQmDFjSly0Ky8vr8yflYuz1ka9K9OjRw/961//UmZmpv785z/rwQcfLPPe8mXJyMhQ586dS03fsWOH2rRpU+ZptxXZsmWLx0dd9+3bV+YV2SVp3rx5+stf/qLnn39ef/jDH/TMM8/oL3/5i8c5MjIy1KVLF7366qu6/PLLdcstt2jz5s21ciurjIyMMv+wVJVtWp26xMbGauzYsdXKfPG6vb3tio+u79u3z6u33PPWz1uxLl26aMOGDaVOby++Z3uXLl1KLbNdu3ZVygzAt3E7MQC14tFHH1XDhg31u9/9TseOHSv1/N69e7Vw4UL5+/tr0KBB+uc//1nilkvHjh3Tm2++qb59+1b7M9YDBgxQ48aN9fbbb+vtt99Wz5491bJlS/fzNVl369atdfr0afdnGKWiIxnvvfdeiXF+fn4aPny43n//fX399delllPeERgzt8vF6xk8eLBWrVpV4pZTu3fv1scff1xi3G9/+1u9++67ZTafP/74o/t7l8tV6rTqJk2aKD4+Xvn5+R6vs6rrLeu1eTJvZXklz+vo7+9fqqaLFi2q9EwIM+vt6e3EJOnyyy9XYWGhbr/9dhmGof/+7//2aD6Xy6Xdu3eX2eClp6dXq0Eq/sytJ1/lfeZ21apVmjZtmp5++mlNnDhR9913n/76179q3759VXpdHTt2VExMjFauXKmdO3fqwQcfrPLrqSpvbFMz6uIps7Zd8R9yy9oPa8IbP28XGjFihFwuV4mPueTn52vJkiXq1atXqT+kpaamenQXEAD2wRFvALWidevWevPNN3XbbbepXbt2uvvuu3XZZZepoKBAW7Zs0TvvvOM+ovKnP/1J69atU9++fTVhwgQFBARo8eLFys/P19y5c6udITAwUCkpKVq2bJnOnj2rP//5z6XGVHfdo0aN0mOPPaZbbrlFDz30kM6dO6eXXnpJbdq0KXXv52effVZr167V1Vdfrfvuu0/t2rVTVlaW3nnnHX322Wflnnpp1na52MyZM7VmzRr169dPEyZM0Pnz57Vo0SJ16NChxB8WnnvuOW3YsEG9evXS+PHj1b59e/38889KTU3V+vXr3adp5uTkKCEhQSNGjFDnzp0VFham9evX66uvvnIfCfZ0nVVZb1k8mdeTvJJndbzxxhv1t7/9TZGRkWrfvr22bt2q9evX65JLLqm0DmbV29PbiUlyXzju888/14wZMxQTE+PROr7//nvl5eWVavByc3P1n//8p9xT/StS08/cfvPNN7rjjjt0xx13uP+A8Oijj+rll1/2+Kh38esqvt1W9+7d9dJLL2ncuHHq3r27Jk2aVO18nq774ua4KtvUjLp4yqxt16pVK1122WVav359qfuz14S3P+Pdq1cv3XrrrXr88cd1/PhxXXrppXrjjTe0f/9+vfbaayXGfvPNN/r55581bNgwr60fgA+o7cuoA6jf/t//+3/G+PHjjRYtWhhBQUFGeHi40adPH2PRokVGXl6ee1xqaqoxePBgIywszAgNDTWuueYaY8uWLSWWVd7tZsq6NVOxdevWGZIMh8NR4lY6F/Jk3WWtY+3atcZll11mBAUFGcnJycbf//73Mm8nZhiGceDAAePuu+82YmJijODgYKNVq1bGxIkTjfz8/Apfg1nb5WKbNm0yunfvbgQFBRmtWrUyXn755TJfy7Fjx4yJEycaiYmJRmBgoBEbG2tcd911xiuvvOIek5+fb/zhD38wOnfubISHhxsNGzY0OnfubLz44ovVWqen6y1PZfN6mtcwKq/jyZMnjXHjxhnR0dFGWFiYMXjwYGPPnj1G8+bNjTFjxriXU5v1loe3EyvWokULIyYmpszbNRlG2beuWr58uSHJ2LlzZ4npX375pSHJ+OCDD8pclqe3kKqqgwcPGnFxcUafPn1KvM8YhmE8+OCDRmBgoPHDDz+4p5V3O67i1/Xtt9+WmD5hwgQjMDDQ2LRpU4np3nw9VdmmleWval28wcxtN3/+fCMsLKzU7fu88V7oTbm5ucbUqVON2NhYIzg42OjRo4exZs2aUuMee+wxIykpyX1bQgB1g8MwvHCVHQAAUOf88MMPatOmjebPn6+HHnqozDFjx47Vv//9b6WmpiogIKBaF8vKy8vTmTNnNHfuXM2bN08//vijoqOja5i++mr6mqx+Pd6oiVWqs+1Onz6tVq1aae7cubr33ntrKak58vPz1aJFC02bNk2TJ0+2Og4AL+Iz3gAAoEyPP/64WrRoUeo+yBc7ePCgYmJi1Ldv32qt5+WXX1ZMTIzmzZtXrfnNUJPX5Auvp6Y1sUp1tl1kZKQeffRRzZs3z+t3C6htS5YsUWBgYKX7HAD74Yg3AABwO3XqlFavXq2NGzfq1Vdf1erVqzV48OByx+/atUtHjhyRJIWFhZV5b+rKHDx4sMQV3K+++moFBgZWPbyX1PQ1Wf16vFETq1i97QDALDTeAADA7d1339WIESOUkJCgp556SuPHj7c6EgAAtkfjDQAAAACAifiMNwAAAAAAJqLxBgAAAADARAFWB6ipwsJCHTlyROHh4XI4HFbHAQAAAADUA4ZhKCcnR/Hx8fLzq/iYtu0b7yNHjigxMdHqGAAAAACAeujgwYNKSEiocIztG+/w8HBJRS82IiLC4jTlczqdWrt2rQYNGsRtMXwYdbIH6mQP1Mn3USN7oE72QJ3sgTrZg13qlJ2drcTERHdPWhHbN97Fp5dHRET4fOMdGhqqiIgIn/7hqe+okz1QJ3ugTr6PGtkDdbIH6mQP1Mke7FYnTz7yzMXVAAAAAAAwEY03AAAAAAAmovEGAAAAAMBEtv+MNwAAAADUJpfLJafTaXWMOsvpdCogIEB5eXlyuVyW5QgMDJS/v79XlkXjDQAAAAAeMAxDR48e1alTp6yOUqcZhqHY2FgdPHjQowuXmSkqKkqxsbE1zkHjDQAAAAAeKG66mzRpotDQUMubwrqqsLBQZ86cUVhYmPz8rPl0tGEYOnfunI4fPy5JiouLq9HyaLwBAPAiV6FLmzM3KysnS3HhceqX1E/+ft45TQ0AYB2Xy+Vuui+55BKr49RphYWFKigoUEhIiGWNtyQ1aNBAknT8+HE1adKkRqed03gDAOAlK3ev1OQ1k3Uo+5B7WkJEghYOWaiUdikWJgMA1FTxZ7pDQ0MtToLaVFxvp9NZo8abq5oDAOAFK3ev1IjlI0o03ZJ0OPuwRiwfoZW7V1qUDADgTZxeXr94q9403gAA1JCr0KXJaybLkFHqueJpU9ZMkavQuiuzAgAA69B4AwBQQ5szN5c60n0hQ4YOZh/U5szNtZgKAAD4ChpvAABqKCsny6vjAAB1X1aWNGNG0b++oH///nI4HHI4HEpLS3NPnzp1qoYPH17ufGPHjnXPt2rVKtNz2hWNNwAANRQX7tktRjwdBwCo+7KypJkzfafxlqTx48crKytLl112mXtaWlqaunTpUu48CxcuVJYvvQgfReMNAEAN9Uvqp4SIBDlU9gVYHHIoMSJR/ZL61XIyAAA8FxoaqtjYWAUE/Hrzq/T09Aob78jISMXGxtZCOnuj8QYAoIb8/fy1cMhCSSrVfBc/XjBkAffzBoB6LitLSk399Usq+djMA8dvvfWWGjRoUOLo9Lhx49SpUyedPn26zHkOHTqkEydOuBvvU6dO6aabblLfvn119OhR88LWQTTeAAB4QUq7FK0YuULx4fElpidEJGjFyBXcx7secBW6tHH/Rr2V8ZY27t/IVewBlLJ4sdS9e9HX+PFF08aP/3Xa4sXmrXvUqFFq06aNnn32WUnS9OnTtX79eq1evVqRkZFlzpOWlqaoqCi1aNFCGRkZ6tGjh5o1a6YNGzZwlLuKAiofAgAAPJHSLkUDWg5Q5Jyi/8B8dPtHGtR6EEe664GVu1dq8prJJa5unxCRoIVDFvJHFwBu998v3XyzlJsr9e1bNO3556XevYu+jzPxUiAOh0PPPPOMRowYodjYWC1atEibN29Ws2bNyp0nLS1NnTt31ptvvqlJkyZpzpw5Gl/8FwNUCY03AABedGGTfVXzq2i664GVu1dqxPIRpe7jfjj7sEYsH8EZDwDc4uKKvs6e/XValy5St261s/4bb7xR7du316xZs7R27Vp16NChwvFpaWnasWOHJk2apA8//FC9i/9CgCrjVHMAAIBqchW6NHnN5FJNtyT3tClrpnDaOQCfsGbNGu3Zs0cul0tNmzatdHxaWppSUlKUl5enU6dOmR+wDqPxBgAAqKbNmZtLnF5+MUOGDmYf1ObMzbWYCoCd1NZHpVNTUzVy5Ei99tpruu666/Tkk09WOD4nJ0c//PCDJk6cqOeff16jRo3St99+Wzth6yBONQcAAKimrBzPLkHs6TgA9U9tNN779+/XDTfcoCeeeEKjR49Wq1at1Lt3b6WmpqpbOee5p6eny9/fX+3bt1fXrl21c+dO3XTTTfryyy8VHR1tfug6hiPeAAAA1RQX7tmVkDwdBwDe9vPPP2vIkCEaNmyYpk2bJknq1auXhg4dqieeeKLc+dLS0tS2bVsFBwdLkubNm6fk5GSlpKSooKCgVrLXJRzxBgAAqKZ+Sf2UEJGgw9mHy/yct0MOJUQkqF9SPwvSAfBVDRtKRum3DFM0btxYe/bsKTX9ww8/rHC+SZMmadKkSe7H/v7+Wr16tdfz1Rcc8QYAAKgmfz9/LRyyUFJRk32h4scLhizg6vYAbOHFF19UWFiYMjIyPJ7ngQceUFhYmImp6gYabwAAgBpIaZeiFSNXKD48vsT0hIgEbiUGwDb+8Y9/aNeuXUpLS1NycrLH882aNUtpaWn6/vvvNXDgQBMT2hunmgMAANRQSrsUDWg5QJFzIiVJH93+kQa1HsSRbgC20axZs2rN16RJEzVp0sTLaeoejngDAAB4wYVN9lXNr6LpBgC40XgDAAAAAGAiGm8AAAAAAExE4w0AAAAAgIlovAEAAAAAMBGNNwAAAAAAJqLxBgAAAADARDTeAAAAAACYiMYbAAAAAGqRq9Cljfs36q2Mt7Rx/0a5Cl21st6pU6dq+PDhZT7Xv39/ORwOORwOpaWl1Uqei1WUb+zYse58q1atqtVc3mBq4/3pp5/qpptuUnx8fJkbyDAMPfXUU4qLi1ODBg00YMAAff/992ZGAgAAAADLrNy9Ui0WttA1b1yj21fermveuEYtFrbQyt0rTV93WlqaOnXqVO7z48ePV1ZWli677DLTs5QlLS1NXbp0KfO5hQsXKisrq3YDeZGpjffZs2fVuXNnvfDCC2U+P3fuXP3f//2fXn75ZW3btk0NGzbU4MGDlZeXZ2YsAAAAAKh1K3ev1IjlI3Qo+1CJ6YezD2vE8hGmN9/p6enq3Llzuc+HhoYqNjZWAQEBpuYoT3p6ermNd2RkpGJjY2s3kBeZ2ngPHTpUf/rTn3TLLbeUes4wDC1YsEB//OMfNWzYMHXq1El//etfdeTIEVueOgAAAAAA5XEVujR5zWQZMko9Vzxtypoppp12fujQIZ04cUKSNHDgQIWGhio5OVnbtm2rcL69e/fK4XDogw8+0HXXXefxfNXNV9x4nz59WjfffLP69u2ro0ePenVdVrDmTxmS9u3bp6NHj2rAgAHuaZGRkerVq5e2bt2qUaNGlTlffn6+8vPz3Y+zs7MlSU6nU06n09zQNVCczZczgjrZBXWyh/papwtfr9PplNPhu6+/vtbILGbVnjrZA3Wyh5rUyel0yjAMFRYWqrCwsMrzb9q/qdSR7gsZMnQw+6A27d+k/i36V3n5lUlNTZUkvfDCC/rv//5vJSQkaOLEiZo2bZo++eSTogy/vL4Lbd++XQ6HQ/Pnz9cf//hHNWvWrNR83soXFRWlpKQk7dixQ7/97W81YMAAvfvuuwoMDCyRq7o1qI7CwkIZhiGn0yl/f/8Sz1Xl58iyxrv4rxZNmzYtMb1p06YV/kVj9uzZmjlzZqnpa9euVWhoqHdDmmDdunVWR4AHqJM9UCd7qG91ynP9+nGpjz/+WCH+IRam8Ux9q5FZzK49dbIH6mQP1alTQECAYmNjdebMGRUUFFR5/h9+/MHjcd0ad6vy8ivz5ZdfqlGjRnr11Vd1ySWXSJIGDRqkJUuWKDs7W+fPn1dBQYH7wGaxr776SpGRkXrllVcUHR1daj5v5uvQoYNee+01Pfroo5oxY4bGjBmj3Nxc5ebmlhibm5vr1XVXpKCgQLm5ufr00091/vz5Es+dO3fO4+VY1nhX1+OPP65HHnnE/Tg7O1uJiYkaNGiQIiIiLExWMafTqXXr1mngwIEKDAy0Og7KQZ3sgTrZQ32t09mCs1JG0feDBw9Ww6CG1gaqQH2tkVnMqj11sgfqZA81qVNeXp4OHjyosLAwhYRU/Q9rrWJaeTzOjL5m9+7dGjZsmFq2bOmelpWVpTZt2igiIkIBAQEKCgoqte49e/Zo2LBhatWqVZnzXejxxx/X3LlzK8zx7bffqm3btmXm27Vrlx577DG9//77uuyyyxQeHi6Hw1FqbIMGDWqt98vLy1ODBg101VVXlap7VZp/yxrv4g/GHzt2THFxce7px44dK/cD9ZIUHBys4ODgUtMDAwNt8SZnl5z1HXWyB+pkD/WtToHGr6/VLq/dLjl9ndm1p072QJ3soTp1crlccjgc8vPzk59f1S+VdXWLq5UQkaDD2YfL/Jy3Qw4lRCTo6hZXV2v5lUlPT9ejjz5aYtnp6em66qqr3NOKX9+FduzYoccff7zC+YpNnTpV48aNqzBHq1atynx96enpSklJ0ZtvvqnTp0+Xm0dStWtQHX5+fnI4HGX+zFTlZ8iy+3i3bNlSsbGxJT4XkJ2drW3btql3795WxQIAAAAAr/P389fCIQslFTXZFyp+vGDIAvn7+Zeat6ZycnL0ww8/qGvXriWmV3T7LqnoAmf79+/3eL6YmBi1bdu2wq+goKBy802cOFHPP/+8br/9du3evbtar9VXmdp4nzlzRmlpae4bsO/bt09paWnKzMyUw+HQlClT9Kc//Un/+te/lJGRobvvvlvx8fHl3jQdAAAAAOwqpV2KVoxcofjw+BLTEyIStGLkCqW0SzFlvenp6fL391fHjh3d0w4cOKCTJ09W2Hjv2LFDAQEBVZ6vuvnat2+ve+65R/fcc49Gjx7tvgp7XWDqqeZff/21rrnmGvfj4s9mjxkzRkuXLtWjjz6qs2fP6r777tOpU6fUt29frVmzplqfmQAAAAAAX5fSLkUDWg5Q5JxISdJHt3+kQa0HmXKku1haWpqSk5NL9Fnbt29XVFSUWrRoUe586enp1ZqvOvnatm3r/kjx3LlzlZGRoREjRmj9+vVlHiW3G1OPePfv31+GYZT6Wrp0qaSic/ZnzZqlo0ePKi8vT+vXr1ebNm3MjAQAAAAAlooIiZAx3ZAx3dDQ3ww1temWpEmTJmnnzp0lpg0fPlwnT540Zb7q5MvIyHA/9vf314oVK7Rx48Y60XRLFn7GGwAAAADgO1588UWFhYWVaIJ9xQMPPKCwsDCrY1Sb7W4nBgAAAADwrn/84x/u+2UnJSVZnKa0WbNmaerUqZJU4q5YdkHjDQAAAAD1XLNmzayOUKEmTZqoSZMmVseoNk41BwAAAADARDTeAAAAAACYiMYbAAAAAAAT0XgDAAAAAGAiGm8AAAAAAExE4w0AAAAAgIlovAEAAAAAMBGNNwAAAAAAJqLxBgAAAADARDTeAAAAAFAbMjOl1NTyvzIzLYvWv39/ORwOORwOpaWleTzf2LFj3fOtWrXKtHzeMnXqVA0fPrzW10vjDQAAAABmy8yUkpOl7t3L/0pOtrT5Hj9+vLKysnTZZZd5PM/ChQuVlZVlYqqq6d+/f4XPp6WlqVOnTrUT5gI03gAAAABgthMnpLy8isfk5RWNs0hoaKhiY2MVEBDg8TyRkZGKjY01MVXlPv/8c61fv77EtPXr12vLli2lxqanp6tz5861Fc2NxhsAAAAA6riEhAS9+OKLJaZt2bJFoaGhOnDgQJnz7N27Vw6HQx988IGuu+46hYaGKjk5Wdu2bauNyHrrrbfUoEGDEkfUx40bp06dOun06dPuaUlJSVq8eLEmTJignJwcTZgwQa+88ooSExNLLO/QoUM68csfNgYOHFirr4fGGwAAAADquF69eumrr75yPzYMQ1OmTNHDDz+s5s2blzlPenq6HA6H5s+fryeffFLp6elKSkrStGnTPF7vs88+q7CwsAq/Mss5vX7UqFFq06aNnn32WUnS9OnTtX79eq1evVqRkZHucYmJiXrnnXcUGRmp1NRURUVFafny5aUa7+LPrr/wwgt64oknqvV6qsvzcwgAAHWSq9ClzZmblZWTpbjwOPVL6id/P3+rYwEAAC+64oor9MYbb7gf/+1vf9PBgwf1+OOPlztPenq6oqKi9PbbbysmJkaSdPPNN2vx4sUer/eBBx7QyJEjKxwTHx9f5nSHw6FnnnlGI0aMUGxsrBYtWqTNmzerWbNmJcYdPnxYv//979WoUSN169ZNJ0+e1KhRo/Q///M/JcampaWpcePGWr58uaKjo6v1eqqLxhulZGVJixdL998vxcVZnQaAmVbuXqnJaybrUPYh97SEiAQtHLJQKe1SLEwGAAC86YorrtC0adN05swZORwOPfHEE/rTn/6ksLCwcudJT0/XsGHD3E23JO3bt0+XXnqpx+tt3LixGjduXO3cN954o9q3b69Zs2Zp7dq16tChQ6kx+/fv1+9+9zsNGDBA/fv310svvaT169dr//79pRrvYcOGuZvu6rye6uJUc5SSlSXNnFn0L4C6a+XulRqxfESJpluSDmcf1ojlI7Ry90qLkgEAAG/r3r27/Pz8lJqaqjlz5igmJkbjxo2rcJ709HT17t27xLS0tDR16dLF4/XW5FRzSVqzZo327Nkjl8ulpk2bljmmT58+GjBgQIlpAwYMUJ8+fUplv+KKK2r0eqqLI94AUA+5Cl2avGayDBmlnjNkyCGHpqyZomHJwzjtHACAOiA0NFQdO3bUu+++q1dffVUfffSR/PzKPw57+vRp7d+/X127di0xPS0tTQ899JDH663JqeapqakaOXKkXnvtNS1dulRPPvmk3nnnnQqXtXHjxjKn5+Tk6Icffqjx66kuGm9IKjq6XXyEOzW15L9S0SnnnHYO1B2bMzeXOtJ9IUOGDmYf1ObMzerfon/tBQMAoK6KjpZCQiq+pVhISNE4k1xxxRVatGiRhg0bVun9rnfs2KGAgAB17NjRPe3AgQM6efJklY4QV/dU88zMTN1000164oknNHr0aLVq1Uq9e/dWamqqunXrVuXlpaeny9/fv8avp7povCGp6DPdM2eWnDZ+/K/fT58uzZhRq5EAmCgrx7PPkng6DgAAVCIpSfruu6L7dOfmSn37Fk3/7DOpQYOi76Oji8aZpHPnzgoMDNS8efMqHZuenq7k5GSFhIS4p23fvl1RUVFq0aKFaRkl6eeff9aIESN08803u6843qtXLw0dOlRPPPGE1qxZU+VlpqWlWfZ6JBpv/OL++6Wbby75HvD881LxRzo42g3ULXHhnu3Uno4DAAAeSEr6tbE2Sn/cy2zLli3TpEmTPLqY2KRJkzRp0qQS04YPH67hw4eblO5XjRs31pdffqmIiIgS0z/88MNqL9PK1yNxcTX8Ii5O6tZNuvAsiy5diqZ160bjDdQ1/ZL6KSEiQQ45ynzeIYcSIxLVL6lfLScDAADeVFhYqGPHjunZZ5/V999/r+nTp5c79sUXX1RYWJgyMjI8Xv4DDzxQ4ZXRUYQj3gBQD/n7+WvhkIUasXyEHHKUuMhacTO+YMgCLqwGAIDNffrpp7r22mvVtm1bvfvuu6WOIhf7xz/+odzcXElSUhVOd581a5amTp0qSYrjaF25aLxRrthYqxMAMFNKuxStGLlCD61+SIdzDrunJ0QkaMGQBdzHGwCAOqB///4qLCysdNyF97uuiiZNmqhJkybVmrc+ofFGuWi8gbovpV2KBrQcoMg5kZKkj27/SINaD+JINwAAgBfxGW8AqOcubLKvan4VTTcAAICX0XgDAAAAAGAiGm8AAAAAAExE4w0AAAAAHjIsuP82rOOtetN4AwAAAEAlAgMDJUnnzp2zOAlqU3G9i+tfXVzVHAAAAAAq4e/vr6ioKB0/flySFBoaKofDYXGquqmwsFAFBQXKy8uTn581x4oNw9C5c+d0/PhxRUVFyd+/ZhefpfEGAAAAAA/E/nK/3eLmG+YwDEO5ublq0KCB5X/ciIqKcte9Jmi8AQAAAMADDodDcXFxatKkiZxOp9Vx6iyn06lPP/1UV111VY1P8a6JwMDAGh/pLmZ54z1jxgzNnDmzxLTk5GTt2bPHokQAAAAAUD5/f3+vNWQozd/fX+fPn1dISIiljbc3+cTF1Tp06KCsrCz312effWZ1JNhAVpY0Y0bRv6hfsrKkt95KpvYAAACwBZ9ovAMCAhQbG+v+io6OtjoSbCArS5o5k8a7Pjp6VHr77bY6etTqJAAAAEDlfKLx/v777xUfH69WrVrpjjvuUGZmptWRAAAAAADwCss/492rVy8tXbpUycnJysrK0syZM9WvXz/t3LlT4eHhpcbn5+crPz/f/Tg7O1tS0QfwffkCB8XZfDmjJBXFC/zle6d8LW5WltxHObdvd0gK0Fdfndf580U3to+NleLiqr98u9SpPrqw9l9/XXjBv0W1qmnt67MLf96dTqecDu/8/NfX/cms7WmG+lojs7Av1W/UyR6okz3YpU5VyecwDMMwMUuVnTp1Ss2bN9f8+fN17733lnq+rIuxSdKbb76p0NDQ2ohYp+Xl+WvUqBslScuWfaCQEJfFiUp6661kvf1223Kfv+22PRo9+rtaTITaQu3Nk+fK06iMUZKkZR2XKcQ/xOJE9sb2rL+oPQDUL+fOndPtt9+u06dPKyIiosKxPtd4S1KPHj00YMAAzZ49u9RzZR3xTkxM1IkTJyp9sVZyOp1at26dBg4c6NNX5jt7VmrUqCjfyZNONWxocaCLFB/1zM2V+vcvyrlw4XldcYX3jnjboU71UVm1nz8/X336FH1ihiPe1Xe24Kwa/bmRJOnk1JNqGOSdHb++7k9mbU8z1NcamYV9qX6jTvZAnezBLnXKzs5WdHS0R4235aeaX+zMmTPau3ev7rrrrjKfDw4OVnBwcKnpgYGBPl2UYr6e88JoRVmty1KWpKSir7Nnf53WvXuAevb07np8vU71UVm179bNTz17UqeaCjR+3YZm/OzXt/3J7O1pBrvk9HXsS5Cok11QJ3vw9TpVJZvlF1ebOnWqNm3apP3792vLli265ZZb5O/vr9GjR1sdDQAAAACAGrP8iPehQ4c0evRo/fTTT4qJiVHfvn31xRdfKCYmxuposInYWKsTwCpNm1qdAAAAAKic5Y33smXLrI4Am6Pxrr+oPQAAAOzA8lPNAQAAAACoy2i8AQAAAAAwEY03AAAAAAAmovEGAAAAAMBENN4AAAAAAJiIxhsAAAAAABPReAMAAAAAYCIabwAAAAAATBRgdQAAAADUHlehS5szNysrJ0tx4XHql9RP/n7+VscCgDqNxhsAAKCeWLl7pSavmaxD2Yfc0xIiErRwyEKltEuxMBkA1G2cag4AAFAPrNy9UiOWjyjRdEvS4ezDGrF8hFbuXmlRMgCo+2i8AQAA6jhXoUuT10yWIaPUc8XTpqyZIlehq7ajAUC9QOMNAABQx23O3FzqSPeFDBk6mH1QmzM312IqAKg/aLwBAADquKycLK+OAwBUDY03AABAHRcXHufVcQCAqqHxBgAAqOP6JfVTQkSCHHKU+bxDDiVGJKpfUr9aTgYA9QONNwAAQB3n7+evhUMWSlKp5rv48YIhC7ifNwCYhMYbAACgHkhpl6IVI1coPjy+xPSEiAStGLmC+3gDgIkCrA4AAACA2pHSLkUDWg5Q5JxISdJHt3+kQa0HcaQbAEzGEW8AAIB65MIm+6rmV9F0A0AtoPEGAAAAAMBENN4AAAAAAJiIxhsAAAAAABPReAMAAAAAYCIabwAAAAAATETjDQAAAACAiWi8AQAAAAAwEY03AAAAAAAmovEGAAAAAMBENN4AAAAAAJiIxhsAAAAAABPReAMAAAAAYCIabwAAAAAATETjDQAAAACAiWi8AQAAAAAwEY03AAAAAAAmCrA6gCS98MILmjdvno4eParOnTtr0aJF6tmzp9Wxai4zUzpxQq5Cl1IPf6292z9Xqo7o8maXy9/PX4qOlpKSrE5Z5JesxlmXusZtl0JPKG1NtK5o3tW3stosp6vQpe1Ht+vE2ROKbhitrrE+llOyT9Yyar9jbSP1aeVj+5NdtqfkzurnzFXXI0WT/LanSYENih74StZfcpbLx3LaanueP6/IvXul7dulgF/+S+ArOSVq7212ySnZ573ULv/Xs8v2lOyTlZzeZ5f9qboMiy1btswICgoyXn/9dePbb781xo8fb0RFRRnHjh3zaP7Tp08bkozTp0+bnLSKDhwwjJAQw5DK/woJKRpnNbtkrYWcBQUFxqpVq4yCggKfzuk1dslKTltmrVf7Eznrb1b2Je+zS1Zy2jJrvdqf7JLTblkvUJVe1PJTzefPn6/x48dr3Lhxat++vV5++WWFhobq9ddftzpazZw4IeXlVTwmL6/iv+TXFrtkJaf32SUrOb3PLlnJ6V12ySnZJys5vc8uWcnpfXbJSk7vs1PWarK08S4oKNA333yjAQMGuKf5+flpwIAB2rp1q4XJas5V6PLqODPZJSs5vc8uWckJAPWHXd5Lyel9dslKTu+zU9bqsvQz3idOnJDL5VLTpk1LTG/atKn27NlT5jz5+fnKz893P87OzpYkOZ1OOZ1O88JWUerhr9XLg3FfH/5a3Tp3MTtOheyStTZyFv8M1eRnyS7bU7JPVnKa4Px5BXowzHn+vFTN/cEb+1Nt5PQKcnqfXbKyL3mdXd5Lyel9/F/Pu+ySU7JX1gtV5efIJy6uVhWzZ8/WzJkzS01fu3atQkNDLUhUtr3bP/foh+fz7Z/rqOJNz1MRu2StzZzr1q2r9rx22Z6SfbKS0/si9+5Vfw/Gff7ZZzqdlVWjddVkf6rNnDVBTu+zS1b2Je+zy3spOb2P/+t5l11ySvbKeqFz5855PNbSxjs6Olr+/v46duxYienHjh1TbGxsmfM8/vjjeuSRR9yPs7OzlZiYqEGDBikiIsLUvFWRqiOS/lHpuD5d+6jb9debH6gCdslaGzmdTqfWrVungQMHKjDQk2MDpdlle0r2yUpOE2zf7tGwPn37Sl27VmsV3tifaiOnV5DT++ySlX3J6+zyXkpO7+P/et5ll5ySvbJeqPjsa09Y2ngHBQWpe/fu+uSTTzR8+HBJUmFhoT755BNNmjSpzHmCg4MVHBxcanpgYGD1fxmZ4PJml3s8zt/i3HbJWps5a/LzZJftWZzB03H1pfY1YZeckn69dVQlAgMCJAv3p9rMWSPk9D67ZGVf8jq7vJeS0/v4v5532SVncQZPx1md9UJV+Rmy/FTzRx55RGPGjNHll1+unj17asGCBTp79qzGjRtndbQa8ffz9+o4M9klKzm9zy5ZyQkA9Ydd3kvJ6X12yUpO77NT1uqyvPG+7bbb9OOPP+qpp57S0aNH1aVLF61Zs6bUBddsJzpaCgmp+LL4ISFF46xml6zk9D67ZCWn99klKzm9yy45JftkJaf32SUrOb3PLlnJ6X12ylpNDsMwDKtD1ER2drYiIyN1+vRpn/qMtyQpM1M6cUJnzrp01W3bpdATmjWtkYZ2ubzorzXR0VJSktUpi/yS1VXo0vaj23Xi7AlFN4xW19iuvpXV5JxOp1MfffSRrr/++pp9dMEu21Mq8+d00ZxoXdHcx7JesE2/Pvy1Pt/+ufp07VN0ypEP5vT57Sm5s5bLx/anXGeu+rzeV5L0+T2fqUFgA6/k9BqTt6fXlLE9N929UeENwoue95WcErX/hbf3pXL5yvaU7PN71Ga/m3x+e0r8X8/b7JJTss/+dIGq9KI03rXg7FkpLKzo+40bnbr6at/5XAJK8tqbsQ1d+HN65ozUsKG1eSpihzrZaXuaxdt1OltwVmGzizbqmcfPqGFQPdyoXnTh9jw59aSiGkZZG6gC9b32dnjPA3WyC+pkD3apU1V6Ub9aygQAAAAAQL1k+We867KsrKKv3Nxfp6WnOxT+y9l8cXFFXwAAAACAuosj3iZavFjq3l3q2/fXaZMnB6h796Lpixdblw0AAAAAUDs44m2i+++Xbr656PuvvjqvBx4I0Msvn1ePHkWbnaPdAAAAAFD30Xib6MJTyc+fL7qGXdeuhrp1szAUAAAAAKBWcao5AAAAAAAmovGuJbGx0m237VFsrNVJAAAAAAC1ica7lsTFSaNHf8fnugEAPsFV6HJ//1nmZyUeAwAA76LxBgCgnlm5e6Xav9je/fim5TepxcIWWrl7pYWpAACou2i8AQCoR1buXqkRy0focM7hEtMPZx/WiOUjaL4BADABjTcAAPWEq9ClyWsmy5BR6rniaVPWTOG0cwAAvIzGGwCAemJz5mYdyj5U7vOGDB3MPqjNmZtrMRUAAHUfjTcAAPVEVk6WV8cBAADP0HgDAFBPxIV7dmsNT8cBAADP0HgDAFBP9Evqp4SIBDnkKPN5hxxKjEhUv6R+tZwMAIC6jcYbAIB6wt/PXwuHLJSkUs138eMFQxbI38+/1rMBAFCX0XgDAFCPpLRL0YqRK9QsolmJ6QkRCVoxcoVS2qVYlAwAgLorwOoAAHzP0aNS69ZWpwBglpR2KRqWPEwbftig1Z+t1tC+Q3VNq2s40g0AgElovAGUQuMN1H3+fv66uvnVOvvtWV3d/GqabgAATMSp5gAAAAAAmIgj3kA9l5VV9JWb++u0tDSpQYOi7+Piir4AAAAAVA9HvIF6bvFiqXt3qW/fX6dNmlQ0rXv3oucBAAAAVB9HvIF67v77pZtvLvo+NVUaP1569VWpW7eiaRztBgAAAGqGxhuo58o6lbxbt18bbwAAAAA1w6nmAAAAAACYiMYbgFtcnDR9OqeXAwAAAN7EqeYA3OLipBkzrE4BAAAA1C0c8QYAAAAAwEQ03gAAAAAAmIjGGwAAAAAAE9F4AwAAAABgIhpvAAAAAABMROMNAAAAAICJaLwBAAAAADARjTcAAAAAACai8QYAAAAAwESWNt4tWrSQw+Eo8fXcc89ZGQkAAAAAAK8KsDrArFmzNH78ePfj8PBwC9MAAAAAAOBdljfe4eHhio2NtToGAAAAAACmsLzxfu655/T0008rKSlJt99+ux5++GEFBJQfKz8/X/n5+e7H2dnZkiSn0ymn02l63uoqzubLGUGd7MIOdSqKFvjL9075cFTTeLtOFy7H6XTK6aiHG9XL7LAvSdTeLnWq76iTPVAne7BLnaqSz2EYhmFilgrNnz9f3bp1U+PGjbVlyxY9/vjjGjdunObPn1/uPDNmzNDMmTNLTX/zzTcVGhpqZlwA8Fhenr9GjbpRkrRs2QcKCXFZnMj+8lx5GpUxSpK0rOMyhfiHWJwItYXaAwB80blz53T77bfr9OnTioiIqHCs1xvvadOmac6cORWO2b17t9q2bVtq+uuvv677779fZ86cUXBwcJnzlnXEOzExUSdOnKj0xVrJ6XRq3bp1GjhwoAIDA62Og3JQJ3uwQ53OnpUaNSrKdvKkUw0bWhzIAt6u09mCs2r050aSpJNTT6phUD3cqF5mh31JovZ2qVN9R53sgTrZg13qlJ2drejoaI8ab6+fav773/9eY8eOrXBMq1atypzeq1cvnT9/Xvv371dycnKZY4KDg8tsygMDA326KMXskrO+o0724Mt1ujBWUU7rsljNW3UKNH5dhi/X3o58fXtS+yL1+bXbCXWyB+pkD75ep6pk83rjHRMTo5iYmGrNm5aWJj8/PzVp0sTLqQAAAAAAsIZlF1fbunWrtm3bpmuuuUbh4eHaunWrHn74Yd15551q1KiRVbEAAAAAAPAqyxrv4OBgLVu2TDNmzFB+fr5atmyphx9+WI888ohVkQAAAAAA8DrLGu9u3brpiy++sGr1AAAAAADUCj+rAwAAAAAAUJfReAMAAAAAYCIabwAAAAAATETjDQAAAACAiWi8AQAAAAAwEY03AAAAAAAmovEGAAAAAMBENN4AAAAAAJiIxhsAAAAAABPReAMAAAAAYCIabwAAAAAATETjDQAAAACAiWi8AQAAAAAwEY03AAAAAAAmovEGAAAAAMBENN4AAAAAAJiIxhsAAAAAABPReAMAAAAAYCIabwAAAAAATETjDQAAAACAiWi8AQAAAAAwEY03AAAAAAAmovEGAAAAAMBENN4AAAAAAJiIxhsAAAAAABPReAMAAAAAYCIabwAAAAAATETjDQAAAACAiWi8AQAAAAAwEY03AAAAAAAmovEGAAAAAMBENN4AAAAAAJiIxhsAAAAAABPReAMAAAAAYCIabwAAAAAATETjDQAAAACAiUxrvJ955hldeeWVCg0NVVRUVJljMjMzdcMNNyg0NFRNmjTRH/7wB50/f96sSAAAAAAA1LoAsxZcUFCgW2+9Vb1799Zrr71W6nmXy6UbbrhBsbGx2rJli7KysnT33XcrMDBQzz77rFmxAAAAAACoVaYd8Z45c6YefvhhdezYsczn165dq127dunvf/+7unTpoqFDh+rpp5/WCy+8oIKCArNiAQAAAABQq0w74l2ZrVu3qmPHjmratKl72uDBg/Xggw/q22+/VdeuXcucLz8/X/n5+e7H2dnZkiSn0ymn02lu6BoozubLGUGd7MIOdSqKFvjL9075cFTTeLtOFy7H6XTK6aiHG9XL7LAvSdTeLnWq76iTPVAne7BLnaqSz7LG++jRoyWabknux0ePHi13vtmzZ2vmzJmlpq9du1ahoaHeDWmCdevWWR0BHqBO9uDLdcrL85d0oyTp448/VkiIy9pAFvJWnfJcee7vP/74Y4X4h3hlufDtfUmi9sV8vU4oQp3sgTrZg6/X6dy5cx6PrVLjPW3aNM2ZM6fCMbt371bbtm2rstgqefzxx/XII4+4H2dnZysxMVGDBg1SRESEaeutKafTqXXr1mngwIEKDAy0Og7KQZ3swQ51Onv21+8HDx6shg2ty2IVb9fpbMFZKaPo+8GDB6thUD3cqF5mh31JovZ2qVN9R53sgTrZg13qVHz2tSeq1Hj//ve/19ixYysc06pVK4+WFRsbqy+//LLEtGPHjrmfK09wcLCCg4NLTQ8MDPTpohSzS876jjrZgy/X6cJYRTmty2I1b9Up0Ph1Gb5cezvy9e1J7YvU59duJ9TJHqiTPfh6naqSrUqNd0xMjGJiYqocqCy9e/fWM888o+PHj6tJkyaSik4liIiIUPv27b2yDgAAAAAArGbaZ7wzMzP1888/KzMzUy6XS2lpaZKkSy+9VGFhYRo0aJDat2+vu+66S3PnztXRo0f1xz/+URMnTizziDYAAAAAAHZk2u3EnnrqKXXt2lXTp0/XmTNn1LVrV3Xt2lVff/21JMnf318ffPCB/P391bt3b9155526++67NWvWLLMiAQAAG3IV/npxwk8PfFriMQAAdmDaEe+lS5dq6dKlFY5p3ry5PvroI7MiAAAAm1u5e6UeWv2Q+/H1b16vhIgELRyyUCntUixMBgCA50w74g0AAFATK3ev1IjlI3Q453CJ6YezD2vE8hFauXulRckAAKgaGm8AAOBzXIUuTV4zWYaMUs8VT5uyZgqnnQMAbIHGGwAA+JzNmZt1KPtQuc8bMnQw+6A2Z26uxVQAAFQPjTcAAPA5WTlZXh0HAICVaLwBAIDPiQuP8+o4AACsROMNAAB8Tr+kfkqISJBDjjKfd8ihxIhE9UvqV8vJAACoOhpvAADgc/z9/LVwyEJJKtV8Fz9eMGSB/P38az0bAABVReMNAAB8Ukq7FK0YuULNIpqVmJ4QkaAVI1dwH28AgG0EWB0AAACgPCntUjQseZg2Z25WVk6W4sLj1C+pH0e6AQC2QuMNAAB8mr+fv/q36G91DAAAqo1TzQEAAAAAMBGNNwAAAAAAJqLxBgAAAADARDTeAAAAAACYiMYbAAAAAAAT0XgDAAAAAGAiGm8AAAAAAExE4w0AAAAAgIlovAEAAAAAMBGNNwAAAAAAJqLxBgAAAADARDTeAAAAAACYiMYbAAAAAAAT0XgDAAAAAGAiGm8AAAAAAExE4w0AAAAAgIlovAEAAAAAMBGNNwAAAAAAJqLxBgAAAADARDTeAAAAAACYiMYbAAAAAAAT0XgDAAAAAGAiGm8AAAAAAExE4w0AAAAAgIlovAEAAAAAMBGNNwAAAAAAJjKt8X7mmWd05ZVXKjQ0VFFRUWWOcTgcpb6WLVtmViQAAAAAAGqdaY13QUGBbr31Vj344IMVjluyZImysrLcX8OHDzcrEgBY4uhRqxMAAADASgFmLXjmzJmSpKVLl1Y4LioqSrGxsWbFAADLHT0qtW5tdQoAAABYxfLPeE+cOFHR0dHq2bOnXn/9dRmGYXUkAAAAAAC8xrQj3p6YNWuWrr32WoWGhmrt2rWaMGGCzpw5o4ceeqjcefLz85Wfn+9+nJ2dLUlyOp1yOp2mZ66u4my+nBHUyS58uU5ZWUVHuHNzJSlQkvTNN+cVGFj0R8XYWCkuzrp8tcnbdbpwOU6nU06H79Xfbnx5X8KvqJM9UCd7oE72YJc6VSWfw6jCIeZp06Zpzpw5FY7ZvXu32rZt6368dOlSTZkyRadOnap0+U899ZSWLFmigwcPljtmxowZ7tPYL/Tmm28qNDS00nUAgJneeitZb7/dttznb7ttj0aP/q4WE9Udea48jcoYJUla1nGZQvxDLE4EAADqs3Pnzun222/X6dOnFRERUeHYKjXeP/74o3766acKx7Rq1UpBQUHux1VpvD/88EPdeOONysvLU3BwcJljyjrinZiYqBMnTlT6Yq3kdDq1bt06DRw4UIGBgVbHQTmokz34cp2Kj3hL0vbtDj3wQIBefvm8unatn0e8vVmnswVn1ejPjSRJJ6eeVMOghjVeZn3ny/sSfkWd7IE62QN1sge71Ck7O1vR0dEeNd5VOtU8JiZGMTExNQpXkbS0NDVq1KjcpluSgoODy3w+MDDQp4tSzC456zvqZA++WKekpKIvSQr45R22R48AdetmXSareatOgcavy/DF2tsZ29MeqJM9UCd7oE724Ot1qko20z7jnZmZqZ9//lmZmZlyuVxKS0uTJF166aUKCwvT+++/r2PHjumKK65QSEiI1q1bp2effVZTp041KxIAAAAAALXOtMb7qaee0htvvOF+3LVrV0nShg0b1L9/fwUGBuqFF17Qww8/LMMwdOmll2r+/PkaP368WZEAoFbFxUnTp9efU8vN5ip0ub//9MCnGtR6kPz9/C1MBAAA4BnTGu+lS5dWeA/vIUOGaMiQIWatHgAsFxcnzZhhdYq6YeXulXpo9a93vLj+zeuVEJGghUMWKqVdioXJAAAAKmf5fbwBAKjIyt0rNWL5CB3OOVxi+uHswxqxfIRW7l5pUTIAAADP0HgDAHyWq9ClyWsmy1DpG3AUT5uyZkqJ09ABAAB8DY03AMBnbc7crEPZh8p93pChg9kHtTlzcy2mAgAAqBoabwCAz8rKyfLqOAAAACvQeAMAfFZcuGeXhPd0HAAAgBVovAEAPqtfUj8lRCTIIUeZzzvkUGJEovol9avlZAAAAJ6j8QYA+Cx/P38tHLJQkko138WPFwxZwP28AQCAT6PxBgD4tJR2KVoxcoWaRTQrMT0hIkErRq7gPt4AAMDnBVgdAACAyqS0S9Gw5GHanLlZWTlZiguPU7+kfhzpBgAAtkDjDQCwBX8/f/Vv0d/qGAAAAFXGqeYAAAAAAJiIxhsAAAAAABPReAMAAAAAYCIabwAAAAAATETjDQAAAACAiWi8AQAAAAAwke1vJ2YYhiQpOzvb4iQVczqdOnfunLKzsxUYGGh1HJSDOtkDdbIH6uT7qJE9UCd7oE72QJ3swS51Ku5Bi3vSiti+8c7JyZEkJSYmWpwEAAAAAFDf5OTkKDIyssIxDsOT9tyHFRYW6siRIwoPD5fD4bA6Trmys7OVmJiogwcPKiIiwuo4KAd1sgfqZA/UyfdRI3ugTvZAneyBOtmDXepkGIZycnIUHx8vP7+KP8Vt+yPefn5+SkhIsDqGxyIiInz6hwdFqJM9UCd7oE6+jxrZA3WyB+pkD9TJHuxQp8qOdBfj4moAAAAAAJiIxhsAAAAAABPReNeS4OBgTZ8+XcHBwVZHQQWokz1QJ3ugTr6PGtkDdbIH6mQP1Mke6mKdbH9xNQAAAAAAfBlHvAEAAAAAMBGNNwAAAAAAJqLxBgAAAADARDTeXvTCCy+oRYsWCgkJUa9evfTll19WOP6dd95R27ZtFRISoo4dO+qjjz6qpaT10+zZs9WjRw+Fh4erSZMmGj58uL777rsK51m6dKkcDkeJr5CQkFpKXD/NmDGj1DZv27ZthfOwL9W+Fi1alKqTw+HQxIkTyxzPvlQ7Pv30U910002Kj4+Xw+HQqlWrSjxvGIaeeuopxcXFqUGDBhowYIC+//77Spdb1d9vKF9FNXI6nXrsscfUsWNHNWzYUPHx8br77rt15MiRCpdZnfdNVKyyfWns2LGltvmQIUMqXS77kndVVqeyfk85HA7Nmzev3GWyP3mXJ///zsvL08SJE3XJJZcoLCxMv/3tb3Xs2LEKl1vd32dWovH2krfffluPPPKIpk+frtTUVHXu3FmDBw/W8ePHyxy/ZcsWjR49Wvfee6+2b9+u4cOHa/jw4dq5c2ctJ68/Nm3apIkTJ+qLL77QunXr5HQ6NWjQIJ09e7bC+SIiIpSVleX+OnDgQC0lrr86dOhQYpt/9tln5Y5lX7LGV199VaJG69atkyTdeuut5c7DvmS+s2fPqnPnznrhhRfKfH7u3Ln6v//7P7388svatm2bGjZsqMGDBysvL6/cZVb19xsqVlGNzp07p9TUVD355JNKTU3VypUr9d133+nmm2+udLlVed9E5SrblyRpyJAhJbb5W2+9VeEy2Ze8r7I6XVifrKwsvf7663I4HPrtb39b4XLZn7zHk/9/P/zww3r//ff1zjvvaNOmTTpy5IhSUlIqXG51fp9ZzoBX9OzZ05g4caL7scvlMuLj443Zs2eXOX7kyJHGDTfcUGJar169jPvvv9/UnPjV8ePHDUnGpk2byh2zZMkSIzIysvZCwZg+fbrRuXNnj8ezL/mGyZMnG61btzYKCwvLfJ59qfZJMt577z3348LCQiM2NtaYN2+ee9qpU6eM4OBg46233ip3OVX9/QbPXVyjsnz55ZeGJOPAgQPljqnq+yaqpqw6jRkzxhg2bFiVlsO+ZC5P9qdhw4YZ1157bYVj2J/MdfH/v0+dOmUEBgYa77zzjnvM7t27DUnG1q1by1xGdX+fWY0j3l5QUFCgb775RgMGDHBP8/Pz04ABA7R169Yy59m6dWuJ8ZI0ePDgcsfD+06fPi1Jaty4cYXjzpw5o+bNmysxMVHDhg3Tt99+Wxvx6rXvv/9e8fHxatWqle644w5lZmaWO5Z9yXoFBQX6+9//rnvuuUcOh6PccexL1tq3b5+OHj1aYn+JjIxUr169yt1fqvP7Dd51+vRpORwORUVFVTiuKu+b8I6NGzeqSZMmSk5O1oMPPqiffvqp3LHsS9Y7duyYPvzwQ917772VjmV/Ms/F///+5ptv5HQ6S+wbbdu2VVJSUrn7RnV+n/kCGm8vOHHihFwul5o2bVpietOmTXX06NEy5zl69GiVxsO7CgsLNWXKFPXp00eXXXZZueOSk5P1+uuv65///Kf+/ve/q7CwUFdeeaUOHTpUi2nrl169emnp0qVas2aNXnrpJe3bt0/9+vVTTk5OmePZl6y3atUqnTp1SmPHji13DPuS9Yr3iarsL9X5/QbvycvL02OPPabRo0crIiKi3HFVfd9EzQ0ZMkR//etf9cknn2jOnDnatGmThg4dKpfLVeZ49iXrvfHGGwoPD6/0FGb2J/OU9f/vo0ePKigoqNQfFyvro4rHeDqPLwiwOgBghYkTJ2rnzp2Vfmand+/e6t27t/vxlVdeqXbt2mnx4sV6+umnzY5ZLw0dOtT9fadOndSrVy81b95cy5cv9+iv1Kh9r732moYOHar4+Phyx7AvAVXjdDo1cuRIGYahl156qcKxvG/WvlGjRrm/79ixozp16qTWrVtr48aNuu666yxMhvK8/vrruuOOOyq9sCf7k3k8/f93XcURby+Ijo6Wv79/qavvHTt2TLGxsWXOExsbW6Xx8J5Jkybpgw8+0IYNG5SQkFCleQMDA9W1a1f95z//MSkdLhYVFaU2bdqUu83Zl6x14MABrV+/Xr/73e+qNB/7Uu0r3ieqsr9U5/cbaq646T5w4IDWrVtX4dHuslT2vgnva9WqlaKjo8vd5uxL1tq8ebO+++67Kv+uktifvKW8/3/HxsaqoKBAp06dKjG+sj6qeIyn8/gCGm8vCAoKUvfu3fXJJ5+4pxUWFuqTTz4pcYTnQr179y4xXpLWrVtX7njUnGEYmjRpkt577z39+9//VsuWLau8DJfLpYyMDMXFxZmQEGU5c+aM9u7dW+42Z1+y1pIlS9SkSRPdcMMNVZqPfan2tWzZUrGxsSX2l+zsbG3btq3c/aU6v99QM8VN9/fff6/169frkksuqfIyKnvfhPcdOnRIP/30U7nbnH3JWq+99pq6d++uzp07V3le9qeaqez/3927d1dgYGCJfeO7775TZmZmuftGdX6f+QSLL+5WZyxbtswIDg42li5dauzatcu47777jKioKOPo0aOGYRjGXXfdZUybNs09/vPPPzcCAgKMP//5z8bu3buN6dOnG4GBgUZGRoZVL6HOe/DBB43IyEhj48aNRlZWlvvr3Llz7jEX12nmzJnGxx9/bOzdu9f45ptvjFGjRhkhISHGt99+a8VLqBd+//vfGxs3bjT27dtnfP7558aAAQOM6Oho4/jx44ZhsC/5EpfLZSQlJRmPPfZYqefYl6yRk5NjbN++3di+fbshyZg/f76xfft29xWxn3vuOSMqKsr45z//aezYscMYNmyY0bJlSyM3N9e9jGuvvdZYtGiR+3Flv99QNRXVqKCgwLj55puNhIQEIy0trcTvqvz8fPcyLq5RZe+bqLqK6pSTk2NMnTrV2Lp1q7Fv3z5j/fr1Rrdu3Yzf/OY3Rl5ennsZ7Evmq+w9zzAM4/Tp00ZoaKjx0ksvlbkM9idzefL/7wceeMBISkoy/v3vfxtff/210bt3b6N3794llpOcnGysXLnS/diT32e+hsbbixYtWmQkJSUZQUFBRs+ePY0vvvjC/dzVV19tjBkzpsT45cuXG23atDGCgoKMDh06GB9++GEtJ65fJJX5tWTJEveYi+s0ZcoUd02bNm1qXH/99UZqamrth69HbrvtNiMuLs4ICgoymjVrZtx2223Gf/7zH/fz7Eu+4+OPPzYkGd99912p59iXrLFhw4Yy3+eKa1FYWGg8+eSTRtOmTY3g4GDjuuuuK1W/5s2bG9OnTy8xraLfb6iaimq0b9++cn9Xbdiwwb2Mi2tU2fsmqq6iOp07d84YNGiQERMTYwQGBhrNmzc3xo8fX6qBZl8yX2XveYZhGIsXLzYaNGhgnDp1qsxlsD+Zy5P/f+fm5hoTJkwwGjVqZISGhhq33HKLkZWVVWo5F87jye8zX+MwDMMw51g6AAAAAADgM94AAAAAAJiIxhsAAAAAABPReAMAAAAAYCIabwAAAAAATETjDQAAAACAiWi8AQAAAAAwEY03AAAAAAAmovEGAAAAAMBENN4AAAAAAJiIxhsAAAAAABPReAMAAAAAYKIAqwMAAIDa1b9/f3Xq1EkhISH6y1/+oqCgID3wwAOaMWOG1dEAAKiTOOINAEA99MYbb6hhw4batm2b5s6dq1mzZmndunVWxwIAoE5yGIZhWB0CAADUnv79+8vlcmnz5s3uaT179tS1116r5557zsJkAADUTRzxBgCgHurUqVOJx3FxcTp+/LhFaQAAqNtovAEAqIcCAwNLPHY4HCosLLQoDQAAdRuNNwAAAAAAJqLxBgAAAADARDTeAAAAAACYiKuaAwAAAABgIo54AwAAAABgIhpvAAAAAABMROMNAAAAAICJaLwBAAAAADARjTcAAAAAACai8QYAAAAAwEQ03gAAAAAAmIjGGwAAAAAAE9F4AwAAAABgIhpvAAAAAABMROMNAAAAAICJaLwBAAAAADDR/wcijttKz6RK9wAAAABJRU5ErkJggg==\n"
                },
                "metadata": {}
              }
            ]
          }
        },
        "16476c18773246bbbd88d93be466de4f": {
          "model_module": "@jupyter-widgets/base",
          "model_name": "LayoutModel",
          "model_module_version": "1.2.0",
          "state": {
            "_model_module": "@jupyter-widgets/base",
            "_model_module_version": "1.2.0",
            "_model_name": "LayoutModel",
            "_view_count": null,
            "_view_module": "@jupyter-widgets/base",
            "_view_module_version": "1.2.0",
            "_view_name": "LayoutView",
            "align_content": null,
            "align_items": null,
            "align_self": null,
            "border": null,
            "bottom": null,
            "display": null,
            "flex": null,
            "flex_flow": null,
            "grid_area": null,
            "grid_auto_columns": null,
            "grid_auto_flow": null,
            "grid_auto_rows": null,
            "grid_column": null,
            "grid_gap": null,
            "grid_row": null,
            "grid_template_areas": null,
            "grid_template_columns": null,
            "grid_template_rows": null,
            "height": null,
            "justify_content": null,
            "justify_items": null,
            "left": null,
            "margin": null,
            "max_height": null,
            "max_width": null,
            "min_height": null,
            "min_width": null,
            "object_fit": null,
            "object_position": null,
            "order": null,
            "overflow": null,
            "overflow_x": null,
            "overflow_y": null,
            "padding": null,
            "right": null,
            "top": null,
            "visibility": null,
            "width": null
          }
        },
        "233990997f03464f80ef57c7f55e5c94": {
          "model_module": "@jupyter-widgets/base",
          "model_name": "LayoutModel",
          "model_module_version": "1.2.0",
          "state": {
            "_model_module": "@jupyter-widgets/base",
            "_model_module_version": "1.2.0",
            "_model_name": "LayoutModel",
            "_view_count": null,
            "_view_module": "@jupyter-widgets/base",
            "_view_module_version": "1.2.0",
            "_view_name": "LayoutView",
            "align_content": null,
            "align_items": null,
            "align_self": null,
            "border": null,
            "bottom": null,
            "display": null,
            "flex": null,
            "flex_flow": null,
            "grid_area": null,
            "grid_auto_columns": null,
            "grid_auto_flow": null,
            "grid_auto_rows": null,
            "grid_column": null,
            "grid_gap": null,
            "grid_row": null,
            "grid_template_areas": null,
            "grid_template_columns": null,
            "grid_template_rows": null,
            "height": null,
            "justify_content": null,
            "justify_items": null,
            "left": null,
            "margin": null,
            "max_height": null,
            "max_width": null,
            "min_height": null,
            "min_width": null,
            "object_fit": null,
            "object_position": null,
            "order": null,
            "overflow": null,
            "overflow_x": null,
            "overflow_y": null,
            "padding": null,
            "right": null,
            "top": null,
            "visibility": null,
            "width": null
          }
        },
        "58ac8846e490403eb4a18b07dc2937d7": {
          "model_module": "@jupyter-widgets/controls",
          "model_name": "SliderStyleModel",
          "model_module_version": "1.5.0",
          "state": {
            "_model_module": "@jupyter-widgets/controls",
            "_model_module_version": "1.5.0",
            "_model_name": "SliderStyleModel",
            "_view_count": null,
            "_view_module": "@jupyter-widgets/base",
            "_view_module_version": "1.2.0",
            "_view_name": "StyleView",
            "description_width": "",
            "handle_color": null
          }
        },
        "429d21f97c5f4b7090f047ac74359430": {
          "model_module": "@jupyter-widgets/base",
          "model_name": "LayoutModel",
          "model_module_version": "1.2.0",
          "state": {
            "_model_module": "@jupyter-widgets/base",
            "_model_module_version": "1.2.0",
            "_model_name": "LayoutModel",
            "_view_count": null,
            "_view_module": "@jupyter-widgets/base",
            "_view_module_version": "1.2.0",
            "_view_name": "LayoutView",
            "align_content": null,
            "align_items": null,
            "align_self": null,
            "border": null,
            "bottom": null,
            "display": null,
            "flex": null,
            "flex_flow": null,
            "grid_area": null,
            "grid_auto_columns": null,
            "grid_auto_flow": null,
            "grid_auto_rows": null,
            "grid_column": null,
            "grid_gap": null,
            "grid_row": null,
            "grid_template_areas": null,
            "grid_template_columns": null,
            "grid_template_rows": null,
            "height": null,
            "justify_content": null,
            "justify_items": null,
            "left": null,
            "margin": null,
            "max_height": null,
            "max_width": null,
            "min_height": null,
            "min_width": null,
            "object_fit": null,
            "object_position": null,
            "order": null,
            "overflow": null,
            "overflow_x": null,
            "overflow_y": null,
            "padding": null,
            "right": null,
            "top": null,
            "visibility": null,
            "width": null
          }
        }
      }
    }
  },
  "cells": [
    {
      "cell_type": "markdown",
      "metadata": {
        "id": "view-in-github",
        "colab_type": "text"
      },
      "source": [
        "<a href=\"https://colab.research.google.com/github/vlopezma/SyS_25-1/blob/main/Taller_Laplace/Taller_Laplace.ipynb\" target=\"_parent\"><img src=\"https://colab.research.google.com/assets/colab-badge.svg\" alt=\"Open In Colab\"/></a>"
      ]
    },
    {
      "cell_type": "code",
      "source": [
        "!pip install control"
      ],
      "metadata": {
        "colab": {
          "base_uri": "https://localhost:8080/"
        },
        "id": "iN6Halm4LWwG",
        "outputId": "f870bfc3-408f-4bfb-934a-4fc350dc8f26"
      },
      "execution_count": 4,
      "outputs": [
        {
          "output_type": "stream",
          "name": "stdout",
          "text": [
            "Collecting control\n",
            "  Downloading control-0.10.2-py3-none-any.whl.metadata (7.6 kB)\n",
            "Requirement already satisfied: numpy>=1.23 in /usr/local/lib/python3.11/dist-packages (from control) (2.0.2)\n",
            "Requirement already satisfied: scipy>=1.8 in /usr/local/lib/python3.11/dist-packages (from control) (1.15.3)\n",
            "Requirement already satisfied: matplotlib>=3.6 in /usr/local/lib/python3.11/dist-packages (from control) (3.10.0)\n",
            "Requirement already satisfied: contourpy>=1.0.1 in /usr/local/lib/python3.11/dist-packages (from matplotlib>=3.6->control) (1.3.2)\n",
            "Requirement already satisfied: cycler>=0.10 in /usr/local/lib/python3.11/dist-packages (from matplotlib>=3.6->control) (0.12.1)\n",
            "Requirement already satisfied: fonttools>=4.22.0 in /usr/local/lib/python3.11/dist-packages (from matplotlib>=3.6->control) (4.58.5)\n",
            "Requirement already satisfied: kiwisolver>=1.3.1 in /usr/local/lib/python3.11/dist-packages (from matplotlib>=3.6->control) (1.4.8)\n",
            "Requirement already satisfied: packaging>=20.0 in /usr/local/lib/python3.11/dist-packages (from matplotlib>=3.6->control) (24.2)\n",
            "Requirement already satisfied: pillow>=8 in /usr/local/lib/python3.11/dist-packages (from matplotlib>=3.6->control) (11.2.1)\n",
            "Requirement already satisfied: pyparsing>=2.3.1 in /usr/local/lib/python3.11/dist-packages (from matplotlib>=3.6->control) (3.2.3)\n",
            "Requirement already satisfied: python-dateutil>=2.7 in /usr/local/lib/python3.11/dist-packages (from matplotlib>=3.6->control) (2.9.0.post0)\n",
            "Requirement already satisfied: six>=1.5 in /usr/local/lib/python3.11/dist-packages (from python-dateutil>=2.7->matplotlib>=3.6->control) (1.17.0)\n",
            "Downloading control-0.10.2-py3-none-any.whl (578 kB)\n",
            "\u001b[?25l   \u001b[90m━━━━━━━━━━━━━━━━━━━━━━━━━━━━━━━━━━━━━━━━\u001b[0m \u001b[32m0.0/578.3 kB\u001b[0m \u001b[31m?\u001b[0m eta \u001b[36m-:--:--\u001b[0m\r\u001b[2K   \u001b[91m━━━━━━━━━━\u001b[0m\u001b[91m╸\u001b[0m\u001b[90m━━━━━━━━━━━━━━━━━━━━━━━━━━━━━\u001b[0m \u001b[32m153.6/578.3 kB\u001b[0m \u001b[31m4.7 MB/s\u001b[0m eta \u001b[36m0:00:01\u001b[0m\r\u001b[2K   \u001b[90m━━━━━━━━━━━━━━━━━━━━━━━━━━━━━━━━━━━━━━━━\u001b[0m \u001b[32m578.3/578.3 kB\u001b[0m \u001b[31m9.2 MB/s\u001b[0m eta \u001b[36m0:00:00\u001b[0m\n",
            "\u001b[?25hInstalling collected packages: control\n",
            "Successfully installed control-0.10.2\n"
          ]
        }
      ]
    },
    {
      "cell_type": "markdown",
      "source": [
        "# Transformada de Laplace - Taller SyS\n",
        "\n",
        "Valeria López Marín - 1002653352"
      ],
      "metadata": {
        "id": "7Z0MWbSthlEH"
      }
    },
    {
      "cell_type": "markdown",
      "source": [
        "\n",
        "\n",
        "---\n",
        "\n",
        "###  Demuestre si los siguientes sistemas de la forma $y = \\mathcal{H}\\{x\\}$ son sistemas lineales e invariantes en el tiempo (SLIT)  \n",
        "*(simule los sistemas en Python):*\n",
        "\n",
        "- $y[n] = x[n]/3 + 2x[n-1] - y[n-1]$\n",
        "- $y[n] = \\sum_{k=-\\infty}^{n} x^2[k]$\n",
        "- $y[n] = \\text{median}(x[n])$, donde *median* es la función mediana sobre una ventana de tamaño 3.\n",
        "- $y(t) = A x(t) + B$, donde $A, B \\in \\mathbb{R}$.\n",
        "\n",
        "---"
      ],
      "metadata": {
        "id": "TUdmTRy8bnMZ"
      }
    },
    {
      "cell_type": "markdown",
      "source": [
        " Para verificar si un sistema es SLIT (Sistema Lineal e Invariante en el Tiempo), debe cumplir con dos propiedades fundamentales:\n",
        "\n",
        "1. **Linealidad**: El sistema debe cumplir el principio de superposición:\n",
        "   $ H[a · x1 + b · x2] = a · H{x1} + b · H{x2} $, para cualquier a, b constantes.\n",
        "\n",
        "2. **Invariancia en el tiempo**: Si se aplica una entrada desplazada $ x(t - t0)$, la salida también debe desplazarse en el tiempo:\n",
        "   $x(t - t0) ➞ y(t - t0)$"
      ],
      "metadata": {
        "id": "mibaLgaCe37W"
      }
    },
    {
      "cell_type": "code",
      "execution_count": null,
      "metadata": {
        "colab": {
          "base_uri": "https://localhost:8080/"
        },
        "id": "4agl06FqbmBB",
        "outputId": "889de7bb-7eb1-42f9-b336-5d14836aae12"
      },
      "outputs": [
        {
          "output_type": "stream",
          "name": "stdout",
          "text": [
            "Sistema 1 - ¿Es lineal?: True\n",
            "Sistema 1 - ¿Es invariante en el tiempo?: True\n"
          ]
        }
      ],
      "source": [
        "import numpy as np\n",
        "import matplotlib.pyplot as plt\n",
        "\n",
        "# -------------------------\n",
        "# Sistema 1:\n",
        "# y[n] = x[n]/3 + 2x[n-1] - y[n-1]\n",
        "# -------------------------\n",
        "\n",
        "def sistema1(x):\n",
        "    y = np.zeros_like(x, dtype=float)\n",
        "    for n in range(1, len(x)):\n",
        "        y[n] = (1/3)*x[n] + 2*x[n-1] - y[n-1]\n",
        "    return y\n",
        "\n",
        "# Prueba de linealidad\n",
        "x1 = np.array([1, 2, 0, 0, 0], dtype=float)\n",
        "x2 = np.array([0, 1, 0, 1, 0], dtype=float)\n",
        "a, b = 2, -1\n",
        "\n",
        "y1 = sistema1(a * x1 + b * x2)\n",
        "y2 = a * sistema1(x1) + b * sistema1(x2)\n",
        "\n",
        "print(\"Sistema 1 - ¿Es lineal?:\", np.allclose(y1, y2))\n",
        "\n",
        "# Prueba de invarianza en el tiempo\n",
        "x = np.array([0, 1, 2, 0, 0], dtype=float)\n",
        "delay = 1\n",
        "x_delayed = np.roll(x, delay)\n",
        "x_delayed[:delay] = 0  # rellenamos con ceros\n",
        "\n",
        "y = sistema1(x)\n",
        "y_expected = np.roll(y, delay)\n",
        "y_expected[:delay] = 0\n",
        "\n",
        "y_delayed = sistema1(x_delayed)\n",
        "print(\"Sistema 1 - ¿Es invariante en el tiempo?:\", np.allclose(y_expected, y_delayed))\n",
        "\n"
      ]
    },
    {
      "cell_type": "code",
      "source": [
        "# -------------------------\n",
        "# Sistema 2:\n",
        "# y[n] = suma x^2[k]\n",
        "# -------------------------\n",
        "\n",
        "def sistema2(x):\n",
        "    y = np.zeros_like(x, dtype=float)\n",
        "    for n in range(len(x)):\n",
        "        y[n] = np.sum(x[:n+1]**2)\n",
        "    return y\n",
        "\n",
        "y1 = sistema2(a * x1 + b * x2)\n",
        "y2 = a * sistema2(x1) + b * sistema2(x2)\n",
        "print(\"Sistema 2 - ¿Es lineal?:\", np.allclose(y1, y2))\n",
        "\n",
        "# Prueba de invarianza en el tiempo\n",
        "x = np.array([0, 1, 2, 0, 0], dtype=float)\n",
        "x_delayed = np.roll(x, delay)\n",
        "x_delayed[:delay] = 0\n",
        "\n",
        "y = sistema2(x)\n",
        "y_expected = np.roll(y, delay)\n",
        "y_expected[:delay] = 0\n",
        "\n",
        "y_delayed = sistema2(x_delayed)\n",
        "print(\"Sistema 2 - ¿Es invariante en el tiempo?:\", np.allclose(y_expected, y_delayed))\n",
        "\n",
        "\n"
      ],
      "metadata": {
        "colab": {
          "base_uri": "https://localhost:8080/"
        },
        "id": "-UFFxlcleNrc",
        "outputId": "7085e8fb-a7ca-4d03-f18c-bc4ed522efe2"
      },
      "execution_count": null,
      "outputs": [
        {
          "output_type": "stream",
          "name": "stdout",
          "text": [
            "Sistema 2 - ¿Es lineal?: False\n",
            "Sistema 2 - ¿Es invariante en el tiempo?: True\n"
          ]
        }
      ]
    },
    {
      "cell_type": "code",
      "source": [
        "# -------------------------\n",
        "# Sistema 3:\n",
        "# y[n] = mediana(x[n]) sobre ventana de tamaño 3\n",
        "# -------------------------\n",
        "\n",
        "def sistema3(x):\n",
        "    y = np.zeros_like(x, dtype=float)\n",
        "    x_padded = np.pad(x, (1, 1), mode='edge')  # relleno con el valor de borde\n",
        "    for n in range(len(x)):\n",
        "        ventana = x_padded[n:n+3]\n",
        "        y[n] = np.median(ventana)\n",
        "    return y\n",
        "\n",
        "y1 = sistema3(a * x1 + b * x2)\n",
        "y2 = a * sistema3(x1) + b * sistema3(x2)\n",
        "print(\"Sistema 3 - ¿Es lineal?:\", np.allclose(y1, y2))\n",
        "\n",
        "# Prueba de invarianza en el tiempo\n",
        "x = np.array([0, 1, 2, 0, 0], dtype=float)\n",
        "x_delayed = np.roll(x, delay)\n",
        "x_delayed[:delay] = 0\n",
        "\n",
        "y = sistema3(x)\n",
        "y_expected = np.roll(y, delay)\n",
        "y_expected[:delay] = 0\n",
        "\n",
        "y_delayed = sistema3(x_delayed)\n",
        "print(\"Sistema 3 - ¿Es invariante en el tiempo?:\", np.allclose(y_expected, y_delayed))"
      ],
      "metadata": {
        "colab": {
          "base_uri": "https://localhost:8080/"
        },
        "id": "TBGFtJnGgsMp",
        "outputId": "8811015f-99c7-4a51-cd6e-547cd2bacb12"
      },
      "execution_count": null,
      "outputs": [
        {
          "output_type": "stream",
          "name": "stdout",
          "text": [
            "Sistema 3 - ¿Es lineal?: False\n",
            "Sistema 3 - ¿Es invariante en el tiempo?: True\n"
          ]
        }
      ]
    },
    {
      "cell_type": "code",
      "source": [
        "# -------------------------\n",
        "# Sistema 4:\n",
        "# y(t) = A*x(t) + B\n",
        "# -------------------------\n",
        "\n",
        "A, B = 2, 3\n",
        "\n",
        "def sistema4(x):\n",
        "    return A * x + B\n",
        "\n",
        "y1 = sistema4(a * x1 + b * x2)\n",
        "y2 = a * sistema4(x1) + b * sistema4(x2)\n",
        "print(\"Sistema 4 - ¿Es lineal?:\", np.allclose(y1, y2))\n",
        "\n",
        "# Prueba de invarianza en el tiempo\n",
        "x = np.array([0, 1, 2, 0, 0], dtype=float)\n",
        "x_delayed = np.roll(x, delay)\n",
        "x_delayed[:delay] = 0\n",
        "\n",
        "y = sistema4(x)\n",
        "y_expected = np.roll(y, delay)\n",
        "y_expected[:delay] = 0\n",
        "\n",
        "y_delayed = sistema4(x_delayed)\n",
        "print(\"Sistema 4 - ¿Es invariante en el tiempo?:\", np.allclose(y_expected, y_delayed))"
      ],
      "metadata": {
        "colab": {
          "base_uri": "https://localhost:8080/"
        },
        "id": "IRS5DO6yeTpE",
        "outputId": "8d6f82ca-6ea8-4925-9f09-44b55370242a"
      },
      "execution_count": null,
      "outputs": [
        {
          "output_type": "stream",
          "name": "stdout",
          "text": [
            "Sistema 4 - ¿Es lineal?: True\n",
            "Sistema 4 - ¿Es invariante en el tiempo?: False\n"
          ]
        }
      ]
    },
    {
      "cell_type": "code",
      "source": [
        "# -------------------------\n",
        "# Simulación visual de los sistemas\n",
        "# -------------------------\n",
        "\n",
        "entradas = {\n",
        "    'Sistema 1': np.array([0, 1, 2, 1, 0, 0], dtype=float),\n",
        "    'Sistema 2': np.array([1, -1, 2, -2, 1, 0], dtype=float),\n",
        "    'Sistema 3': np.array([2, 3, 1, 5, 0, 1], dtype=float),\n",
        "    'Sistema 4': np.array([0, 0.5, 1, 1.5, 2, 2.5], dtype=float)\n",
        "}\n",
        "\n",
        "sistemas = {\n",
        "    'Sistema 1': sistema1,\n",
        "    'Sistema 2': sistema2,\n",
        "    'Sistema 3': sistema3,\n",
        "    'Sistema 4': sistema4\n",
        "}\n",
        "\n",
        "for nombre, x in entradas.items():\n",
        "    y = sistemas[nombre](x)\n",
        "    plt.figure(figsize=(8, 3))\n",
        "    plt.stem(x, basefmt=\" \", linefmt='C0-', markerfmt='C0o', label='Entrada x[n]')\n",
        "    plt.stem(y, basefmt=\" \", linefmt='C1-', markerfmt='C1s', label='Salida y[n]')\n",
        "    plt.title(f\"{nombre}: Simulación del sistema\")\n",
        "    plt.xlabel(\"n\")\n",
        "    plt.ylabel(\"Amplitud\")\n",
        "    plt.grid(True)\n",
        "    plt.legend()\n",
        "    plt.tight_layout()\n",
        "    plt.show()\n"
      ],
      "metadata": {
        "colab": {
          "base_uri": "https://localhost:8080/",
          "height": 1000
        },
        "id": "48tbUjuKmU_q",
        "outputId": "7fc23666-6bd6-4162-d39b-60bd07d53e83"
      },
      "execution_count": null,
      "outputs": [
        {
          "output_type": "display_data",
          "data": {
            "text/plain": [
              "<Figure size 800x300 with 1 Axes>"
            ],
            "image/png": "[encoded data removed]"
          },
          "metadata": {}
        },
        {
          "output_type": "display_data",
          "data": {
            "text/plain": [
              "<Figure size 800x300 with 1 Axes>"
            ],
            "image/png": "[encoded data removed]"
          },
          "metadata": {}
        },
        {
          "output_type": "display_data",
          "data": {
            "text/plain": [
              "<Figure size 800x300 with 1 Axes>"
            ],
            "image/png": "[encoded data removed]"
          },
          "metadata": {}
        },
        {
          "output_type": "display_data",
          "data": {
            "text/plain": [
              "<Figure size 800x300 with 1 Axes>"
            ],
            "image/png": "[encoded data removed]"
          },
          "metadata": {}
        }
      ]
    },
    {
      "cell_type": "markdown",
      "source": [
        "---\n",
        "\n",
        "###  Hallar la salida $y[n]$ de un SLIT ante la entrada  \n",
        "\n",
        "$x[n] = \\{-15,\\ 5,\\ -3^{\\dagger},\\ 0,\\ 5,\\ 7,\\ -1\\}$,  \n",
        "\n",
        "con respuesta al impulso  \n",
        "\n",
        "$h[n] = \\{1,\\ -2,\\ 0,\\ 1,\\ -2,\\ 4\\}$,  \n",
        "\n",
        "donde $n \\in \\{0,\\ \\pm 1,\\ \\pm 2,\\ \\ldots\\}$ y  \n",
        "\n",
        "$x[n] = 0$ para $x[n'] \\notin x[n]$.\n",
        "\n",
        "> **Nota**: Utilizar método gráfico para encontrar la salida y comprobar con simulación en Python.  \n",
        "> Ver cuaderno *Convolución discreta*.  \n",
        "> Repetir el proceso para el sistema con **respuesta al escalón**.\n"
      ],
      "metadata": {
        "id": "ZOyrXTb5oSYl"
      }
    },
    {
      "cell_type": "code",
      "source": [
        "# 🔹 Convolución con respuesta al impulso (h[n] dado directamente)\n",
        "\n",
        "import numpy as np\n",
        "import matplotlib.pyplot as plt\n",
        "from ipywidgets import interact\n",
        "\n",
        "# Señales dadas\n",
        "x = np.array([-15, 5, -3, 0, 5, 7, -1]).reshape(-1, 1)\n",
        "h = np.array([1, -2, 0, 1, -2, 4]).reshape(-1, 1)  # respuesta al impulso directamente\n",
        "\n",
        "# Función de convolución paso a paso\n",
        "def convgraf(h, x):\n",
        "    lx = len(x)\n",
        "    lh = len(h)\n",
        "    M = 2 * lx + lh\n",
        "    xm = np.zeros((M, M))\n",
        "    hm = np.r_[np.zeros((lx, 1)), h, np.zeros((lx, 1))]\n",
        "    ym = np.zeros((M, M))\n",
        "    for i in range(M - lx + 1):\n",
        "        xm[i:i + lx, i] = np.flip(x).reshape(-1)\n",
        "        ym[i, i] = xm[:, i].T.dot(hm)\n",
        "    return xm, ym, hm\n",
        "\n",
        "# Función de visualización gráfica\n",
        "def plot_conv(k, xm, ym, hm):\n",
        "    plt.figure(figsize=(10, 4))\n",
        "    plt.stem(xm[:, k], markerfmt='+', linefmt='b-', basefmt=\" \", label='$x[k]$')\n",
        "    plt.stem(hm, linefmt='g-', markerfmt='o', basefmt=\" \", label='$h[n-k]$')\n",
        "    plt.stem(ym[:k, :].sum(axis=0), linefmt='r-', markerfmt='s', basefmt=\" \", label='$y[n] = x * h$')\n",
        "    plt.title(f'Convolución paso a paso: $y[n] = x[k] * h[n-k]$ (n = {k})')\n",
        "    plt.xlabel('n')\n",
        "    plt.grid(True)\n",
        "    plt.legend()\n",
        "    plt.tight_layout()\n",
        "    plt.show()\n",
        "\n",
        "# Ejecutar\n",
        "xm, ym, hm = convgraf(h, x)\n",
        "\n",
        "@interact(k=(0, xm.shape[0] - len(x), 1))\n",
        "def show_frame(k=0):\n",
        "    plot_conv(k, xm, ym, hm)\n"
      ],
      "metadata": {
        "colab": {
          "base_uri": "https://localhost:8080/",
          "height": 494,
          "referenced_widgets": [
            "97c69cded5df4a02af2aea545edfbeac",
            "486b5979692940f0a510bc9b09eb153e",
            "6ef4f7b6057944d0a6442a5fe63e66c5",
            "039ab598a66b418ab2472a1ecd46da78",
            "c74f09669e3e47cab9ff42d8e0c801f7",
            "c74eb66b70a54a7da2fcb5df4360b6b0",
            "71d1a25f0c714c918408cf1c5ff896fa"
          ]
        },
        "id": "kv0FVdt1nwOW",
        "outputId": "c8a75a72-d46d-4703-88e1-42855b3fe3fd"
      },
      "execution_count": null,
      "outputs": [
        {
          "output_type": "stream",
          "name": "stderr",
          "text": [
            "/tmp/ipython-input-9-1827797577.py:21: DeprecationWarning: Conversion of an array with ndim > 0 to a scalar is deprecated, and will error in future. Ensure you extract a single element from your array before performing this operation. (Deprecated NumPy 1.25.)\n",
            "  ym[i, i] = xm[:, i].T.dot(hm)\n"
          ]
        },
        {
          "output_type": "display_data",
          "data": {
            "text/plain": [
              "interactive(children=(IntSlider(value=0, description='k', max=13), Output()), _dom_classes=('widget-interact',…"
            ],
            "application/vnd.jupyter.widget-view+json": {
              "version_major": 2,
              "version_minor": 0,
              "model_id": "97c69cded5df4a02af2aea545edfbeac"
            }
          },
          "metadata": {}
        }
      ]
    },
    {
      "cell_type": "code",
      "source": [
        "# 🔸 Convolución con respuesta al escalón (requiere derivar h[n] con np.diff)\n",
        "\n",
        "import numpy as np\n",
        "import matplotlib.pyplot as plt\n",
        "from ipywidgets import interact\n",
        "\n",
        "# Señales dadas\n",
        "x = np.array([-15, 5, -3, 0, 5, 7, -1]).reshape(-1, 1)\n",
        "h_e = np.array([-1, 6, -10, 3, 1, -10, 2, 5])  # respuesta al escalón\n",
        "h = np.diff(h_e).reshape(-1, 1)               # derivada discreta → respuesta al impulso\n",
        "\n",
        "# Función de convolución paso a paso\n",
        "def convgraf(h, x):\n",
        "    lx = len(x)\n",
        "    lh = len(h)\n",
        "    M = 2 * lx + lh\n",
        "    xm = np.zeros((M, M))\n",
        "    hm = np.r_[np.zeros((lx, 1)), h, np.zeros((lx, 1))]\n",
        "    ym = np.zeros((M, M))\n",
        "    for i in range(M - lx + 1):\n",
        "        xm[i:i + lx, i] = np.flip(x).reshape(-1)\n",
        "        ym[i, i] = xm[:, i].T.dot(hm)\n",
        "    return xm, ym, hm\n",
        "\n",
        "# Función de visualización gráfica\n",
        "def plot_conv(k, xm, ym, hm):\n",
        "    plt.figure(figsize=(10, 4))\n",
        "    plt.stem(xm[:, k], markerfmt='+', linefmt='b-', basefmt=\" \", label='$x[k]$')\n",
        "    plt.stem(hm, linefmt='g-', markerfmt='o', basefmt=\" \", label='$h[n-k]$')\n",
        "    plt.stem(ym[:k, :].sum(axis=0), linefmt='r-', markerfmt='s', basefmt=\" \", label='$y[n] = x * h$')\n",
        "    plt.title(f'Convolución desde escalón: $y[n] = x[k] * h[n-k]$ (n = {k})')\n",
        "    plt.xlabel('n')\n",
        "    plt.grid(True)\n",
        "    plt.legend()\n",
        "    plt.tight_layout()\n",
        "    plt.show()\n",
        "\n",
        "# Ejecutar\n",
        "xm, ym, hm = convgraf(h, x)\n",
        "\n",
        "@interact(k=(0, xm.shape[0] - len(x), 1))\n",
        "def show_frame(k=0):\n",
        "    plot_conv(k, xm, ym, hm)\n"
      ],
      "metadata": {
        "colab": {
          "base_uri": "https://localhost:8080/",
          "height": 494,
          "referenced_widgets": [
            "0a18aa0d89444a0aa4249a73cb2094c8",
            "59be544dd5fa45249c4e529f99a64892",
            "77adad73c59e4486bbc8475e9df99178",
            "16476c18773246bbbd88d93be466de4f",
            "233990997f03464f80ef57c7f55e5c94",
            "58ac8846e490403eb4a18b07dc2937d7",
            "429d21f97c5f4b7090f047ac74359430"
          ]
        },
        "id": "yUB5cEhWn1ym",
        "outputId": "394fcdad-7198-47e5-fd32-7badd1b6b9b0"
      },
      "execution_count": null,
      "outputs": [
        {
          "output_type": "stream",
          "name": "stderr",
          "text": [
            "/tmp/ipython-input-10-2710553348.py:22: DeprecationWarning: Conversion of an array with ndim > 0 to a scalar is deprecated, and will error in future. Ensure you extract a single element from your array before performing this operation. (Deprecated NumPy 1.25.)\n",
            "  ym[i, i] = xm[:, i].T.dot(hm)\n"
          ]
        },
        {
          "output_type": "display_data",
          "data": {
            "text/plain": [
              "interactive(children=(IntSlider(value=0, description='k', max=14), Output()), _dom_classes=('widget-interact',…"
            ],
            "application/vnd.jupyter.widget-view+json": {
              "version_major": 2,
              "version_minor": 0,
              "model_id": "0a18aa0d89444a0aa4249a73cb2094c8"
            }
          },
          "metadata": {}
        }
      ]
    },
    {
      "cell_type": "markdown",
      "source": [
        "### Composición de sistemas lineales — Serie de dos sistemas\n",
        "\n",
        "Sea la señal Gaussiana $x(t) = e^{-at^2}$ con $a \\in \\mathbb{R}^+$, el sistema $A$ con relación entrada-salida $y_A(t) = x^2(t)$, y el sistema lineal e invariante en el tiempo $B$ con respuesta al impulso $h_B(t) = Be^{-bt^2}$:\n",
        "\n",
        "**a)** Encuentre la salida del sistema en serie  \n",
        "$x(t) \\rightarrow h_B(t) \\rightarrow y_A(t) \\rightarrow y(t)$\n",
        "\n",
        "**b)** Encuentre la salida del sistema en serie  \n",
        "$x(t) \\rightarrow y_A(t) \\rightarrow h_B(t) \\rightarrow y(t)$\n",
        "\\\n",
        "\n",
        "\n",
        "\n"
      ],
      "metadata": {
        "id": "l8oP-tk7qvXY"
      }
    },
    {
      "cell_type": "markdown",
      "source": [
        "### ✨ Punto a) — Composición: $x(t) \\rightarrow h_B(t) \\rightarrow y_A(t) \\rightarrow y(t)$\n",
        "\n",
        "**Datos:**\n",
        "\n",
        "- $x(t) = e^{-at^2}$ (señal Gaussiana)\n",
        "- $h_B(t) = B e^{-bt^2}$ (respuesta al impulso del sistema $B$)\n",
        "- $y_A(t) = x^2(t)$ (salida del sistema $A$)\n",
        "\n",
        "---\n",
        "\n",
        "#### 🔹 Paso 1: Aplicar $x(t)$ al sistema $B$ (convolución)\n",
        "\n",
        "Como $B$ es un SLIT, su salida es:\n",
        "\n",
        "$$\n",
        "x_1(t) = (x * h_B)(t) = \\int_{-\\infty}^{\\infty} e^{-a\\tau^2} \\cdot B e^{-b(t - \\tau)^2} \\, d\\tau\n",
        "$$\n",
        "\n",
        "Esto es la **convolución de dos Gaussianas**, cuyo resultado también es una Gaussiana:\n",
        "\n",
        "$$\n",
        "x_1(t) = B \\sqrt{\\frac{\\pi}{a + b}} \\cdot e^{-\\frac{ab}{a + b} t^2}\n",
        "$$\n",
        "\n",
        "---\n",
        "\n",
        "#### 🔹 Paso 2: Pasar $x_1(t)$ por el sistema $A$ (cuadrado)\n",
        "\n",
        "El sistema $A$ aplica:\n",
        "\n",
        "$$\n",
        "y(t) = y_A(t) = \\left( x_1(t) \\right)^2\n",
        "$$\n",
        "\n",
        "Sustituyendo:\n",
        "\n",
        "$$\n",
        "y(t) = \\left( B \\sqrt{\\frac{\\pi}{a + b}} \\cdot e^{-\\frac{ab}{a + b} t^2} \\right)^2\n",
        "= B^2 \\cdot \\frac{\\pi}{a + b} \\cdot e^{-\\frac{2ab}{a + b} t^2}\n",
        "$$\n",
        "\n",
        "---\n",
        "\n",
        "#### ✅ **Resultado final del punto a)**:\n",
        "\n",
        "$$\n",
        "\\boxed{\n",
        "y(t) = B^2 \\cdot \\frac{\\pi}{a + b} \\cdot e^{-\\frac{2ab}{a + b} t^2}\n",
        "}\n",
        "$$\n"
      ],
      "metadata": {
        "id": "_nvNV1w6tLfn"
      }
    },
    {
      "cell_type": "markdown",
      "source": [
        "### ✨ Punto b) — Composición: $x(t) \\rightarrow y_A(t) \\rightarrow h_B(t) \\rightarrow y(t)$\n",
        "\n",
        "**Datos:**\n",
        "\n",
        "- $x(t) = e^{-at^2}$\n",
        "- $y_A(t) = x^2(t) = e^{-2at^2}$\n",
        "- $h_B(t) = B e^{-bt^2}$\n",
        "\n",
        "---\n",
        "\n",
        "#### 🔹 Paso 1: Aplicar sistema $A$ primero\n",
        "\n",
        "$$\n",
        "y_A(t) = x^2(t) = e^{-2at^2}\n",
        "$$\n",
        "\n",
        "---\n",
        "\n",
        "#### 🔹 Paso 2: Aplicar sistema $B$ (convolución)\n",
        "\n",
        "$$\n",
        "y(t) = y_A(t) * h_B(t) = \\int_{-\\infty}^{\\infty} e^{-2a\\tau^2} \\cdot B e^{-b(t - \\tau)^2} \\, d\\tau\n",
        "$$\n",
        "\n",
        "Esto es una convolución de dos Gaussianas:\n",
        "\n",
        "$$\n",
        "y(t) = B \\sqrt{\\frac{\\pi}{2a + b}} \\cdot e^{-\\frac{2ab}{2a + b} t^2}\n",
        "$$\n",
        "\n",
        "---\n",
        "\n",
        "#### ✅ **Resultado final del punto b)**:\n",
        "\n",
        "$$\n",
        "\\boxed{\n",
        "y(t) = B \\sqrt{\\frac{\\pi}{2a + b}} \\cdot e^{-\\frac{2ab}{2a + b} t^2}\n",
        "}\n",
        "$$\n"
      ],
      "metadata": {
        "id": "66TITvGHthEv"
      }
    },
    {
      "cell_type": "code",
      "source": [
        "import sympy as sp\n",
        "\n",
        "# Variables simbólicas\n",
        "t, tau, a, b, B = sp.symbols('t tau a b B', real=True, positive=True)\n",
        "\n",
        "# Expandimos el exponente: (a + b)τ² - 2btτ + bt²\n",
        "expo = (a + b)*tau**2 - 2*b*t*tau + b*t**2\n",
        "\n",
        "# Armo la integral ya simplificada simbólicamente\n",
        "integrando = B * sp.exp(-expo)\n",
        "conv = sp.integrate(integrando, (tau, -sp.oo, sp.oo))\n",
        "\n",
        "# Simplificación\n",
        "conv_simplificada = sp.simplify(conv)\n",
        "\n",
        "# Mostrar resultado\n",
        "sp.init_printing(use_latex='mathjax')\n",
        "display(sp.Eq(sp.Symbol('y(t)'), conv_simplificada))\n"
      ],
      "metadata": {
        "colab": {
          "base_uri": "https://localhost:8080/",
          "height": 64
        },
        "id": "779zGKSSvekZ",
        "outputId": "3c5ff472-5dd7-4205-9899-2e5def2c1c3e"
      },
      "execution_count": null,
      "outputs": [
        {
          "output_type": "display_data",
          "data": {
            "text/plain": [
              "                   2 \n",
              "             -a⋅b⋅t  \n",
              "             ────────\n",
              "              a + b  \n",
              "       √π⋅B⋅ℯ        \n",
              "y(t) = ──────────────\n",
              "           _______   \n",
              "         ╲╱ a + b    "
            ],
            "text/latex": "$\\displaystyle y(t) = \\frac{\\sqrt{\\pi} B e^{- \\frac{a b t^{2}}{a + b}}}{\\sqrt{a + b}}$"
          },
          "metadata": {}
        }
      ]
    },
    {
      "cell_type": "code",
      "source": [
        "import sympy as sp\n",
        "\n",
        "# Definir variables simbólicas\n",
        "t, tau, a, b, B = sp.symbols('t tau a b B', real=True, positive=True)\n",
        "\n",
        "# Definir la salida de A: y_A(t) = x^2(t) = e^{-2a t^2}\n",
        "yA_tau = sp.exp(-2 * a * tau**2)\n",
        "\n",
        "# hB(t - τ) = B e^{-b(t - τ)^2}\n",
        "hB_t_tau = B * sp.exp(-b * (t - tau)**2)\n",
        "\n",
        "# Convolución simbólica\n",
        "integrando_b = yA_tau * hB_t_tau\n",
        "conv_b = sp.integrate(integrando_b, (tau, -sp.oo, sp.oo))\n",
        "\n",
        "# Simplificar\n",
        "conv_b_simplificada = sp.simplify(conv_b)\n",
        "\n",
        "# Mostrar resultado\n",
        "sp.init_printing(use_latex='mathjax')\n",
        "display(sp.Eq(sp.Symbol('y(t)'), conv_b_simplificada))\n"
      ],
      "metadata": {
        "colab": {
          "base_uri": "https://localhost:8080/",
          "height": 63
        },
        "id": "rF5lSer8xNnw",
        "outputId": "3423fab3-98a2-42b4-cb4b-86953fecb641"
      },
      "execution_count": null,
      "outputs": [
        {
          "output_type": "display_data",
          "data": {
            "text/plain": [
              "                  2 ⎛  2⋅a      ⎞\n",
              "             2⋅a⋅t ⋅⎜─────── - 1⎟\n",
              "                    ⎝2⋅a + b    ⎠\n",
              "       √π⋅B⋅ℯ                    \n",
              "y(t) = ──────────────────────────\n",
              "                _________        \n",
              "              ╲╱ 2⋅a + b         "
            ],
            "text/latex": "$\\displaystyle y(t) = \\frac{\\sqrt{\\pi} B e^{2 a t^{2} \\left(\\frac{2 a}{2 a + b} - 1\\right)}}{\\sqrt{2 a + b}}$"
          },
          "metadata": {}
        }
      ]
    },
    {
      "cell_type": "markdown",
      "source": [
        "- Demuestre las siguientes propiedades (sin utilizar tablas de propiedades):\n",
        "\n",
        "1. $$ \\mathcal{L}\\{x(t - t_0)\\} = e^{-st_0} X(s) $$\n",
        "2. $$ \\mathcal{L}\\{x(at)\\} = \\frac{1}{|a|} X\\left(\\frac{s}{a}\\right) $$\n",
        "3. $$ \\mathcal{L}\\left\\{ \\frac{dx(t)}{dt} \\right\\} = sX(s) $$\n",
        "4. $$ \\mathcal{L}\\{x(t) * y(t)\\} = X(s)Y(s) $$\n",
        "\n",
        "Ver material de apoyo y propiedades de Laplace.\n"
      ],
      "metadata": {
        "id": "3RLkzWQqyQvx"
      }
    },
    {
      "cell_type": "markdown",
      "source": [
        "### Propiedad (i) - Desplazamiento en el tiempo\n",
        "\n",
        "Demostrar:\n",
        "\n",
        "$$\n",
        "\\mathcal{L}\\{x(t - t_0)\\} = e^{-st_0} X(s)\n",
        "$$\n",
        "\n",
        "**Demostración**:\n",
        "\n",
        "Partimos de la definición de la transformada de Laplace:\n",
        "\n",
        "$$\n",
        "\\mathcal{L}\\{x(t - t_0)\\} = \\int_0^{\\infty} x(t - t_0) e^{-st} dt\n",
        "$$\n",
        "\n",
        "Hacemos el cambio de variable:\n",
        "\n",
        "$$\n",
        "\\tau = t - t_0 \\quad \\Rightarrow \\quad t = \\tau + t_0 \\quad \\Rightarrow \\quad dt = d\\tau\n",
        "$$\n",
        "\n",
        "Cuando $t = 0$, entonces $\\tau = -t_0$  \n",
        "Cuando $t = \\infty$, entonces $\\tau = \\infty$\n",
        "\n",
        "Sustituimos en la integral:\n",
        "\n",
        "$$\n",
        "\\int_0^{\\infty} x(t - t_0) e^{-st} dt = \\int_{-t_0}^{\\infty} x(\\tau) e^{-s(\\tau + t_0)} d\\tau\n",
        "$$\n",
        "\n",
        "Factorizamos:\n",
        "\n",
        "$$\n",
        "= e^{-st_0} \\int_{-t_0}^{\\infty} x(\\tau) e^{-s\\tau} d\\tau\n",
        "$$\n",
        "\n",
        "Si $x(\\tau)$ está definida solo para $\\tau \\geq 0$, entonces el integrando es cero cuando $\\tau < 0$, por lo tanto:\n",
        "\n",
        "$$\n",
        "\\int_{-t_0}^{\\infty} x(\\tau) e^{-s\\tau} d\\tau = \\int_0^{\\infty} x(\\tau) e^{-s\\tau} d\\tau = X(s)\n",
        "$$\n",
        "\n",
        "Entonces:\n",
        "\n",
        "$$\n",
        "\\mathcal{L}\\{x(t - t_0)\\} = e^{-st_0} X(s)\n",
        "$$\n",
        "\n"
      ],
      "metadata": {
        "id": "KYjzLzEuzTjQ"
      }
    },
    {
      "cell_type": "markdown",
      "source": [
        "### Propiedad (ii) - Escalamiento en el tiempo\n",
        "\n",
        "Demostrar:\n",
        "\n",
        "$$\n",
        "\\mathcal{L}\\{x(at)\\} = \\frac{1}{|a|} X\\left( \\frac{s}{a} \\right)\n",
        "$$\n",
        "\n",
        "**Demostración**:\n",
        "\n",
        "Usamos la definición de la transformada de Laplace:\n",
        "\n",
        "$$\n",
        "\\mathcal{L}\\{x(at)\\} = \\int_0^{\\infty} x(at) e^{-st} dt\n",
        "$$\n",
        "\n",
        "Hacemos el cambio de variable:\n",
        "\n",
        "$$\n",
        "\\tau = at \\quad \\Rightarrow \\quad t = \\frac{\\tau}{a} \\quad \\Rightarrow \\quad dt = \\frac{1}{a} d\\tau\n",
        "$$\n",
        "\n",
        "Cambiamos los límites:\n",
        "\n",
        "- Si $a > 0$, entonces cuando $t = 0$, $\\tau = 0$ y cuando $t = \\infty$, $\\tau = \\infty$\n",
        "- Si $a < 0$, entonces cuando $t = 0$, $\\tau = 0$ y cuando $t = \\infty$, $\\tau = -\\infty$\n",
        "\n",
        "Entonces, escribimos:\n",
        "\n",
        "$$\n",
        "\\int_0^{\\infty} x(at) e^{-st} dt = \\int_{0}^{\\infty} x(\\tau) e^{-s \\cdot \\frac{\\tau}{a}} \\cdot \\frac{1}{a} d\\tau \\quad \\text{si } a > 0\n",
        "$$\n",
        "\n",
        "o\n",
        "\n",
        "$$\n",
        "\\int_0^{\\infty} x(at) e^{-st} dt = \\int_{0}^{-\\infty} x(\\tau) e^{-s \\cdot \\frac{\\tau}{a}} \\cdot \\frac{1}{a} d\\tau \\quad \\text{si } a < 0\n",
        "$$\n",
        "\n",
        "Unificamos ambos casos con el valor absoluto:\n",
        "\n",
        "$$\n",
        "\\mathcal{L}\\{x(at)\\} = \\frac{1}{|a|} \\int_0^{\\infty} x(\\tau) e^{-\\frac{s}{a} \\tau} d\\tau = \\frac{1}{|a|} X\\left( \\frac{s}{a} \\right)\n",
        "$$\n",
        "\n"
      ],
      "metadata": {
        "id": "SuSXZMl-zhbt"
      }
    },
    {
      "cell_type": "markdown",
      "source": [
        "### Propiedad (iii) - Derivada en el tiempo\n",
        "\n",
        "Demostrar:\n",
        "\n",
        "$$\n",
        "\\mathcal{L}\\left\\{ \\frac{dx(t)}{dt} \\right\\} = sX(s) - x(0)\n",
        "$$\n",
        "\n",
        "**Demostración**:\n",
        "\n",
        "Partimos de la definición:\n",
        "\n",
        "$$\n",
        "\\mathcal{L}\\left\\{ \\frac{dx(t)}{dt} \\right\\} = \\int_0^{\\infty} \\frac{dx(t)}{dt} \\cdot e^{-st} dt\n",
        "$$\n",
        "\n",
        "Usamos integración por partes:\n",
        "\n",
        "Sea:\n",
        "\n",
        "- $u = e^{-st} \\quad \\Rightarrow \\quad \\frac{du}{dt} = -s e^{-st}$\n",
        "- $dv = \\frac{dx(t)}{dt} dt \\quad \\Rightarrow \\quad v = x(t)$\n",
        "\n",
        "Entonces:\n",
        "\n",
        "$$\n",
        "\\int_0^{\\infty} \\frac{dx(t)}{dt} \\cdot e^{-st} dt = \\left[ x(t) e^{-st} \\right]_0^{\\infty} - \\int_0^{\\infty} x(t) \\cdot (-s e^{-st}) dt\n",
        "$$\n",
        "\n",
        "Evaluamos el primer término:\n",
        "\n",
        "Si $x(t)$ tiene crecimiento limitado (es de orden exponencial), entonces:\n",
        "\n",
        "$$\n",
        "\\lim_{t \\to \\infty} x(t) e^{-st} = 0 \\quad \\text{(para Re(s) suficientemente grande)}\n",
        "$$\n",
        "\n",
        "Por tanto:\n",
        "\n",
        "$$\n",
        "\\left[ x(t) e^{-st} \\right]_0^{\\infty} = 0 - x(0)\n",
        "$$\n",
        "\n",
        "Y la integral se convierte en:\n",
        "\n",
        "$$\n",
        "- x(0) + s \\int_0^{\\infty} x(t) e^{-st} dt = - x(0) + s X(s)\n",
        "$$\n",
        "\n",
        "Por lo tanto:\n",
        "\n",
        "$$\n",
        "\\mathcal{L}\\left\\{ \\frac{dx(t)}{dt} \\right\\} = sX(s) - x(0)\n",
        "$$\n",
        "\n"
      ],
      "metadata": {
        "id": "9q3JjpUCzoRH"
      }
    },
    {
      "cell_type": "markdown",
      "source": [
        "### Propiedad (iv) - Convolución\n",
        "\n",
        "Demostrar:\n",
        "\n",
        "$$\n",
        "\\mathcal{L}\\{x(t) * y(t)\\} = X(s) \\cdot Y(s)\n",
        "$$\n",
        "\n",
        "**Demostración**:\n",
        "\n",
        "La convolución entre dos funciones en el dominio del tiempo está definida como:\n",
        "\n",
        "$$\n",
        "(x * y)(t) = \\int_0^t x(\\tau) y(t - \\tau) d\\tau\n",
        "$$\n",
        "\n",
        "Entonces:\n",
        "\n",
        "$$\n",
        "\\mathcal{L}\\{x(t) * y(t)\\} = \\mathcal{L}\\left\\{ \\int_0^t x(\\tau) y(t - \\tau) d\\tau \\right\\}\n",
        "$$\n",
        "\n",
        "Usamos la definición de la Transformada de Laplace:\n",
        "\n",
        "$$\n",
        "\\int_0^{\\infty} \\left( \\int_0^t x(\\tau) y(t - \\tau) d\\tau \\right) e^{-st} dt\n",
        "$$\n",
        "\n",
        "Intercambiamos el orden de integración (válido por Fubini, si las funciones son de orden exponencial):\n",
        "\n",
        "$$\n",
        "= \\int_0^{\\infty} x(\\tau) \\left( \\int_{\\tau}^{\\infty} y(t - \\tau) e^{-st} dt \\right) d\\tau\n",
        "$$\n",
        "\n",
        "Hacemos el cambio de variable:\n",
        "\n",
        "- Sea $u = t - \\tau \\quad \\Rightarrow \\quad t = u + \\tau \\quad \\Rightarrow \\quad dt = du$\n",
        "\n",
        "Entonces, el límite inferior cuando $t = \\tau$ es $u = 0$, y cuando $t = \\infty$, $u = \\infty$.\n",
        "\n",
        "Sustituimos:\n",
        "\n",
        "$$\n",
        "= \\int_0^{\\infty} x(\\tau) \\left( \\int_{0}^{\\infty} y(u) e^{-s(u + \\tau)} du \\right) d\\tau\n",
        "$$\n",
        "\n",
        "Separando términos:\n",
        "\n",
        "$$\n",
        "= \\int_0^{\\infty} x(\\tau) e^{-s\\tau} \\left( \\int_{0}^{\\infty} y(u) e^{-su} du \\right) d\\tau\n",
        "$$\n",
        "\n",
        "Ahora separamos las integrales:\n",
        "\n",
        "$$\n",
        "= \\left( \\int_0^{\\infty} x(\\tau) e^{-s\\tau} d\\tau \\right) \\cdot \\left( \\int_0^{\\infty} y(u) e^{-su} du \\right)\n",
        "$$\n",
        "\n",
        "Por definición:\n",
        "\n",
        "$$\n",
        "= X(s) \\cdot Y(s)\n",
        "$$\n"
      ],
      "metadata": {
        "id": "Wm7bhFXZ0CbY"
      }
    },
    {
      "cell_type": "markdown",
      "source": [
        "### Transformada de Laplace, Polos, Ceros y ROC\n",
        "\n",
        "- Encuentre la transformada de Laplace, dibuje el esquema de polos y ceros y la región de convergencia (ROC) de las siguientes señales:\n",
        "\n",
        "1. $$ e^{-2t}u(t) + e^{-3t}u(t) $$\n",
        "\n",
        "2. $$ e^{2t}u(t) + e^{-3t}u(-t) $$\n",
        "\n",
        "3. $$ e^{-a|t|} $$\n",
        "\n",
        "4. $$ e^{-2t} \\left[ u(t) - u(t - 5) \\right] $$\n"
      ],
      "metadata": {
        "id": "EKRll1pX0jAY"
      }
    },
    {
      "cell_type": "markdown",
      "source": [
        "### Ejercicio 1: Transformada de Laplace, polos, ceros y ROC\n",
        "\n",
        "**Señal:**\n",
        "\n",
        "$$\n",
        "x(t) = e^{-2t}u(t) + e^{-3t}u(t)\n",
        "$$\n",
        "\n",
        "---\n",
        "\n",
        "#### 1. Transformada de Laplace\n",
        "\n",
        "Sabemos que:\n",
        "\n",
        "$$\n",
        "\\mathcal{L}\\{e^{-at}u(t)\\} = \\frac{1}{s + a}, \\quad \\text{ROC: Re}(s) > -a\n",
        "$$\n",
        "\n",
        "Aplicando la propiedad lineal:\n",
        "\n",
        "$$\n",
        "\\mathcal{L}\\{x(t)\\} = \\mathcal{L}\\{e^{-2t}u(t)\\} + \\mathcal{L}\\{e^{-3t}u(t)\\}\n",
        "= \\frac{1}{s + 2} + \\frac{1}{s + 3}\n",
        "$$\n",
        "\n",
        "---\n",
        "\n",
        "#### 2. Polos y ceros\n",
        "\n",
        "La función:\n",
        "\n",
        "$$\n",
        "X(s) = \\frac{1}{s + 2} + \\frac{1}{s + 3}\n",
        "$$\n",
        "\n",
        "Es una suma de dos funciones racionales simples. Para encontrar polos y ceros, podemos escribirla como una fracción racional común:\n",
        "\n",
        "$$\n",
        "X(s) = \\frac{(s + 3) + (s + 2)}{(s + 2)(s + 3)} = \\frac{2s + 5}{(s + 2)(s + 3)}\n",
        "$$\n",
        "\n",
        "**Polos:** $s = -2$, $s = -3$  \n",
        "**Ceros:** Se anula el numerador $2s + 5 = 0 \\Rightarrow s = -\\frac{5}{2}$\n",
        "\n",
        "---\n",
        "\n",
        "#### 3. Región de Convergencia (ROC)\n",
        "\n",
        "Ambos términos tienen forma $e^{-at}u(t)$, lo que implica que son **causales**.\n",
        "\n",
        "Por lo tanto, la **ROC es la intersección** de:\n",
        "\n",
        "- $\\text{Re}(s) > -2$\n",
        "- $\\text{Re}(s) > -3$\n",
        "\n",
        "Resultado:\n",
        "\n",
        "$$\n",
        "\\text{ROC} = \\text{Re}(s) > -2\n",
        "$$\n",
        "\n",
        "---\n",
        "\n",
        "#### Resumen:\n",
        "\n",
        "- **Transformada:**\n",
        "  $$\n",
        "  X(s) = \\frac{2s + 5}{(s + 2)(s + 3)}\n",
        "  $$\n",
        "- **Polos:** $s = -2$, $s = -3$\n",
        "- **Ceros:** $s = -\\frac{5}{2}$\n",
        "- **ROC:** $\\text{Re}(s) > -2$\n"
      ],
      "metadata": {
        "id": "So0ouoNV02np"
      }
    },
    {
      "cell_type": "code",
      "source": [
        "import numpy as np\n",
        "import matplotlib.pyplot as plt\n",
        "from scipy import signal\n",
        "\n",
        "# Numerador y denominador\n",
        "num = [2, 5]       # 2s + 5\n",
        "den = [1, 5, 6]    # (s + 2)(s + 3)\n",
        "\n",
        "# Polos y ceros\n",
        "zeros, poles, gain = signal.tf2zpk(num, den)\n",
        "\n",
        "# Crear figura\n",
        "plt.figure(figsize=(7, 6))\n",
        "plt.axhline(0, color='gray', linestyle='--')\n",
        "plt.axvline(0, color='gray', linestyle='--')\n",
        "\n",
        "# Graficar ceros y polos\n",
        "plt.scatter(np.real(zeros), np.imag(zeros), marker='o', s=100, color='blue', label='Ceros')\n",
        "plt.scatter(np.real(poles), np.imag(poles), marker='x', s=100, color='red', label='Polos')\n",
        "\n",
        "# ROC: Re(s) > -2\n",
        "y_roc = np.linspace(-5, 5, 400)\n",
        "plt.fill_betweenx(y_roc, -2, 5, color='green', alpha=0.1, label='ROC: Re(s) > -2')\n",
        "plt.axvline(-2, color='green', linestyle='--')  # Borde de la ROC\n",
        "\n",
        "# Gráfico\n",
        "plt.title('Polos, Ceros y Región de Convergencia (ROC)')\n",
        "plt.xlabel('Re(s)')\n",
        "plt.ylabel('Im(s)')\n",
        "plt.grid(True)\n",
        "plt.axis('equal')\n",
        "plt.legend()\n",
        "plt.xlim(-5, 5)\n",
        "plt.ylim(-5, 5)\n",
        "plt.show()\n"
      ],
      "metadata": {
        "colab": {
          "base_uri": "https://localhost:8080/",
          "height": 582
        },
        "id": "OX3oGaZH07mF",
        "outputId": "03e90b4a-6d4e-4817-82c8-e73cd2544e26"
      },
      "execution_count": null,
      "outputs": [
        {
          "output_type": "stream",
          "name": "stderr",
          "text": [
            "WARNING:matplotlib.axes._base:Ignoring fixed x limits to fulfill fixed data aspect with adjustable data limits.\n"
          ]
        },
        {
          "output_type": "display_data",
          "data": {
            "text/plain": [
              "<Figure size 700x600 with 1 Axes>"
            ],
            "image/png": "[encoded data removed]"
          },
          "metadata": {}
        }
      ]
    },
    {
      "cell_type": "markdown",
      "source": [
        "### Ejercicio 2: Transformada de Laplace, polos, ceros y ROC\n",
        "\n",
        "**Señal:**\n",
        "\n",
        "$$\n",
        "x(t) = e^{2t}u(t) + e^{-3t}u(-t)\n",
        "$$\n",
        "\n",
        "---\n",
        "\n",
        "#### 1. Transformada de Laplace\n",
        "\n",
        "Recordamos dos fórmulas clave:\n",
        "\n",
        "- $ \\mathcal{L}\\{e^{at}u(t)\\} = \\frac{1}{s - a} $, ROC: $ \\text{Re}(s) > a $\n",
        "- $ \\mathcal{L}\\{e^{at}u(-t)\\} = \\frac{1}{s - a} $, ROC: $ \\text{Re}(s) < a $\n",
        "\n",
        "Aplicamos a cada término:\n",
        "\n",
        "- $ \\mathcal{L}\\{e^{2t}u(t)\\} = \\frac{1}{s - 2} $, con ROC: $ \\text{Re}(s) > 2 $\n",
        "- $ \\mathcal{L}\\{e^{-3t}u(-t)\\} = \\frac{1}{s + 3} $, con ROC: $ \\text{Re}(s) < -3 $\n",
        "\n",
        "---\n",
        "\n",
        "#### 2. Suma de términos\n",
        "\n",
        "La transformada de la señal completa sería:\n",
        "\n",
        "$$\n",
        "X(s) = \\frac{1}{s - 2} + \\frac{1}{s + 3}\n",
        "$$\n",
        "\n",
        "Pero **no hay intersección entre las dos ROCs**:\n",
        "\n",
        "- Una requiere $ \\text{Re}(s) > 2 $\n",
        "- La otra $ \\text{Re}(s) < -3 $\n",
        "\n",
        "Esto implica que **no existe una única ROC** que permita sumar ambas transformadas.\n",
        "\n",
        "---\n",
        "\n",
        "#### 3. ¿Existe la transformada de Laplace?\n",
        "\n",
        "❌ **No**, porque **no hay una región común de convergencia**.  \n",
        "El conjunto de valores de $s$ para los cuales ambas integrales convergen simultáneamente es vacío.\n",
        "\n",
        "---\n",
        "\n",
        "#### 4. Polos y ceros\n",
        "\n",
        "Aunque no existe la transformada de forma estricta, formalmente se pueden identificar:\n",
        "\n",
        "- **Polos**: $ s = 2 $, $ s = -3 $\n",
        "- **Ceros**: ninguno (si sumaras los términos formalmente)\n",
        "\n",
        "---\n",
        "\n",
        "#### 5. Conclusión\n",
        "\n",
        "- La transformada **no existe** bajo la definición unilateral, ya que **no hay una ROC común**.\n",
        "- Esta señal se podría tratar mediante la **transformada de Laplace bilateral**, que permite descomponer señales con partes causales y anticausales, pero **no es válida en este taller** si se trabaja solo con Laplace unilateral.\n"
      ],
      "metadata": {
        "id": "V_CDsp6e4FHm"
      }
    },
    {
      "cell_type": "code",
      "source": [
        "import numpy as np\n",
        "import matplotlib.pyplot as plt\n",
        "from scipy import signal\n",
        "\n",
        "# Definimos una expresión formal: X(s) = 1/(s - 2) + 1/(s + 3)\n",
        "# Fracción común: (s + 3 + s - 2) / ((s - 2)(s + 3)) = (2s + 1)/(s^2 + s - 6)\n",
        "num = [2, 1]       # 2s + 1\n",
        "den = [1, 1, -6]   # s^2 + s - 6 = (s - 2)(s + 3)\n",
        "\n",
        "# Obtener ceros, polos y ganancia\n",
        "zeros, poles, gain = signal.tf2zpk(num, den)\n",
        "\n",
        "# Crear figura\n",
        "plt.figure(figsize=(7, 6))\n",
        "plt.axhline(0, color='gray', linestyle='--')\n",
        "plt.axvline(0, color='gray', linestyle='--')\n",
        "\n",
        "# Graficar ceros y polos\n",
        "plt.scatter(np.real(zeros), np.imag(zeros), marker='o', s=100, color='blue', label='Ceros')\n",
        "plt.scatter(np.real(poles), np.imag(poles), marker='x', s=100, color='red', label='Polos')\n",
        "\n",
        "# Mostrar los polos s = 2 y s = -3\n",
        "plt.text(2.1, 0.2, 'Polo s=2', color='red')\n",
        "plt.text(-3.6, 0.2, 'Polo s=-3', color='red')\n",
        "\n",
        "# No se representa ROC: no existe una común\n",
        "plt.title('Polos y ceros de X(s) (ROC no existe)')\n",
        "plt.xlabel('Re(s)')\n",
        "plt.ylabel('Im(s)')\n",
        "plt.grid(True)\n",
        "plt.axis('equal')\n",
        "plt.legend()\n",
        "plt.xlim(-6, 6)\n",
        "plt.ylim(-5, 5)\n",
        "plt.show()\n"
      ],
      "metadata": {
        "colab": {
          "base_uri": "https://localhost:8080/",
          "height": 581
        },
        "id": "LNVlIVZR4yjv",
        "outputId": "2ec2c399-69c6-4bee-85c8-37560fe14237"
      },
      "execution_count": null,
      "outputs": [
        {
          "output_type": "stream",
          "name": "stderr",
          "text": [
            "WARNING:matplotlib.axes._base:Ignoring fixed x limits to fulfill fixed data aspect with adjustable data limits.\n"
          ]
        },
        {
          "output_type": "display_data",
          "data": {
            "text/plain": [
              "<Figure size 700x600 with 1 Axes>"
            ],
            "image/png": "[encoded data removed]"
          },
          "metadata": {}
        }
      ]
    },
    {
      "cell_type": "markdown",
      "source": [
        "**Nota sobre la ROC:**\n",
        "\n",
        "Aunque los polos están ubicados en $ s = 2 $ y $ s = -3 $, **no existe una región de convergencia común** para esta suma de transformadas.\n",
        "\n",
        "- La primera parte $ e^{2t}u(t) $ requiere $ \\text{Re}(s) > 2 $\n",
        "- La segunda parte $ e^{-3t}u(-t) $ requiere $ \\text{Re}(s) < -3 $\n",
        "\n",
        "Como no hay intersección entre estas dos regiones, la **transformada de Laplace unilateral no existe** para esta señal.\n",
        "\n",
        "✔️ El gráfico se incluye solo como referencia formal de los polos y ceros. La ROC está vacía bajo la definición unilateral.\n"
      ],
      "metadata": {
        "id": "p4mjGSQ75EJI"
      }
    },
    {
      "cell_type": "markdown",
      "source": [
        "### Ejercicio 3: Transformada de Laplace, polos, ceros y ROC\n",
        "\n",
        "**Señal:**\n",
        "\n",
        "$$\n",
        "x(t) = e^{-a|t|}, \\quad a > 0\n",
        "$$\n",
        "\n",
        "---\n",
        "\n",
        "#### 1. Expresión por partes\n",
        "\n",
        "Dado que la función depende del valor absoluto de $t$, la escribimos por tramos:\n",
        "\n",
        "$$\n",
        "x(t) =\n",
        "\\begin{cases}\n",
        "e^{at}, & t < 0 \\\\\n",
        "e^{-at}, & t \\geq 0\n",
        "\\end{cases}\n",
        "$$\n",
        "\n",
        "Equivalente a:\n",
        "\n",
        "$$\n",
        "x(t) = e^{-a|t|} = e^{at}u(-t) + e^{-at}u(t)\n",
        "$$\n",
        "\n",
        "---\n",
        "\n",
        "#### 2. Transformada de Laplace\n",
        "\n",
        "Aplicamos la transformada a cada parte:\n",
        "\n",
        "- $ \\mathcal{L}\\{e^{-at}u(t)\\} = \\frac{1}{s + a}, \\quad \\text{ROC: Re}(s) > -a $\n",
        "- $ \\mathcal{L}\\{e^{at}u(-t)\\} = \\frac{1}{s - a}, \\quad \\text{ROC: Re}(s) < a $\n",
        "\n",
        "Sumamos:\n",
        "\n",
        "$$\n",
        "\\mathcal{L}\\{x(t)\\} = \\frac{1}{s + a} + \\frac{1}{s - a}\n",
        "= \\frac{(s - a) + (s + a)}{(s - a)(s + a)} = \\frac{2s}{s^2 - a^2}\n",
        "$$\n",
        "\n",
        "---\n",
        "\n",
        "#### 3. Polos y ceros\n",
        "\n",
        "- **Polos:** $s = a$, $s = -a$\n",
        "- **Cero:** $s = 0$\n",
        "\n",
        "---\n",
        "\n",
        "#### 4. Región de Convergencia (ROC)\n",
        "\n",
        "Para que ambas transformadas converjan, se requiere:\n",
        "\n",
        "- $ \\text{Re}(s) > -a $ (por el término causal)\n",
        "- $ \\text{Re}(s) < a $ (por el término anticausal)\n",
        "\n",
        "Entonces la ROC es:\n",
        "\n",
        "$$\n",
        "- a < \\text{Re}(s) < a\n",
        "$$\n",
        "\n",
        "Esto es una **franja vertical** en el plano complejo.\n",
        "\n",
        "---\n",
        "\n",
        "#### 5. Conclusión\n",
        "\n",
        "- **Transformada:**\n",
        "  $$\n",
        "  X(s) = \\frac{2s}{s^2 - a^2}\n",
        "  $$\n",
        "\n",
        "- **Polos:** $ s = \\pm a $\n",
        "- **Cero:** $ s = 0 $\n",
        "- **ROC:** $ -a < \\text{Re}(s) < a $ → franja vertical\n",
        "\n",
        "Se trata de una señal **de energía finita**, por lo que su transformada bilateral converge en una franja finita.\n"
      ],
      "metadata": {
        "id": "iDPKBD4R5k_C"
      }
    },
    {
      "cell_type": "code",
      "source": [
        "import numpy as np\n",
        "import matplotlib.pyplot as plt\n",
        "from scipy import signal\n",
        "\n",
        "# Parámetro a\n",
        "a = 2\n",
        "\n",
        "# Numerador y denominador de X(s) = 2s / (s^2 - a^2)\n",
        "num = [2, 0]              # 2s\n",
        "den = [1, 0, -a**2]       # s^2 - a^2\n",
        "\n",
        "# Obtener ceros, polos y ganancia\n",
        "zeros, poles, gain = signal.tf2zpk(num, den)\n",
        "\n",
        "# Crear figura\n",
        "plt.figure(figsize=(7, 6))\n",
        "plt.axhline(0, color='gray', linestyle='--')\n",
        "plt.axvline(0, color='gray', linestyle='--')\n",
        "\n",
        "# Graficar ceros y polos\n",
        "plt.scatter(np.real(zeros), np.imag(zeros), marker='o', s=100, color='blue', label='Ceros')\n",
        "plt.scatter(np.real(poles), np.imag(poles), marker='x', s=100, color='red', label='Polos')\n",
        "\n",
        "# ROC: -a < Re(s) < a\n",
        "y_roc = np.linspace(-5, 5, 400)\n",
        "plt.fill_betweenx(y_roc, -a, a, color='green', alpha=0.1, label='ROC: -a < Re(s) < a')\n",
        "plt.axvline(-a, color='green', linestyle='--')\n",
        "plt.axvline(a, color='green', linestyle='--')\n",
        "\n",
        "# Anotaciones\n",
        "plt.title('Polos, Ceros y Región de Convergencia (ROC)')\n",
        "plt.xlabel('Re(s)')\n",
        "plt.ylabel('Im(s)')\n",
        "plt.grid(True)\n",
        "plt.axis('equal')\n",
        "plt.legend()\n",
        "plt.xlim(-5, 5)\n",
        "plt.ylim(-5, 5)\n",
        "plt.show()\n"
      ],
      "metadata": {
        "colab": {
          "base_uri": "https://localhost:8080/",
          "height": 582
        },
        "id": "z8qK8Kk652jj",
        "outputId": "6a5c013e-bd37-46aa-eb75-e925f80c20e4"
      },
      "execution_count": null,
      "outputs": [
        {
          "output_type": "stream",
          "name": "stderr",
          "text": [
            "WARNING:matplotlib.axes._base:Ignoring fixed x limits to fulfill fixed data aspect with adjustable data limits.\n"
          ]
        },
        {
          "output_type": "display_data",
          "data": {
            "text/plain": [
              "<Figure size 700x600 with 1 Axes>"
            ],
            "image/png": "[encoded data removed]"
          },
          "metadata": {}
        }
      ]
    },
    {
      "cell_type": "markdown",
      "source": [
        "### Ejercicio 4: Transformada de Laplace, polos, ceros y ROC\n",
        "\n",
        "**Señal:**\n",
        "\n",
        "$$\n",
        "x(t) = e^{-2t} [u(t) - u(t - 5)]\n",
        "$$\n",
        "\n",
        "Esto equivale a:\n",
        "\n",
        "$$\n",
        "x(t) =\n",
        "\\begin{cases}\n",
        "e^{-2t}, & 0 \\leq t < 5 \\\\\n",
        "0, & \\text{en otro caso}\n",
        "\\end{cases}\n",
        "$$\n",
        "\n",
        "---\n",
        "\n",
        "#### 1. Transformada de Laplace\n",
        "\n",
        "Usamos la propiedad:\n",
        "\n",
        "$$\n",
        "\\mathcal{L}\\{x(t)[u(t) - u(t - a)]\\} = \\int_0^a x(t) e^{-st} dt\n",
        "$$\n",
        "\n",
        "Aplicamos directamente:\n",
        "\n",
        "$$\n",
        "X(s) = \\int_0^5 e^{-2t} \\cdot e^{-st} dt = \\int_0^5 e^{-(s + 2)t} dt\n",
        "$$\n",
        "\n",
        "Resolvemos la integral:\n",
        "\n",
        "$$\n",
        "X(s) = \\left[ \\frac{e^{-(s + 2)t}}{-(s + 2)} \\right]_0^5\n",
        "= \\frac{1 - e^{-5(s + 2)}}{s + 2}\n",
        "$$\n",
        "\n",
        "---\n",
        "\n",
        "#### 2. Polos y ceros\n",
        "\n",
        "La función:\n",
        "\n",
        "$$\n",
        "X(s) = \\frac{1 - e^{-5(s + 2)}}{s + 2}\n",
        "$$\n",
        "\n",
        "- Tiene un **polo simple en** $ s = -2 $\n",
        "- El **numerador es exponencial**, así que **no tiene ceros algebraicos simples**, pero:\n",
        "  - Puede anularse para ciertos valores complejos de $ s $\n",
        "  - Son **cero complejos infinitos**: no se representan directamente en el plano como en el caso racional\n",
        "\n",
        "---\n",
        "\n",
        "#### 3. Región de Convergencia (ROC)\n",
        "\n",
        "- Como la señal **es causal y de duración finita**, su transformada de Laplace **existe para todo valor de $ s $**\n",
        "- Entonces:\n",
        "\n",
        "$$\n",
        "\\text{ROC: } \\mathbb{C}, \\quad \\text{todo el plano complejo excepto el polo } s = -2\n",
        "$$\n",
        "\n",
        "---\n",
        "\n",
        "#### 4. Conclusión\n",
        "\n",
        "- **Transformada:**\n",
        "\n",
        "  $$\n",
        "  X(s) = \\frac{1 - e^{-5(s + 2)}}{s + 2}\n",
        "  $$\n",
        "\n",
        "- **Polo:** $ s = -2 $\n",
        "- **ROC:** todo $ \\mathbb{C} $, excepto \\( s = -2 \\)\n",
        "\n",
        "✔️ La señal es **causal, finita y estable**.\n"
      ],
      "metadata": {
        "id": "turdnP9jFyh0"
      }
    },
    {
      "cell_type": "code",
      "source": [
        "import numpy as np\n",
        "import matplotlib.pyplot as plt\n",
        "\n",
        "# Coordenadas del polo\n",
        "polo = -2\n",
        "\n",
        "# Crear figura\n",
        "plt.figure(figsize=(7, 6))\n",
        "plt.axhline(0, color='gray', linestyle='--')\n",
        "plt.axvline(0, color='gray', linestyle='--')\n",
        "\n",
        "# Graficar el polo\n",
        "plt.scatter([polo], [0], marker='x', s=100, color='red', label='Polo en s = -2')\n",
        "\n",
        "# Sombrar ROC: todo excepto el punto s = -2 (lo representamos visualmente como \"todo el plano\")\n",
        "plt.text(-1.5, 2, 'ROC: todo el plano excepto s = -2', fontsize=10, color='green')\n",
        "\n",
        "# Configuración del gráfico\n",
        "plt.title('Polo y Región de Convergencia (ROC) de $X(s)$')\n",
        "plt.xlabel('Re(s)')\n",
        "plt.ylabel('Im(s)')\n",
        "plt.grid(True)\n",
        "plt.axis('equal')\n",
        "plt.legend()\n",
        "plt.xlim(-6, 4)\n",
        "plt.ylim(-4, 4)\n",
        "plt.show()\n"
      ],
      "metadata": {
        "colab": {
          "base_uri": "https://localhost:8080/",
          "height": 584
        },
        "id": "FlaPXhkpGGEV",
        "outputId": "17f67f85-ef17-49ad-f679-29e9f489cb04"
      },
      "execution_count": 1,
      "outputs": [
        {
          "output_type": "stream",
          "name": "stderr",
          "text": [
            "WARNING:matplotlib.axes._base:Ignoring fixed x limits to fulfill fixed data aspect with adjustable data limits.\n"
          ]
        },
        {
          "output_type": "display_data",
          "data": {
            "text/plain": [
              "<Figure size 700x600 with 1 Axes>"
            ],
            "image/png": "[encoded data removed]"
          },
          "metadata": {}
        }
      ]
    },
    {
      "cell_type": "markdown",
      "source": [
        "### Funciones de Transferencia en Lazo Abierto\n",
        "\n",
        "Encuentre la función de transferencia en lazo abierto para:\n",
        "\n",
        "1. **Circuito RLC en serie**  \n",
        "   - Entrada: tensión de alimentación  \n",
        "   - Salida: tensión en el capacitor\n",
        "\n",
        "2. **Circuito RCL en paralelo**  \n",
        "   - Entrada: corriente de alimentación  \n",
        "   - Salida: corriente en el inductor\n",
        "\n",
        "📌 *Tenga en cuenta las condiciones iniciales del sistema, según el material de apoyo \"Circuito RLC\" y \"Análisis de redes eléctricas\".*\n"
      ],
      "metadata": {
        "id": "feuwhKoYDJNc"
      }
    },
    {
      "cell_type": "markdown",
      "source": [
        "### Circuito RLC en serie – Función de transferencia\n",
        "\n",
        "**Objetivo:** Obtener la función de transferencia del sistema\n",
        "\n",
        "$$\n",
        "H(s) = \\frac{V_C(s)}{V_{\\text{in}}(s)}\n",
        "$$\n",
        "\n",
        "---\n",
        "\n",
        "#### 1. Ecuación del circuito\n",
        "\n",
        "Aplicamos la Ley de Kirchhoff de Voltajes (KVL) al lazo:\n",
        "\n",
        "$$\n",
        "V_{\\text{in}}(t) = V_R(t) + V_L(t) + V_C(t)\n",
        "$$\n",
        "\n",
        "Usando las relaciones constitutivas:\n",
        "\n",
        "- $ V_R(t) = Ri(t) $\n",
        "- $ V_L(t) = L \\frac{di(t)}{dt} $\n",
        "- $ V_C(t) = \\frac{1}{C} \\int i(t) dt $\n",
        "\n",
        "Entonces:\n",
        "\n",
        "$$\n",
        "V_{\\text{in}}(t) = Ri(t) + L \\frac{di(t)}{dt} + \\frac{1}{C} \\int i(t) dt\n",
        "$$\n",
        "\n",
        "---\n",
        "\n",
        "#### 2. Transformada de Laplace\n",
        "\n",
        "Aplicamos la transformada de Laplace (condiciones iniciales nulas):\n",
        "\n",
        "- $ \\mathcal{L}\\{Ri(t)\\} = R I(s) $\n",
        "- $ \\mathcal{L}\\left\\{L \\frac{di(t)}{dt} \\right\\} = L s I(s) $\n",
        "- $ \\mathcal{L}\\left\\{ \\frac{1}{C} \\int i(t) dt \\right\\} = \\frac{1}{C s} I(s) $\n",
        "\n",
        "Entonces:\n",
        "\n",
        "$$\n",
        "V_{\\text{in}}(s) = \\left( R + Ls + \\frac{1}{Cs} \\right) I(s)\n",
        "$$\n",
        "\n",
        "---\n",
        "\n",
        "#### 3. Relación con la salida\n",
        "\n",
        "La salida es la **tensión en el capacitor**, y sabemos que:\n",
        "\n",
        "$$\n",
        "V_C(s) = \\frac{1}{Cs} I(s)\n",
        "$$\n",
        "\n",
        "---\n",
        "\n",
        "#### 4. Función de transferencia\n",
        "\n",
        "Queremos:\n",
        "\n",
        "$$\n",
        "H(s) = \\frac{V_C(s)}{V_{\\text{in}}(s)}\n",
        "= \\frac{\\frac{1}{Cs} I(s)}{\\left(R + Ls + \\frac{1}{Cs} \\right) I(s)}\n",
        "$$\n",
        "\n",
        "Cancelamos $I(s)$:\n",
        "\n",
        "$$\n",
        "H(s) = \\frac{\\frac{1}{Cs}}{R + Ls + \\frac{1}{Cs}}\n",
        "$$\n",
        "\n",
        "Multiplicamos numerador y denominador por $Cs$ para simplificar:\n",
        "\n",
        "$$\n",
        "H(s) = \\frac{1}{RCs + LCs^2 + 1}\n",
        "$$\n",
        "\n",
        "Finalmente:\n",
        "\n",
        "$$\n",
        "H(s) = \\frac{1}{LCs^2 + RCs + 1}\n",
        "$$\n",
        "\n",
        "---\n",
        "\n",
        "### ✅ Resultado final:\n",
        "\n",
        "$$\n",
        "\\boxed{H(s) = \\frac{1}{LCs^2 + RCs + 1}}\n",
        "$$\n",
        "\n",
        "Esta es la **función de transferencia** del circuito RLC en serie, con salida la tensión del capacitor y entrada la tensión de alimentación.\n"
      ],
      "metadata": {
        "id": "QboC8cHWEdRx"
      }
    },
    {
      "cell_type": "markdown",
      "source": [
        "### Circuito RCL en paralelo – Función de transferencia\n",
        "\n",
        "**Objetivo:** Obtener la función de transferencia del sistema\n",
        "\n",
        "$$\n",
        "H(s) = \\frac{I_L(s)}{I_{\\text{in}}(s)}\n",
        "$$\n",
        "\n",
        "---\n",
        "\n",
        "#### 1. Ecuación del circuito\n",
        "\n",
        "Dado que los elementos están en **paralelo**, la **tensión \\( V(t) \\)** en cada rama es la misma.\n",
        "\n",
        "Por Ley de Kirchhoff de Corrientes (KCL):\n",
        "\n",
        "$$\n",
        "I_{\\text{in}}(t) = I_R(t) + I_L(t) + I_C(t)\n",
        "$$\n",
        "\n",
        "Usamos las relaciones constitutivas:\n",
        "\n",
        "- $ I_R(t) = \\frac{V(t)}{R} $\n",
        "- $ I_L(t) = \\frac{1}{L} \\int V(t) dt $\n",
        "- $ I_C(t) = C \\frac{dV(t)}{dt} $\n",
        "\n",
        "Entonces:\n",
        "\n",
        "$$\n",
        "I_{\\text{in}}(t) = \\frac{V(t)}{R} + \\frac{1}{L} \\int V(t) dt + C \\frac{dV(t)}{dt}\n",
        "$$\n",
        "\n",
        "---\n",
        "\n",
        "#### 2. Transformada de Laplace\n",
        "\n",
        "Aplicamos la transformada de Laplace (condiciones iniciales nulas):\n",
        "\n",
        "- $ \\mathcal{L}\\left\\{ \\frac{V(t)}{R} \\right\\} = \\frac{1}{R} V(s) $\n",
        "- $ \\mathcal{L}\\left\\{ \\frac{1}{L} \\int V(t) dt \\right\\} = \\frac{1}{Ls} V(s) $\n",
        "- $ \\mathcal{L}\\left\\{ C \\frac{dV(t)}{dt} \\right\\} = Cs V(s) $\n",
        "\n",
        "Entonces:\n",
        "\n",
        "$$\n",
        "I_{\\text{in}}(s) = \\left( \\frac{1}{R} + \\frac{1}{Ls} + Cs \\right) V(s)\n",
        "$$\n",
        "\n",
        "---\n",
        "\n",
        "#### 3. Relación con la salida\n",
        "\n",
        "La salida es la **corriente por el inductor**, que en Laplace es:\n",
        "\n",
        "$$\n",
        "I_L(s) = \\frac{1}{Ls} V(s)\n",
        "$$\n",
        "\n",
        "---\n",
        "\n",
        "#### 4. Función de transferencia\n",
        "\n",
        "Queremos:\n",
        "\n",
        "$$\n",
        "H(s) = \\frac{I_L(s)}{I_{\\text{in}}(s)} =\n",
        "\\frac{ \\frac{1}{Ls} V(s) }{ \\left( \\frac{1}{R} + \\frac{1}{Ls} + Cs \\right) V(s) }\n",
        "$$\n",
        "\n",
        "Cancelamos $V(s)$:\n",
        "\n",
        "$$\n",
        "H(s) = \\frac{ \\frac{1}{Ls} }{ \\frac{1}{R} + \\frac{1}{Ls} + Cs }\n",
        "$$\n",
        "\n",
        "Multiplicamos numerador y denominador por $Ls$ para simplificar:\n",
        "\n",
        "$$\n",
        "H(s) = \\frac{1}{ \\frac{Ls}{R} + 1 + LCs^2 }\n",
        "$$\n",
        "\n",
        "Finalmente:\n",
        "\n",
        "$$\n",
        "H(s) = \\frac{1}{LCs^2 + \\frac{L}{R}s + 1}\n",
        "$$\n",
        "\n",
        "---\n",
        "\n",
        "### ✅ Resultado final:\n",
        "\n",
        "$$\n",
        "\\boxed{H(s) = \\frac{1}{LCs^2 + \\frac{L}{R}s + 1}}\n",
        "$$\n",
        "\n",
        "Esta es la **función de transferencia** del circuito RCL en paralelo, con entrada la corriente total y salida la corriente en el inductor.\n"
      ],
      "metadata": {
        "id": "WfJzwndXFE2q"
      }
    },
    {
      "cell_type": "markdown",
      "source": [
        "### Respuesta en lazo cerrado\n",
        "\n",
        "Para las funciones de transferencia en lazo abierto encontradas en el punto anterior,  \n",
        "encuentre la **expresión de la salida en el tiempo** para una configuración en **lazo cerrado** del sistema,  \n",
        "en función de $R$, $L$ y $C$, para las siguientes entradas:\n",
        "\n",
        "1. $i)$ impulso  \n",
        "2. $ii)$ escalón unitario  \n",
        "3. $iii)$ rampa\n",
        "\n",
        "📌 Compruebe los resultados en simulación sobre Python (utilizando `sympy`) y **grafique la señal de salida para cada caso**.\n",
        "\n",
        "Ver cuaderno de ayuda: *Fracciones parciales – Circuito RLC*.\n"
      ],
      "metadata": {
        "id": "xR70LEhRJXYZ"
      }
    },
    {
      "cell_type": "code",
      "source": [
        "import numpy as np\n",
        "import matplotlib.pyplot as plt\n",
        "import control as ctrl\n",
        "\n",
        "# Función de transferencia del sistema en lazo cerrado con R=2, L=1, C=0.2\n",
        "# H(s) = 1 / (0.2s^2 + 0.4s + 2)\n",
        "num = [1]\n",
        "den = [0.2, 0.4, 2]\n",
        "HRLC = ctrl.tf(num, den)\n",
        "\n",
        "# Simulación de la respuesta al impulso\n",
        "t_vals = np.linspace(0, 10, 400)\n",
        "t_impulse, y_impulse = ctrl.impulse_response(HRLC, T=t_vals)\n",
        "\n",
        "# Graficar\n",
        "plt.figure(figsize=(8, 5))\n",
        "plt.plot(t_impulse, y_impulse, label='y(t) - Respuesta al impulso', color='blue')\n",
        "plt.title('Respuesta al impulso del sistema en lazo cerrado')\n",
        "plt.xlabel('Tiempo [s]')\n",
        "plt.ylabel('Amplitud')\n",
        "plt.grid(True)\n",
        "plt.legend()\n",
        "plt.tight_layout()\n",
        "plt.show()\n"
      ],
      "metadata": {
        "colab": {
          "base_uri": "https://localhost:8080/",
          "height": 733
        },
        "id": "U90w2xFvMMh-",
        "outputId": "cfdab823-7f52-4647-9d32-3083be055c6c"
      },
      "execution_count": 8,
      "outputs": [
        {
          "output_type": "stream",
          "name": "stdout",
          "text": [
            "Requirement already satisfied: control in /usr/local/lib/python3.11/dist-packages (0.10.2)\n",
            "Requirement already satisfied: numpy>=1.23 in /usr/local/lib/python3.11/dist-packages (from control) (2.0.2)\n",
            "Requirement already satisfied: scipy>=1.8 in /usr/local/lib/python3.11/dist-packages (from control) (1.15.3)\n",
            "Requirement already satisfied: matplotlib>=3.6 in /usr/local/lib/python3.11/dist-packages (from control) (3.10.0)\n",
            "Requirement already satisfied: contourpy>=1.0.1 in /usr/local/lib/python3.11/dist-packages (from matplotlib>=3.6->control) (1.3.2)\n",
            "Requirement already satisfied: cycler>=0.10 in /usr/local/lib/python3.11/dist-packages (from matplotlib>=3.6->control) (0.12.1)\n",
            "Requirement already satisfied: fonttools>=4.22.0 in /usr/local/lib/python3.11/dist-packages (from matplotlib>=3.6->control) (4.58.5)\n",
            "Requirement already satisfied: kiwisolver>=1.3.1 in /usr/local/lib/python3.11/dist-packages (from matplotlib>=3.6->control) (1.4.8)\n",
            "Requirement already satisfied: packaging>=20.0 in /usr/local/lib/python3.11/dist-packages (from matplotlib>=3.6->control) (24.2)\n",
            "Requirement already satisfied: pillow>=8 in /usr/local/lib/python3.11/dist-packages (from matplotlib>=3.6->control) (11.2.1)\n",
            "Requirement already satisfied: pyparsing>=2.3.1 in /usr/local/lib/python3.11/dist-packages (from matplotlib>=3.6->control) (3.2.3)\n",
            "Requirement already satisfied: python-dateutil>=2.7 in /usr/local/lib/python3.11/dist-packages (from matplotlib>=3.6->control) (2.9.0.post0)\n",
            "Requirement already satisfied: six>=1.5 in /usr/local/lib/python3.11/dist-packages (from python-dateutil>=2.7->matplotlib>=3.6->control) (1.17.0)\n"
          ]
        },
        {
          "output_type": "display_data",
          "data": {
            "text/plain": [
              "<Figure size 800x500 with 1 Axes>"
            ],
            "image/png": "[encoded data removed]"
          },
          "metadata": {}
        }
      ]
    },
    {
      "cell_type": "markdown",
      "source": [
        "### Respuesta al escalón – Sistema en lazo cerrado\n",
        "\n",
        "Recordamos la función de transferencia en lazo cerrado:\n",
        "\n",
        "$$\n",
        "H_{\\text{cerrado}}(s) = \\frac{1}{LCs^2 + RCs + 2}\n",
        "$$\n",
        "\n",
        "---\n",
        "\n",
        "#### Entrada: escalón unitario\n",
        "\n",
        "En Laplace:  \n",
        "$$\n",
        "U(s) = \\frac{1}{s}\n",
        "$$\n",
        "\n",
        "Entonces:\n",
        "\n",
        "$$\n",
        "Y(s) = H_{\\text{cerrado}}(s) \\cdot U(s) = \\frac{1}{s(LCs^2 + RCs + 2)}\n",
        "$$\n",
        "\n",
        "Para los valores:  \n",
        "- \\( R = 2 \\, \\Omega \\)  \n",
        "- \\( L = 1 \\, H \\)  \n",
        "- \\( C = 0.2 \\, F \\)\n",
        "\n",
        "Obtenemos:\n",
        "\n",
        "$$\n",
        "Y(s) = \\frac{1}{s(s^2 + 2s + 2)}\n",
        "$$\n",
        "\n",
        "Transformada inversa:\n",
        "\n",
        "$$\n",
        "y(t) = \\left(1 - e^{-t}(\\cos(t) + \\sin(t))\\right) \\cdot u(t)\n",
        "$$\n",
        "\n",
        "---\n",
        "\n",
        "#### Gráfica de la respuesta\n",
        "\n",
        "La siguiente figura muestra la **respuesta al escalón unitario del sistema**:\n",
        "\n",
        "*(Ver celda de código correspondiente con `sympy` y `matplotlib`)*\n"
      ],
      "metadata": {
        "id": "SZf9-rksKQG7"
      }
    },
    {
      "cell_type": "code",
      "source": [
        "\n",
        "import numpy as np\n",
        "import matplotlib.pyplot as plt\n",
        "import control as ctrl\n",
        "\n",
        "# Función de transferencia del sistema en lazo cerrado con R=2, L=1, C=0.2\n",
        "# H(s) = 1 / (0.2s^2 + 0.4s + 2)\n",
        "num = [1]\n",
        "den = [0.2, 0.4, 2]\n",
        "HRLC = ctrl.tf(num, den)\n",
        "\n",
        "# Simulación de la respuesta al escalón\n",
        "t_vals = np.linspace(0, 10, 400)\n",
        "t_step, y_step = ctrl.step_response(HRLC, T=t_vals)\n",
        "\n",
        "# Graficar\n",
        "plt.figure(figsize=(8, 5))\n",
        "plt.plot(t_step, y_step, label='y(t) - Respuesta al escalón', color='green')\n",
        "plt.title('Respuesta al escalón del sistema en lazo cerrado')\n",
        "plt.xlabel('Tiempo [s]')\n",
        "plt.ylabel('Amplitud')\n",
        "plt.grid(True)\n",
        "plt.legend()\n",
        "plt.tight_layout()\n",
        "plt.show()\n"
      ],
      "metadata": {
        "colab": {
          "base_uri": "https://localhost:8080/",
          "height": 507
        },
        "id": "u9-u9zEBKOFP",
        "outputId": "a488cf04-6de4-4cff-c5ec-37ff18093854"
      },
      "execution_count": 7,
      "outputs": [
        {
          "output_type": "display_data",
          "data": {
            "text/plain": [
              "<Figure size 800x500 with 1 Axes>"
            ],
            "image/png": "[encoded data removed]"
          },
          "metadata": {}
        }
      ]
    },
    {
      "cell_type": "code",
      "source": [
        "import numpy as np\n",
        "import matplotlib.pyplot as plt\n",
        "import control as ctrl\n",
        "\n",
        "# Función de transferencia del sistema en lazo cerrado con R=2, L=1, C=0.2\n",
        "# => H(s) = 1 / (0.2s^2 + 0.4s + 2)\n",
        "num = [1]\n",
        "den = [0.2, 0.4, 2]\n",
        "HRLC = ctrl.tf(num, den)\n",
        "\n",
        "# Entrada rampa: U(t) = t => forzamos la entrada manualmente\n",
        "t_vals = np.linspace(0, 10, 400)\n",
        "t_ramp, y_ramp = ctrl.forced_response(HRLC, T=t_vals, U=t_vals)\n",
        "\n",
        "# Gráfica\n",
        "plt.figure(figsize=(8, 5))\n",
        "plt.plot(t_ramp, y_ramp, label='y(t) - Respuesta a la rampa', color='purple')\n",
        "plt.title('Respuesta a la rampa del sistema en lazo cerrado')\n",
        "plt.xlabel('Tiempo [s]')\n",
        "plt.ylabel('Amplitud')\n",
        "plt.grid(True)\n",
        "plt.legend()\n",
        "plt.tight_layout()\n",
        "plt.show()"
      ],
      "metadata": {
        "colab": {
          "base_uri": "https://localhost:8080/",
          "height": 507
        },
        "id": "Y-QDrSPoLfYL",
        "outputId": "24fd70f3-1f1d-4b19-a069-b6c424d9e11c"
      },
      "execution_count": 6,
      "outputs": [
        {
          "output_type": "display_data",
          "data": {
            "text/plain": [
              "<Figure size 800x500 with 1 Axes>"
            ],
            "image/png": "[encoded data removed]"
          },
          "metadata": {}
        }
      ]
    }
  ]
}