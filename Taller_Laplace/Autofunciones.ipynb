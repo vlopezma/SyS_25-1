{
  "nbformat": 4,
  "nbformat_minor": 0,
  "metadata": {
    "colab": {
      "provenance": [],
      "include_colab_link": true
    },
    "language_info": {
      "codemirror_mode": {
        "name": "ipython",
        "version": 3
      },
      "file_extension": ".py",
      "mimetype": "text/x-python",
      "name": "python",
      "nbconvert_exporter": "python",
      "pygments_lexer": "ipython3",
      "version": "3.6.4"
    },
    "kernelspec": {
      "display_name": "Python 3",
      "language": "python",
      "name": "python3"
    }
  },
  "cells": [
    {
      "cell_type": "markdown",
      "metadata": {
        "id": "view-in-github",
        "colab_type": "text"
      },
      "source": [
        "<a href=\"https://colab.research.google.com/github/vlopezma/SyS_25-1/blob/main/Taller_Laplace/Autofunciones.ipynb\" target=\"_parent\"><img src=\"https://colab.research.google.com/assets/colab-badge.svg\" alt=\"Open In Colab\"/></a>"
      ]
    },
    {
      "cell_type": "markdown",
      "metadata": {
        "nbsphinx": "hidden",
        "id": "buAkuZ-JvWzT"
      },
      "source": [
        "# Caracterización de sistemas en el dominio del tiempo y la transformada de Laplace\n",
        "\n",
        "*This Jupyter notebook is part of a [collection of notebooks](../index.ipynb) in the bachelors module Signals and Systems, Communications Engineering, Universität Rostock. Please direct questions and suggestions to [Sascha.Spors@uni-rostock.de](mailto:Sascha.Spors@uni-rostock.de).*"
      ]
    },
    {
      "cell_type": "markdown",
      "metadata": {
        "id": "DWtWi0EivWzZ"
      },
      "source": [
        "## Eigenfunctions - Autofunciones\n",
        "\n",
        "- Una [autofunción](https://en.wikipedia.org/wiki/Eigenfunction) (También llamada función propia) de un sistema se define como la señal de entrada $x(t)$ que produce la señal de salida $y(t)=\\mathscr{H} \\{x(t)\\}=\\lambda \\cdot x(t)$ con $\\lambda \\in \\mathbb{C}$.\n",
        "\n",
        "- El peso $\\lambda$ asociado con $x(t)$ se conoce como valor propio escalar del sistema. Por lo tanto, además de ser un factor de ponderación, una función propia no se modifica al pasar por el sistema.\n",
        "\n",
        "- Las señales exponenciales complejas $e^{st}$ con $s \\in \\mathbb{C}$ son funciones propias de un sistema lineal e invariante en el tiempo (SLIT). Esto se puede probar al aplicar las propiedades de los SLIT.\n",
        "\n",
        "- Se asume un SLIT generalizado con entrada $x(t) = e^{s t}$ y salida $y(t) = \\mathscr{H}\\{ x(t) \\}$. La respuesta del SLIT ante una entrada desplazada $x(t-\\tau) = e^{s (t-\\tau)}$ es\n",
        "\n",
        "\\begin{equation}\n",
        "y(t - \\tau) = \\mathscr{H}\\{ x(t-\\tau) \\} = \\mathscr{H}\\{ e^{-s \\tau} \\cdot e^{s t}  \\}\n",
        "\\end{equation}\n",
        "\n",
        "- Debido a la linealidad del sistema, la anterior igualdad se puede reformular así:\n",
        "\n",
        "\\begin{equation}\n",
        "y(t - \\tau) =  e^{-s \\tau} \\cdot \\mathscr{H}\\{ e^{s t}  \\} = e^{-s \\tau} \\cdot y(t)\n",
        "\\end{equation}\n",
        "\n",
        "- Por ende $y(t)=\\lambda e^{st} $, con $\\lambda = e^{-\\tau s}$."
      ]
    },
    {
      "cell_type": "markdown",
      "metadata": {
        "id": "cK7248FwvWzb"
      },
      "source": [
        "**Ejemplo**\n",
        "\n",
        "Se considera un SLIT cuya relación entrada/salida viene dada por la siguiente ecuación diferencial ordinaria (EDO) con coeficientes constantes:\n",
        "\n",
        "\\begin{equation}\n",
        "a_0 y(t) + a_1 \\frac{d y(t)}{dt} + a_2 \\frac{d^2 y(t)}{dt^2} = x(t)\n",
        "\\end{equation}\n",
        "\n",
        "Con $a_i \\in \\mathbb{R} \\quad \\forall i$.\n",
        "\n",
        "La señal de salida $y(t)$ del sistema se calcula mediante la solución explícita de la EDO para $x(t)=e^{st}$ como señal de entrada. Las constantes de integración se descartan para facilitar la ilustración."
      ]
    },
    {
      "cell_type": "code",
      "metadata": {
        "id": "6rspt7o-vWzf",
        "colab": {
          "base_uri": "https://localhost:8080/",
          "height": 56
        },
        "outputId": "29f635ec-06c2-43ab-ffd2-0333b07a12ab"
      },
      "source": [
        "%matplotlib inline\n",
        "import sympy as sym\n",
        "sym.init_printing()\n",
        "#definir variables\n",
        "t, s, a0, a1, a2 = sym.symbols('t s a:3')\n",
        "x = sym.exp(s * t)#entrada del sistema tipo euler compleja\n",
        "y = sym.Function('y')(t)\n",
        "#plantear EDO\n",
        "ode = sym.Eq(a0*y + a1*y.diff(t) + a2*y.diff(t,2), x)\n",
        "solution = sym.dsolve(ode)#resolver para condiciones iniciales 0\n",
        "solution.subs({'C1': 0, 'C2' : 0})"
      ],
      "execution_count": null,
      "outputs": [
        {
          "output_type": "execute_result",
          "data": {
            "image/png": "[encoded data removed]",
            "text/latex": "$\\displaystyle y{\\left(t \\right)} = \\frac{e^{s t}}{a_{0} + a_{1} s + a_{2} s^{2}}$",
            "text/plain": [
              "               s⋅t      \n",
              "              ℯ         \n",
              "y(t) = ─────────────────\n",
              "                       2\n",
              "       a₀ + a₁⋅s + a₂⋅s "
            ]
          },
          "metadata": {},
          "execution_count": 10
        }
      ]
    },
    {
      "cell_type": "markdown",
      "metadata": {
        "id": "I0bd3dz4vWzv"
      },
      "source": [
        "**Ejercicio**\n",
        "\n",
        "* Qué relación tiene $\\lambda$ con el la salida obtenida al resolver la EDO?\n",
        "* Puede generalizar sus resultados a una EDO de orden arbitrario?"
      ]
    },
    {
      "cell_type": "markdown",
      "metadata": {
        "id": "EQ26PD60vWzx"
      },
      "source": [
        "**Ejemplo**\n",
        "\n",
        "La siguiente EDO lineal con coeficiente dependiente del tiempo se considera como un ejemplo para un sistema lineal con variación en el tiempo:\n",
        "\n",
        "\\begin{equation}\n",
        "t \\cdot \\frac{d y(t)}{dt} = x(t)\n",
        "\\end{equation}\n",
        "\n",
        "La señal de salida $y(t)$ del sistema para una señal exponencial compleja en la entrada $x(t)=e^{st}$ se calcula al solucionar de manera explícita la EDO. Nuevamente se descartan las constantes de integración."
      ]
    },
    {
      "cell_type": "code",
      "metadata": {
        "id": "p4Cx0bm4vWzz",
        "colab": {
          "base_uri": "https://localhost:8080/",
          "height": 38
        },
        "outputId": "1a420a0d-4784-4205-d7c5-f768c971065f"
      },
      "source": [
        "ode = sym.Eq(t*y.diff(t), x)\n",
        "solution = sym.dsolve(ode)\n",
        "solution.subs('C1', 0)"
      ],
      "execution_count": null,
      "outputs": [
        {
          "output_type": "execute_result",
          "data": {
            "image/png": "[encoded data removed]",
            "text/latex": "$\\displaystyle y{\\left(t \\right)} = \\operatorname{Ei}{\\left(s t \\right)}$",
            "text/plain": [
              "y(t) = Ei(s⋅t)"
            ]
          },
          "metadata": {},
          "execution_count": 11
        }
      ]
    },
    {
      "cell_type": "markdown",
      "metadata": {
        "id": "6RqQu0A8vWz9"
      },
      "source": [
        "Observe que, $\\text{Ei}(\\cdot)$ denota una [integral exponencial](http://docs.sympy.org/latest/modules/functions/special.html#sympy.functions.special.error_functions.Ei). La respuesta $y(t)$ del sistema variante en el tiempo no es igual a una señal exponencial compleja ponderada ($\\lambda \\cdot e^{st}$). Se puede concluir que las exponenciales complejas no son funciones propias de este sistema particular."
      ]
    },
    {
      "cell_type": "markdown",
      "metadata": {
        "id": "R_jox20UvWz_"
      },
      "source": [
        "**Ejemplo**\n",
        "\n",
        "Un último ejemplo considera la siguiente EDO no lineal con coeficientes:\n",
        "\n",
        "\\begin{equation}\n",
        "\\left( \\frac{d y(t)}{dt} \\right)^2 = x(t)\n",
        "\\end{equation}\n",
        "\n",
        "Como ejemplo para un sistema no lineal e invariante en el tiempo. Nuevamente, la señal de salida $y(t)$ del sistema ante una señal exponencial compleja en la entrada $x(t)=e^{st}$ se calcula mediante la solución explícita de la EDO. Como antes, las constantes de integración se descartan."
      ]
    },
    {
      "cell_type": "code",
      "metadata": {
        "id": "2d9gKKJQvW0C",
        "colab": {
          "base_uri": "https://localhost:8080/",
          "height": 68
        },
        "outputId": "ac69f741-a220-475e-8610-1ad12b013f1b"
      },
      "source": [
        "ode = sym.Eq(y.diff(t)**2, x)\n",
        "solution = sym.dsolve(ode)\n",
        "solution[0].subs('C1',0)"
      ],
      "execution_count": null,
      "outputs": [
        {
          "output_type": "execute_result",
          "data": {
            "text/latex": "$\\displaystyle y{\\left(t \\right)} = - \\begin{cases} \\frac{2 \\sqrt{e^{s t}}}{s} & \\text{for}\\: s \\neq 0 \\\\t & \\text{otherwise} \\end{cases}$",
            "text/plain": [
              "        ⎛⎧     ______           ⎞\n",
              "        ⎜⎪    ╱  s⋅t            ⎟\n",
              "        ⎜⎪2⋅╲╱  ℯ               ⎟\n",
              "y(t) = -⎜⎨───────────  for s ≠ 0⎟\n",
              "        ⎜⎪     s                ⎟\n",
              "        ⎜⎪                      ⎟\n",
              "        ⎝⎩     t       otherwise⎠"
            ]
          },
          "metadata": {},
          "execution_count": 12
        }
      ]
    },
    {
      "cell_type": "markdown",
      "metadata": {
        "id": "OFHuq1MZvW0N"
      },
      "source": [
        "Obviamente, para este sistema no lineal, las señales exponenciales complejas no son funciones propias."
      ]
    },
    {
      "cell_type": "markdown",
      "metadata": {
        "id": "YUZcn_o9vW0P"
      },
      "source": [
        "## Función de Transferencia\n",
        "\n",
        "El valor propio complejo $\\lambda$ caracteriza las propiedades de la transferencia de una señal exponencial compleja $e^{st} $ con una frecuencia compleja $s$ a través de un SLTI.\n",
        "\n",
        "Se denomina comúnmente como [*función de transferencia*](https://en.wikipedia.org/wiki/Transfer_function) y se denota por $H(s)=\\lambda(s)$. Usando esta definición, la señal de salida $y(t)$ de un SLIT ante una señal exponencial compleja en la entrada, se tiene que\n",
        "\n",
        "\\begin{equation}\n",
        "y(t) = \\mathscr{H} \\{ e^{st} \\} = H(s) \\cdot e^{st}\n",
        "\\end{equation}\n",
        "\n",
        "Tenga en cuenta que el concepto de función de transferencia está directamente vinculado a la linealidad y la invariancia en el tiempo de un sistema. Solo en este caso, las señales exponenciales complejas son funciones propias del sistema y $H(s)$ describe las propiedades de un SLIT con respecto a éstas.\n",
        "\n",
        "La ecuación anterior se puede reescribir en términos de la magnitud $|H(s)|$ y fase $\\varphi(s)=\\arg\\{H(s)\\}$ de la función de transferencia compleja $H(s)$\n",
        "\n",
        "\\begin{equation}\n",
        "y(t) = | H(s) | \\cdot e^{s t + j \\varphi(s)}\n",
        "\\end{equation}\n",
        "\n",
        "La magnitud $|H(s)|$ proporciona una atenuación dependiente de la frecuencia de la función propia $e^{st}$ por el sistema, mientras que $\\varphi(s)$ proporciona el cambio de fase introducido en la señal de entrada."
      ]
    },
    {
      "cell_type": "markdown",
      "metadata": {
        "id": "4P4AJvKsvW0S"
      },
      "source": [
        "## Relación entre función de transferencia y respuesta al impulso\n",
        "\n",
        "Para establecer la relación entre la función de transferencia $H(s)$ y la respuesta al impulso $h(t)$, se obtiene la salida $y(t)=\\mathscr{H}\\{x(t)\\}$ de un SLIT con señal de entrada $x(t)$, mediante la convolución de la señal de entrada con la respuesta de impulso:\n",
        "\n",
        "\\begin{equation}\n",
        "y(t) = x(t) * h(t) = \\int_{-\\infty}^{\\infty} x(t-\\tau) \\cdot h(\\tau) \\; d\\tau\n",
        "\\end{equation}\n",
        "\n",
        "Para una señal exponencial compleja como entrada $x(t)=e^{st}$, la salida de un SLIT se cálcula como $y(t)=\\mathscr{H} \\{e^{st}\\}=H(s)\\cdot e^{st}$.\n",
        "\n",
        "Introduciendo ambas señales en la convolución se tiene que:\n",
        "\n",
        "\\begin{equation}\n",
        "H(s) \\cdot e^{st} = \\int_{-\\infty}^{\\infty} e^{st} e^{-s \\tau} \\cdot h(\\tau) \\; d\\tau\n",
        "\\end{equation}\n",
        "\n",
        "Que después de reorganizar los términos resulta en\n",
        "\n",
        "\\begin{equation}\n",
        "H(s) = \\int_{-\\infty}^{\\infty} h(\\tau) \\cdot e^{-s \\tau}  \\; d\\tau\n",
        "\\end{equation}\n",
        "\n",
        "bajo el supuesto de que la integral converge.\n",
        "\n",
        "La función de transferencia $H(s)$ se puede calcular a partir de la respuesta de impulso $h(t)$ mediante la integración de la respuesta de impulso multiplicada por la función exponencial compleja $e^{-st}$.\n",
        "\n",
        "Esto constituye una transformada integral de la respuesta al impulso, la [transformada de Laplace](https://en.wikipedia.org/wiki/Laplace_transform)."
      ]
    },
    {
      "cell_type": "markdown",
      "metadata": {
        "nbsphinx": "hidden",
        "id": "lnyDWU4SvW0T"
      },
      "source": [
        "**Copyright**\n",
        "\n",
        "The notebooks are provided as [Open Educational Resource](https://de.wikipedia.org/wiki/Open_Educational_Resources). Feel free to use the notebooks for your own educational purposes. The text is licensed under [Creative Commons Attribution 4.0](https://creativecommons.org/licenses/by/4.0/), the code of the IPython examples under the [MIT license](https://opensource.org/licenses/MIT). Please attribute the work as follows: *Lecture Notes on Signals and Systems* by Sascha Spors."
      ]
    },
    {
      "cell_type": "markdown",
      "metadata": {
        "id": "5817119f"
      },
      "source": [
        "**Ejercicio**\n",
        "\n",
        "Vamos a responder las preguntas sobre la relación entre la salida de la EDO y el concepto de autofunción, y si podemos generalizar esto.\n",
        "\n",
        "*   **¿Qué relación tiene $\\lambda$ con la salida obtenida al resolver la EDO?**\n",
        "\n",
        "    Recuerda que una **autofunción** de un sistema es una señal de entrada ($x(t)$) que, al pasar por el sistema, produce una señal de salida ($y(t)$) que es simplemente una versión escalada de la entrada. Es decir:\n",
        "\n",
        "    $y(t) = \\lambda \\cdot x(t)$\n",
        "\n",
        "    donde $\\lambda$ es un número (puede ser complejo) llamado **valor propio**.\n",
        "\n",
        "    En el ejemplo anterior, resolvimos una EDO lineal e invariante en el tiempo (SLIT) con la entrada especial $x(t) = e^{st}$. La salida que obtuvimos fue:\n",
        "\n",
        "    $y(t) = \\frac{e^{st}}{a_0 + a_1 s + a_2 s^2}$\n",
        "\n",
        "    Ahora, comparemos esta salida con la definición de autofunción:\n",
        "\n",
        "    $y(t) = \\lambda \\cdot x(t)$\n",
        "\n",
        "    Sustituyendo la salida y la entrada que usamos:\n",
        "\n",
        "    $\\frac{e^{st}}{a_0 + a_1 s + a_2 s^2} = \\lambda \\cdot e^{st}$\n",
        "\n",
        "    Para que esta igualdad se cumpla, el término que acompaña a $e^{st}$ en el lado izquierdo debe ser igual a $\\lambda$ en el lado derecho.\n",
        "\n",
        "    $\\lambda = \\frac{1}{a_0 + a_1 s + a_2 s^2}$\n",
        "\n",
        "    Entonces, la relación es directa: el valor propio $\\lambda$ para la autofunción $e^{st}$ en este sistema SLIT específico es igual a la expresión $\\frac{1}{a_0 + a_1 s + a_2 s^2}$ que obtuvimos al resolver la EDO.\n",
        "\n",
        "*   **¿Puede generalizar sus resultados a una EDO de orden arbitrario?**\n",
        "\n",
        "    ¡Sí, podemos generalizar esto! Las exponenciales complejas $e^{st}$ son autofunciones para *cualquier* sistema Lineal e Invariante en el Tiempo (SLIT) descrito por una EDO lineal con coeficientes constantes, sin importar el orden de la derivada más alta en la EDO.\n",
        "\n",
        "    Consideremos una EDO lineal con coeficientes constantes de orden $n$ para la derivada de $y(t)$ y orden $m$ para la derivada de $x(t)$. La forma general es algo así:\n",
        "\n",
        "    $a_n \\frac{d^n y(t)}{dt^n} + \\dots + a_1 \\frac{d y(t)}{dt} + a_0 y(t) = b_m \\frac{d^m x(t)}{dt^m} + \\dots + b_1 \\frac{d x(t)}{dt} + b_0 x(t)$\n",
        "\n",
        "    Podemos escribir esto de forma más corta usando sumatorias:\n",
        "\n",
        "    $$ \\sum_{i=0}^{n} a_i \\frac{d^i y(t)}{dt^i} = \\sum_{j=0}^{m} b_j \\frac{d^j x(t)}{dt^j} $$\n",
        "\n",
        "    Ahora, ¿qué pasa si la entrada es $x(t) = e^{st}$? Como $e^{st}$ es una autofunción para los SLIT, sabemos que la salida será $y(t) = \\lambda e^{st}$.\n",
        "\n",
        "    Vamos a sustituir $x(t)$ y $y(t)$ en la EDO general.\n",
        "\n",
        "    Primero, observemos qué pasa cuando derivamos $y(t) = \\lambda e^{st}$. La primera derivada es $\\frac{d y(t)}{dt} = \\lambda s e^{st}$. La segunda derivada es $\\frac{d^2 y(t)}{dt^2} = \\lambda s^2 e^{st}$, y así sucesivamente. La $i$-ésima derivada es $\\frac{d^i y(t)}{dt^i} = \\lambda s^i e^{st}$.\n",
        "\n",
        "    Lo mismo ocurre con la entrada $x(t) = e^{st}$. La $j$-ésima derivada es $\\frac{d^j x(t)}{dt^j} = s^j e^{st}$.\n",
        "\n",
        "    Ahora sustituyamos estas derivadas en la EDO general:\n",
        "\n",
        "    $a_n (\\lambda s^n e^{st}) + \\dots + a_1 (\\lambda s^1 e^{st}) + a_0 (\\lambda e^{st}) = b_m (s^m e^{st}) + \\dots + b_1 (s^1 e^{st}) + b_0 (e^{st})$\n",
        "\n",
        "    O usando las sumatorias:\n",
        "\n",
        "    $$ \\sum_{i=0}^{n} a_i (\\lambda s^i e^{st}) = \\sum_{j=0}^{m} b_j (s^j e^{st}) $$\n",
        "\n",
        "    Ahora, podemos sacar $\\lambda$ y $e^{st}$ como factores comunes del lado izquierdo, y $e^{st}$ como factor común del lado derecho:\n",
        "\n",
        "    $$ \\lambda e^{st} \\left( \\sum_{i=0}^{n} a_i s^i \\right) = e^{st} \\left( \\sum_{j=0}^{m} b_j s^j \\right) $$\n",
        "\n",
        "    Como $e^{st}$ nunca es cero, podemos dividir ambos lados de la ecuación por $e^{st}$:\n",
        "\n",
        "    $$ \\lambda \\left( \\sum_{i=0}^{n} a_i s^i \\right) = \\left( \\sum_{j=0}^{m} b_j s^j \\right) $$\n",
        "\n",
        "    Finalmente, para encontrar la relación de $\\lambda$, despejamos $\\lambda$:\n",
        "\n",
        "    $$ \\lambda = \\frac{\\sum_{j=0}^{m} b_j s^j}{\\sum_{i=0}^{n} a_i s^i} $$\n",
        "\n",
        "    Esta fórmula general nos dice que el valor propio $\\lambda$ para la autofunción $e^{st}$ en un SLIT descrito por una EDO lineal con coeficientes constantes es una fracción. El numerador es un polinomio en $s$ cuyos coeficientes son los $b_j$ de la parte de la EDO que involucra a la entrada $x(t)$ y sus derivadas. El denominador es un polinomio en $s$ cuyos coeficientes son los $a_i$ de la parte de la EDO que involucra a la salida $y(t)$ y sus derivadas.\n",
        "\n",
        "    Esta expresión $\\lambda(s)$ es lo que se conoce como la **Función de Transferencia** $H(s)$ del sistema. Confirma que para cualquier SLIT, las exponenciales complejas son autofunciones y su valor propio asociado es la función de transferencia $H(s)$ evaluada en la frecuencia compleja $s$."
      ]
    }
  ]
}