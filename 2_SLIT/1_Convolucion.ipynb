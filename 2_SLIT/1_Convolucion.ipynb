{
  "nbformat": 4,
  "nbformat_minor": 0,
  "metadata": {
    "colab": {
      "provenance": [],
      "include_colab_link": true
    },
    "language_info": {
      "codemirror_mode": {
        "name": "ipython",
        "version": 3
      },
      "file_extension": ".py",
      "mimetype": "text/x-python",
      "name": "python",
      "nbconvert_exporter": "python",
      "pygments_lexer": "ipython3",
      "version": "3.6.4"
    },
    "kernelspec": {
      "display_name": "Python 3",
      "language": "python",
      "name": "python3"
    }
  },
  "cells": [
    {
      "cell_type": "markdown",
      "metadata": {
        "id": "view-in-github",
        "colab_type": "text"
      },
      "source": [
        "<a href=\"https://colab.research.google.com/github/vlopezma/SyS_25-1/blob/main/2_Convolucion.ipynb\" target=\"_parent\"><img src=\"https://colab.research.google.com/assets/colab-badge.svg\" alt=\"Open In Colab\"/></a>"
      ]
    },
    {
      "cell_type": "markdown",
      "metadata": {
        "id": "WYzEz_ywqCNl"
      },
      "source": [
        "# Convolución\n",
        "\n",
        "- La convolución es una operación importante en la teoría de señales y sistemas.\n",
        "\n",
        "- También, aparece en una amplia gama de otros problemas físicos y matemáticos, especialmente en el modelado de sistemas lineales e invariantes con el tiempo (SLIT).\n",
        "\n",
        "- La operación es, por lo tanto, de interés general y bien conocida en matemáticas.\n",
        "\n",
        "- La convolución de dos señales $s(t)$ y $g(t)$ se define como:\n",
        "\n",
        "\\begin{equation}\n",
        "s(t) * g(t) = \\int_{-\\infty}^{\\infty} s(\\tau) \\cdot g(t - \\tau) \\; d\\tau =\n",
        "\\int_{-\\infty}^{\\infty} s(t - \\tau) \\cdot g(\\tau) \\; d\\tau\n",
        "\\end{equation}\n",
        "donde $*$ es una notación corta para indicar convolución."
      ]
    },
    {
      "cell_type": "markdown",
      "metadata": {
        "id": "ganDqLRAqCNo"
      },
      "source": [
        "### Propiedades\n",
        "\n",
        "Para las señales $s(t)$, $g(t)$, $h(t) \\in \\mathbb{R},\\mathbb{C}$ la convolución cumple las siguientes propiedades:\n",
        "\n",
        "- El impulso de Dirac es un [elemento identidad](https://en.wikipedia.org/wiki/Identity_element) de la convolución\n",
        "    \\begin{equation}\n",
        "    s(t) * \\delta(t) = s(t)\n",
        "    \\end{equation}\n",
        "\n",
        "- La convolución es [conmutativa](https://en.wikipedia.org/wiki/Commutative_property)\n",
        "    \\begin{equation}\n",
        "    s(t) * g(t) = g(t) * s(t)\n",
        "    \\end{equation}\n",
        "\n",
        "- La convolución es [asociativa](https://en.wikipedia.org/wiki/Associative_property)\n",
        "    \\begin{equation}\n",
        "    \\left[ s(t) * g(t) \\right] * h(t) = s(t) * \\left[ g(t) * h(t) \\right]\n",
        "    \\end{equation}\n",
        "\n",
        "- La convolución es [distributiva](https://en.wikipedia.org/wiki/Distributive_property)\n",
        "    \\begin{equation}\n",
        "    s(t) * \\left[ g(t) + h(t) \\right] = s(t) * g(t) + s(t) * h(t)\n",
        "    \\end{equation}\n",
        "\n",
        "- Multiplicación por un escalar $a \\in \\mathbb{R},\\mathbb{C}$\n",
        "    \\begin{equation}\n",
        "    a \\cdot \\left[ s(t) * g(t) \\right] = \\left[ a \\cdot s(t) \\right] * g(t) = s(t) * \\left[ a \\cdot g(t) \\right]\n",
        "    \\end{equation}\n",
        "\n",
        "- Derivada de la convolución\n",
        "    \\begin{equation}\n",
        "    \\frac{d}{dt} \\left[ s(t) * g(t) \\right] =  \\frac{d s(t)}{dt} * g(t) = s(t) * \\frac{d g(t)}{dt}\n",
        "    \\end{equation}\n",
        "\n",
        "La primera propiedad es una consecuencia de la propiedad de selectividad del impulso de Dirac, desde la segunda hasta la quinta propiedad, se puede demostrar considerando la definición de la integral de convolución y la sexta propiedad se deriva de las propiedades de la derivada de la función delta de Dirac."
      ]
    },
    {
      "cell_type": "markdown",
      "metadata": {
        "id": "zSRFvBGCqCNr"
      },
      "source": [
        "### Interpretación Gráfica\n",
        "\n",
        "La convolución es generalmente [interpretada de manera gráfica](https://en.wikipedia.org/wiki/Convolution#Visual_explanation). Esta interpretación proporciona información valiosa sobre su cálculo y permite obtener una primera estimación del resultado.\n",
        "\n",
        "El cálculo de la integral de convolución:\n",
        "\n",
        "\\begin{equation}\n",
        "y(t) = \\int_{-\\infty}^{\\infty} x(\\tau) \\cdot h(t-\\tau) \\; d\\tau\n",
        "\\end{equation}\n",
        "\n",
        "se puede descomponer en las siguientes operaciones:\n",
        "\n",
        "- Sustituir $t$ por $\\tau$ en $x(t)$ y $h(t)$.\n",
        "\n",
        "- Reflejar $h(\\tau)$ sobre el eje vertical.\n",
        "\n",
        "- Desplazar $h(-\\tau)$ en $t$, para obtener $h(t - \\tau)$,\n",
        "\n",
        "- Desplazar $h(t - \\tau)$ por $t = -\\infty \\dots \\infty$, verificar si hay traslape con $x(\\tau)$ y calcular la integral de convolución sobre las secciones traslapadas.\n",
        "\n",
        "La interpretación gráfica de estas operaciones se ilustra con el siguiente ejemplo."
      ]
    },
    {
      "cell_type": "markdown",
      "metadata": {
        "id": "9VmydzLfqCNw"
      },
      "source": [
        "**Ejemplo**\n",
        "\n",
        "La convolución $y(t) = x(t) * h(t)$ se realizará a partir de las siguientes señales\n",
        "\n",
        "\\begin{align}\n",
        "h(t) &= e^{-t} \\\\\n",
        "x(t) &= \\text{rect} \\left(t - \\frac{1}{2}\\right)\n",
        "\\end{align}\n"
      ]
    },
    {
      "cell_type": "code",
      "metadata": {
        "id": "5knVcq1VqCNx"
      },
      "source": [
        "%matplotlib inline\n",
        "import sympy as sym\n",
        "sym.init_printing()\n",
        "\n",
        "t, tau = sym.symbols('t tau', real=True)#variables simbólicas"
      ],
      "execution_count": 1,
      "outputs": []
    },
    {
      "cell_type": "code",
      "metadata": {
        "id": "s3YsXU4IqCN7"
      },
      "source": [
        "class rect(sym.Function): #función pulso rectangular\n",
        "    @classmethod\n",
        "    def eval(cls, arg):\n",
        "        return sym.Heaviside(arg + sym.S.Half) - sym.Heaviside(arg - sym.S.Half)"
      ],
      "execution_count": 2,
      "outputs": []
    },
    {
      "cell_type": "code",
      "metadata": {
        "id": "KzJ4hRiZqCOC"
      },
      "source": [
        "def plot_signals(x_axis, x, h, ylabel, xlabel):#función para graficar convolución\n",
        "    p1 = sym.plot(x, (x_axis, -5, 5), show=False, line_color='b', ylabel=ylabel, xlabel=xlabel)\n",
        "    p2 = sym.plot(h, (x_axis, -5, 5), show=False, line_color='r')\n",
        "    p1.extend(p2)\n",
        "    p1.show()"
      ],
      "execution_count": 3,
      "outputs": []
    },
    {
      "cell_type": "markdown",
      "metadata": {
        "id": "ALrS7tjbqCOJ"
      },
      "source": [
        "Ahora vamos a definir y trazar las señales. A continuación, la señal $h(t)$ se ilustra mediante el gráfico rojo y la señal $x(t)$ mediante el gráfico azul."
      ]
    },
    {
      "cell_type": "code",
      "metadata": {
        "id": "mRuG-2eQqCOM",
        "colab": {
          "base_uri": "https://localhost:8080/",
          "height": 484
        },
        "outputId": "b69b9357-2726-4c80-d6e9-efdabb249d35"
      },
      "source": [
        "h = sym.exp(-t) * sym.Heaviside(t)\n",
        "x = rect(t - 1/2)\n",
        "\n",
        "plot_signals(t, x, h, r'$h(t)$, $x(t)$', r'$t$')"
      ],
      "execution_count": 4,
      "outputs": [
        {
          "output_type": "display_data",
          "data": {
            "text/plain": [
              "<Figure size 640x480 with 1 Axes>"
            ],
            "image/png": "[encoded data removed]"
          },
          "metadata": {}
        }
      ]
    },
    {
      "cell_type": "markdown",
      "metadata": {
        "id": "ltQ5jhNmqCOY"
      },
      "source": [
        " El **primer paso** es sustituir $t$ por $\\tau$ para obtener $h(\\tau)$ y $x(\\tau)$. Observe que el eje independiente ahora representa a $\\tau$."
      ]
    },
    {
      "cell_type": "code",
      "metadata": {
        "id": "Uf1-lUazqCOa",
        "colab": {
          "base_uri": "https://localhost:8080/",
          "height": 484
        },
        "outputId": "ff04ad95-46ef-472c-a8ec-a6602d41b5ee"
      },
      "source": [
        "h1 = h.subs(t, tau)\n",
        "x1 = x.subs(t, tau)\n",
        "\n",
        "plot_signals(tau, x1, h1, r'$h(\\tau)$, $x(\\tau)$', r'$\\tau$')"
      ],
      "execution_count": 9,
      "outputs": [
        {
          "output_type": "display_data",
          "data": {
            "text/plain": [
              "<Figure size 640x480 with 1 Axes>"
            ],
            "image/png": "[encoded data removed]"
          },
          "metadata": {}
        }
      ]
    },
    {
      "cell_type": "markdown",
      "metadata": {
        "id": "E-5K6j__qCOk"
      },
      "source": [
        "El **segundo paso** es reflejar $h(\\tau)$ para obtener $h(-\\tau)$"
      ]
    },
    {
      "cell_type": "code",
      "metadata": {
        "id": "tiS2CiE8qCOm",
        "colab": {
          "base_uri": "https://localhost:8080/",
          "height": 484
        },
        "outputId": "b49cb497-4406-434e-c159-cb6536326932"
      },
      "source": [
        "h2 = h1.subs(tau, -tau)\n",
        "\n",
        "plot_signals(tau, x1, h2, r'$h(-\\tau)$, $x(\\tau)$', r'$\\tau$')"
      ],
      "execution_count": 10,
      "outputs": [
        {
          "output_type": "display_data",
          "data": {
            "text/plain": [
              "<Figure size 640x480 with 1 Axes>"
            ],
            "image/png": "[encoded data removed]"
          },
          "metadata": {}
        }
      ]
    },
    {
      "cell_type": "markdown",
      "metadata": {
        "id": "Yg-vObNyqCOv"
      },
      "source": [
        "La respuesta al impulso $h(-\\tau)$ se desplaza por $t$ a la derecha en el **tercer paso** para obtener $h(t - \\tau)$. Esto se ilustra para $t = -2$"
      ]
    },
    {
      "cell_type": "code",
      "metadata": {
        "id": "mmqahLMfqCOw",
        "colab": {
          "base_uri": "https://localhost:8080/",
          "height": 484
        },
        "outputId": "6d3a7999-855b-499d-fa2c-fff02a29958d"
      },
      "source": [
        "h3 = h2.subs(tau, tau-t)\n",
        "\n",
        "plot_signals(tau, x1, h3.subs(t, -2), r'$h(t-\\tau)$, $x(\\tau)$', r'$\\tau$')"
      ],
      "execution_count": 11,
      "outputs": [
        {
          "output_type": "display_data",
          "data": {
            "text/plain": [
              "<Figure size 640x480 with 1 Axes>"
            ],
            "image/png": "[encoded data removed]"
          },
          "metadata": {}
        }
      ]
    },
    {
      "cell_type": "markdown",
      "metadata": {
        "id": "x6jDD7iDqCO5"
      },
      "source": [
        "Ahora resulta obvio que tenemos que considerar tres casos con respecto a la superposición de $h(t-\\tau)$ y $x(\\tau)$\n",
        "\n",
        "1. $t<0$: sin traslape\n",
        "2. $0 \\leq t < 1$: traslape parcial\n",
        "3. $t > 0$: traslape completo\n",
        "\n",
        "\n",
        "\n",
        "**Ejercicio**\n",
        "\n",
        "En el **cuarto paso**, la evaluación de las integrales de convolución para los tres casos se deja abierta como un ejercicio. Tenga en cuenta que, en el primer caso, no se superponen, es decir que $y(t)=0$ para $t<0$."
      ]
    },
    {
      "cell_type": "markdown",
      "metadata": {
        "nbsphinx": "hidden",
        "id": "eIAlJ0vhqCO6"
      },
      "source": [
        "**Copyright**\n",
        "\n",
        "The notebooks are provided as [Open Educational Resource](https://de.wikipedia.org/wiki/Open_Educational_Resources). Feel free to use the notebooks for your own educational purposes. The text is licensed under [Creative Commons Attribution 4.0](https://creativecommons.org/licenses/by/4.0/), the code of the IPython examples under the [MIT license](https://opensource.org/licenses/MIT). Please attribute the work as follows: *Lecture Notes on Signals and Systems* by Sascha Spors."
      ]
    },
    {
      "cell_type": "code",
      "source": [
        "import sympy as sym\n",
        "\n",
        "# Definir la variable simbolica tau\n",
        "tau = sym.symbols('tau', real=True)\n",
        "t = sym.symbols('t', real=True) # Asegurarse de que t también es una variable simbólica\n",
        "\n",
        "# Definir h(t-tau) y x(tau) para la integración\n",
        "h_shifted = sym.exp(-(t - tau)) # h(t-tau)\n",
        "x_tau = rect(tau - sym.S.Half) # x(tau)\n",
        "\n",
        "# Caso 2: 0 <= t < 1\n",
        "# La integral va de 0 a t\n",
        "# Nota: x_tau en el rango de integración es 1\n",
        "integral_caso2 = sym.integrate(1 * sym.exp(-(t - tau)), (tau, 0, t))\n",
        "display(sym.Eq(sym.Symbol('y(t)'), integral_caso2, evaluate=False))\n",
        "\n",
        "# Caso 3: t >= 1\n",
        "# La integral va de 0 a 1\n",
        "# Nota: x_tau en el rango de integración es 1\n",
        "integral_caso3 = sym.integrate(1 * sym.exp(-(t - tau)), (tau, 0, 1))\n",
        "display(sym.Eq(sym.Symbol('y(t)'), integral_caso3, evaluate=False))\n"
      ],
      "metadata": {
        "colab": {
          "base_uri": "https://localhost:8080/",
          "height": 60
        },
        "id": "hUFT3amcXIAl",
        "outputId": "9083c7ca-5488-43ba-d3d2-521ab0ef8e51"
      },
      "execution_count": 15,
      "outputs": [
        {
          "output_type": "display_data",
          "data": {
            "text/plain": [
              "            -t\n",
              "y(t) = 1 - ℯ  "
            ],
            "text/latex": "$\\displaystyle y(t) = 1 - e^{- t}$"
          },
          "metadata": {}
        },
        {
          "output_type": "display_data",
          "data": {
            "text/plain": [
              "        1 - t    -t\n",
              "y(t) = ℯ      - ℯ  "
            ],
            "text/latex": "$\\displaystyle y(t) = e^{1 - t} - e^{- t}$"
          },
          "metadata": {}
        }
      ]
    },
    {
      "cell_type": "markdown",
      "source": [
        "### Evaluación de la Convolución $ y(t) = x(t) * h(t) $\n",
        "\n",
        "\n",
        "####  Caso 1: $ t < 0 $\n",
        "\n",
        "No hay traslape entre $ x(\\tau) $ y $ h(t - \\tau) $.\n",
        "\n",
        "$$\n",
        "\\Rightarrow y(t) = 0\n",
        "$$\n",
        "\n",
        "---\n",
        "\n",
        "####  Caso 2: $ 0 \\leq t < 1 $\n",
        "$$\n",
        "y(t) = \\int_0^t x(\\tau) \\cdot h(t - \\tau) \\, d\\tau = \\int_0^t e^{-(t - \\tau)} \\cdot 1 \\, d\\tau\n",
        "$$\n",
        "\n",
        "### Cambio de variable:\n",
        "\n",
        "Sea $u = t - \\tau$  \n",
        "Entonces: $du = -d\\tau$, por lo tanto $d\\tau = -du$\n",
        "\n",
        "Cuando $\\tau = 0$, $u = t$  \n",
        "Cuando $\\tau = t$, $u = 0$\n",
        "\n",
        "Sustituyendo:\n",
        "\n",
        "$$\n",
        "y(t) = \\int_{\\tau = 0}^{\\tau = t} e^{-(t - \\tau)} \\, d\\tau = \\int_{u = t}^{u = 0} e^{-u} \\cdot (-du)\n",
        "= \\int_0^t e^{-u} \\, du\n",
        "$$\n",
        "\n",
        "Evaluamos la integral:\n",
        "\n",
        "$$\n",
        "y(t) = \\left[ -e^{-u} \\right]_0^t = -e^{-t} + 1 = 1 - e^{-t}\n",
        "$$\n",
        "\n",
        "\n",
        "---\n",
        "\n",
        "#### Caso 3: $ t \\geq 1 $\n",
        "\n",
        "Ahora el pulso $x(\\tau)$ completo se encuentra dentro del dominio de $h(t - \\tau)$. El intervalo de integración es fijo: $[0, 1]$\n",
        "\n",
        "$$\n",
        "y(t) = \\int_0^1 x(\\tau) \\cdot h(t - \\tau) \\, d\\tau = \\int_0^1 e^{-(t - \\tau)} \\, d\\tau\n",
        "$$\n",
        "\n",
        "Factorizamos $e^{-t}$:\n",
        "\n",
        "$$\n",
        "y(t) = e^{-t} \\int_0^1 e^{\\tau} \\, d\\tau\n",
        "$$\n",
        "\n",
        "Evaluamos la integral:\n",
        "\n",
        "$$\n",
        "\\int_0^1 e^{\\tau} \\, d\\tau = \\left[ e^{\\tau} \\right]_0^1 = e^1 - e^0 = e - 1\n",
        "$$\n",
        "\n",
        "Entonces:\n",
        "\n",
        "$$\n",
        "y(t) = e^{-t}(e - 1)\n",
        "$$\n",
        "\n",
        "---\n",
        "\n",
        "###  Resultado final:\n",
        "\n",
        "$$\n",
        "y(t) =\n",
        "\\begin{cases}\n",
        "0 & \\text{si } t < 0 \\\\\n",
        "1 - e^{-t} & \\text{si } 0 \\leq t < 1 \\\\\n",
        "e^{-t}(e - 1) & \\text{si } t \\geq 1\n",
        "\\end{cases}\n",
        "$$"
      ],
      "metadata": {
        "id": "3uZA_ne8Xqxt"
      }
    }
  ]
}
