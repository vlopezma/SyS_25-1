{
  "cells": [
    {
      "cell_type": "markdown",
      "metadata": {
        "id": "view-in-github",
        "colab_type": "text"
      },
      "source": [
        "<a href=\"https://colab.research.google.com/github/vlopezma/SyS_25-1/blob/main/SyS_25-1%20/Taller_Laplace/Definici%C3%B3n_Laplace.ipynb\" target=\"_parent\"><img src=\"https://colab.research.google.com/assets/colab-badge.svg\" alt=\"Open In Colab\"/></a>"
      ]
    },
    {
      "cell_type": "markdown",
      "metadata": {
        "id": "5mw9WCxK3Y5D",
        "nbsphinx": "hidden"
      },
      "source": [
        "# Transformada de Laplace\n",
        "\n",
        "*This Jupyter notebook is part of a [collection of notebooks](../index.ipynb) in the bachelors module Signals and Systems, Communications Engineering, Universität Rostock. Please direct questions and suggestions to [Sascha.Spors@uni-rostock.de](mailto:Sascha.Spors@uni-rostock.de).*"
      ]
    },
    {
      "cell_type": "markdown",
      "metadata": {
        "id": "WTtnxffk3Y5I"
      },
      "source": [
        "## Definición\n",
        "\n",
        "- La [trasnformada de Laplace](https://en.wikipedia.org/wiki/Laplace_transform) es una transformada integral desde la función exponencial compleja $e^{s t}$ como base de transformación.\n",
        "\n",
        "- Convierte una señal compleja $x(t) \\in \\mathbb{C}$ con variable independiente real $t \\in \\mathbb{R}$ en su transformada compleja de Laplace $X(s) \\in \\mathbb{C}$ con variable independiente compleja $s \\in \\mathbb{C}$.\n",
        "\n",
        "- La transformada de Laplace recibe su nombre en honor a [Pierre-Simon Laplace](https://en.wikipedia.org/wiki/Pierre-Simon_Laplace).\n",
        "\n",
        "- Las funciones exponenciales complejas constituyen autofunciones de sistemas lineales e invariantes en el tiempo (SLIT). Por eso, la transformada de Laplace es utilizada en el contexto de señales y SLIT."
      ]
    },
    {
      "cell_type": "markdown",
      "metadata": {
        "id": "V0NIUci93Y5K"
      },
      "source": [
        "### Transformada Bilateral de Laplace\n",
        "\n",
        "- La transformada bilateral de Laplace se define como\n",
        "\\begin{equation}\n",
        "X(s) = \\int_{-\\infty}^{\\infty} x(t) \\, e^{- s t} \\; dt\n",
        "\\end{equation}\n",
        "donde $X(s) = \\mathfrak{L} \\{ x(t)\\}$ es la transformada de Laplace de $x(t)$.\n",
        "\n",
        "- Una señal compleja $x(t) \\in \\mathbb{C}$ con variable independiente real $t \\in \\mathbb{R}$ se representa por sus transformada compleja de Laplace $X(s) \\in \\mathbb{C}$ con variable independiente compleja $s \\in \\mathbb{C}$.\n",
        "\n",
        "- La variable $s$ se puede interpretar como la frecuencia compleja  $s = \\sigma + j \\omega$ con $\\sigma, \\omega \\in \\mathbb{R}$.\n",
        "\n",
        "\n",
        "- La existencia de la transformada de Laplace $X(s) = \\mathfrak{L} \\{ x(t) \\}$ depende de la frecuencia compleja $s$ y la señal $x(t)$. Todos los valores para los cuales la transformada de Laplace converge forman la [*region de convergencia*](https://en.wikipedia.org/wiki/Radius_of_convergence) (ROC).\n",
        "\n",
        "- La transformada de Laplace de dos señales diferentes pueden tener diferentes ROC. Por ello, la ROC necesita ser especificada para una inversión única de la transformada de Laplace."
      ]
    },
    {
      "cell_type": "markdown",
      "metadata": {
        "id": "X8W6sWY73Y5N"
      },
      "source": [
        "### Transformada Unilateral de Laplace\n",
        "\n",
        "- Las señales causales juegan un rol importante en la teoría de señales y sistemas.\n",
        "\n",
        "- Para $x(t) = 0$ si $t <0$, la relación $x(t) = x(t) \\cdot \\epsilon(t)$ se cumple. Empleando esta definición en la transformada bilateral de Laplace se obtiene que:\n",
        "\n",
        "\\begin{equation}\n",
        "X(s) = \\int_{-\\infty}^{\\infty} x(t) \\cdot \\epsilon(t) \\, e^{- s t} \\; dt = \\int_{0}^{\\infty} x(t) \\, e^{- s t} \\; dt\n",
        "\\end{equation}\n",
        "\n",
        "- La anterior igualdad, se define como la transformada unilateral de Laplace:\n",
        "\n",
        "\\begin{equation}\n",
        "X(s) = \\int_{0}^{\\infty} x(t) \\, e^{- s t} \\; dt\n",
        "\\end{equation}\n",
        "\n",
        "- En la literatura ambas transformadas de Laplace (unilateral y bilateral) son denominadas como transformada de Laplace, y obtienen el mismo resultado para señales causales."
      ]
    },
    {
      "cell_type": "markdown",
      "metadata": {
        "id": "HYIdvDXB3Y5S"
      },
      "source": [
        "### Transformada de un Impulso de Dirac\n",
        "\n",
        "- La transformada de Laplace de un impulso de Dirac $\\mathfrak{L} \\{ \\delta(t) \\}$ se obtiene al reemplazar $\\delta(t)$ en la definición de la transfromada bilateral de Laplace y utilizar la propiedad de selectividad de la función Delta:\n",
        "\n",
        "\\begin{equation}\n",
        "\\mathfrak{L} \\{ \\delta(t) \\} = \\int_{-\\infty}^{\\infty} \\delta(t) \\, e^{- s t} dt = e^{- s t} \\Big\\vert_{t=0}  =  1\n",
        "\\end{equation}\n",
        "para $s \\in \\mathbb{C}$. La ROC cubre todo el plano complejo.\n",
        "\n",
        "- La transformada de un impulso de Dirac centrado en cero es uno. Por lo tanto, todas las frecuencias complejas $s$ tienen el mismo factor de escala. Esta es una propiedad importante en la teoría de señales y sistemas, debido a que el impulso de Dirac es utilizado para caracterizar un SLIT mediante su respuesta al impulso $h(t) = \\mathsf{H} \\{ \\delta(t) \\}$."
      ]
    },
    {
      "cell_type": "markdown",
      "metadata": {
        "id": "XKEhUOxy3Y5U"
      },
      "source": [
        "**Ejemplo**\n",
        "\n",
        "La transformada de Laplace de un impulso de Dirac se puede obtener utilizando `SymPy` para evaluar la integral de transformación."
      ]
    },
    {
      "cell_type": "code",
      "execution_count": null,
      "metadata": {
        "colab": {
          "base_uri": "https://localhost:8080/",
          "height": 37
        },
        "id": "WxxG-gM53Y5X",
        "outputId": "d05278c6-5dd7-4239-9426-1c14e67cdd8c"
      },
      "outputs": [
        {
          "output_type": "execute_result",
          "data": {
            "image/png": "[encoded data removed]",
            "text/latex": "$\\displaystyle 1$",
            "text/plain": [
              "1"
            ]
          },
          "metadata": {},
          "execution_count": 1
        }
      ],
      "source": [
        "%matplotlib inline\n",
        "import sympy as sym\n",
        "sym.init_printing() #importar sympy y declarar variables simbólicas\n",
        "\n",
        "t = sym.symbols('t', real=True)\n",
        "s = sym.symbols('s', complex=True)\n",
        "#integral transformada de laplace\n",
        "X = sym.integrate(sym.DiracDelta(t)*sym.exp(-s*t), (t, -sym.oo, sym.oo))\n",
        "X"
      ]
    },
    {
      "cell_type": "markdown",
      "metadata": {
        "id": "aPsFniH13Y5p"
      },
      "source": [
        "### Transformada de una señal exponencial compleja causal\n",
        "\n",
        "La transformada $X(s) = \\mathfrak{L} \\{ x(t) \\}$ de una señal exponencial compleja causal:\n",
        "\n",
        "\\begin{equation}\n",
        "x(t) = \\epsilon(t) \\cdot e^{-s_0 t}\n",
        "\\end{equation}\n",
        "con frecuencia compleja $s_0 \\in \\mathbb{C}$, se obtiene al evaluar la transformada unilateral de Laplace:\n",
        "\n",
        "\\begin{equation}\n",
        "\\begin{split}\n",
        "X(s) &= \\int_{0}^{\\infty} e^{-s_0 t} \\cdot e^{-s t} \\; dt = \\frac{-e^{-(s+s_0)t}}{s+s_0} \\, \\bigg\\vert_{0}^{\\infty} = \\frac{-1}{s+s_0} \\left[ \\lim_{t \\to \\infty} \\left( e^{- (s+s_0) t} \\right) -1 \\right] \\\\\n",
        "&= \\frac{1}{s + s_0}\n",
        "\\end{split}\n",
        "\\end{equation}\n",
        "\n",
        "Se puede concluir que para el límite anterior, la transformada de Laplace converge si y solo si $\\Re \\{ s + s_0 \\} > 0$. Por lo tanto, la ROC es:\n",
        "\n",
        "\\begin{equation}\n",
        "\\Re \\{ s \\} > \\Re \\{ - s_0 \\}\n",
        "\\end{equation}\n",
        "\n",
        "Combinando ambas expresiones, la transformada de una señal exponencial compleja causal es:\n",
        "\n",
        "\\begin{equation}\n",
        "\\mathfrak{L} \\{ \\epsilon(t) \\cdot e^{-s_0 t} \\} = \\frac{1}{s + s_0} \\quad \\text{; para } \\Re \\{ s \\} > \\Re \\{ - s_0 \\}\n",
        "\\end{equation}"
      ]
    },
    {
      "cell_type": "markdown",
      "metadata": {
        "id": "HO-qQ9S_3Y5s"
      },
      "source": [
        "**Ejemplo - Transformada de una señal exponencial**\n",
        "\n",
        "En `SymPy`, la [transformada de Laplace](http://docs.sympy.org/latest/modules/integrals/integrals.html?highlight=laplace#sympy.integrals.transforms.laplace_transform) es la transformada unilateral. La respectiva función de `SymPy`es utilizada en este ejemplo para calcular la transformada de una señal exponencial causal."
      ]
    },
    {
      "cell_type": "code",
      "execution_count": null,
      "metadata": {
        "colab": {
          "base_uri": "https://localhost:8080/",
          "height": 57
        },
        "id": "D8lhFWRv3Y5w",
        "outputId": "e500c6d4-23b5-4c6e-8f94-71ca2eb9b337"
      },
      "outputs": [
        {
          "output_type": "execute_result",
          "data": {
            "image/png": "[encoded data removed]",
            "text/latex": "$\\displaystyle \\left( \\frac{1}{s + s_{0}}, \\  0, \\  \\left|{\\arg{\\left(s_{0} \\right)}}\\right| < \\frac{\\pi}{2}\\right)$",
            "text/plain": [
              "⎛  1                    π⎞\n",
              "⎜──────, 0, │arg(s₀)│ < ─⎟\n",
              "⎝s + s₀                 2⎠"
            ]
          },
          "metadata": {},
          "execution_count": 2
        }
      ],
      "source": [
        "s0 = sym.symbols('s0', complex=True)\n",
        "#utilizamos la función de transformada de Laplace de sympy\n",
        "X, a, cond = sym.laplace_transform(sym.exp(-s0*t), t, s)\n",
        "X, a, cond"
      ]
    },
    {
      "cell_type": "markdown",
      "metadata": {
        "id": "axgSYUOv3Y54"
      },
      "source": [
        "La función regresa tres resultados:\n",
        "\n",
        "- El primero es $X(s)$.\n",
        "- El segundo es la región de convergencia para el que $\\Re \\{ s \\} > a$.\n",
        "- El tercero representa una condición auxiliar de convergencia respecto a la fase de la expresión."
      ]
    },
    {
      "cell_type": "markdown",
      "metadata": {
        "id": "LC_NPMzK3Y56"
      },
      "source": [
        "### Transformada de una señal Heaviside\n",
        "\n",
        "La transformada de Laplace de una señal Heaviside (escalón unitario) se obtiene cuando en la señal $\\epsilon(t) \\cdot e^{-s_0 t}$ se hace $s_0 = 0$\n",
        "\n",
        "\\begin{equation}\n",
        "\\mathfrak{L} \\{ \\epsilon(t) \\} = \\frac{1}{s} \\qquad \\text{; para } \\Re \\{ s \\} > 0\n",
        "\\end{equation}"
      ]
    },
    {
      "cell_type": "markdown",
      "metadata": {
        "id": "LH8QRyHK3Y57"
      },
      "source": [
        "## Convergencia\n",
        "\n",
        "Una condición suficiente pero no necesaria para la existencia de la transformada de Laplace $X(s) = \\mathfrak{L} \\{ x(t) \\}$ de una señal $x(t)$ es:\n",
        "\n",
        "\\begin{equation}\n",
        "\\int_{-\\infty}^{\\infty} | x(t) \\cdot e^{- \\sigma t} | \\; dt < \\infty\n",
        "\\end{equation}\n",
        "\n",
        "Donde $\\sigma = \\Re\\{ s \\}$ es la parte real de la frecuencia compleja $s = \\sigma + j \\omega$ de la transformada de Laplace. Formalmente, la señal $x(t)$ debe ser entonces una [función localmente integrable](https://en.wikipedia.org/wiki/Locally_integrable_function).\n",
        "\n",
        "La parte imaginaria $\\omega = \\Im \\{ s \\}$ de la frecuencia $s$ no afecta en el análisis de la convergencia.\n",
        "\n",
        "Consecuentemente, la ROC se determina unicamente por la parte real $\\sigma = \\Re\\{ s \\}$.\n",
        "\n",
        "Para una señal con $x(t) = 0$ para $t < T_0$, la ROC está dada por la forma $\\Re \\{ s \\} > a$ con $a \\in \\mathbb{R}$. Lo anterior puede ser concluido gracias al decaimiento del término exponencial $e^{- \\sigma t}$ para $t \\to \\infty$, el cual asegura la convergencia para un valor dado de $a$. Sin embargo, este razonamiento es válido solo para señales con [crecimiento exponencial](https://en.wikipedia.org/wiki/Exponential_growth).\n",
        "\n",
        "El mismo razonamiento permite encontrar las ROC de señales con $x(t) = 0$ para $t > T_0$ y bilaterales. Las ROC resultantes se muestran en la siguiente imágen.\n",
        "\n",
        "![Region of convergence for left-/two-/right-sided signal](https://github.com/amalvarezme/SenalesSistemas/blob/master/4_Transformada_Laplace/ROC.png?raw=1)\n",
        "\n",
        "Las áreas grises muestran el valor de $s$ para los cuales la transformada de Laplace converge.\n",
        "\n",
        "Las fronteras $a$ de estas áreas dependen de la señal $x(t)$."
      ]
    },
    {
      "cell_type": "markdown",
      "metadata": {
        "id": "0LNqOKrM3Y59"
      },
      "source": [
        "## Representación\n",
        "\n",
        "- La transformada de Laplace $X(s) = \\mathfrak{L} \\{ x(t) \\}$ depende de la frecuencia compleja $s \\in \\mathbb{C}$ y en general $X(s) \\in \\mathbb{C}$. Lo anterior puede ser ilustrado al graficar la magnitud $|X(s)|$ y la fase $\\varphi (s)$, la parte real $\\Re \\{ X(s) \\}$ e imaginaria $\\Im \\{ X(s) \\}$ en el plano complejo $s$. A menudo, los gráficos en 3-D no son muy ilustrativos.\n",
        "\n",
        "- Muchas transformadas de Laplace de interés en la teoría de señales y sistemas son [funciones racionales](https://en.wikipedia.org/wiki/Rational_function) en $s$.\n",
        "\n",
        "- Los polinomios del numerado y del denominador pueden ser representados mediante sus [raices](https://en.wikipedia.org/wiki/Zero_of_a_function#Polynomial_roots) complejas y un factor constante.\n",
        "\n",
        "- Las raices del numerador son llamadas *ceros* mientras que las raices del denominador son llamadas *polos* de $X(s)$. Las representaciones polinomiales y de ceros y polos son equivalentes:\n",
        "\n",
        "\\begin{equation}\n",
        "X(s) = \\frac{\\sum_{m=0}^{M} \\beta_m s^m}{\\sum_{n=0}^{N} \\alpha_n s^n} = K \\cdot \\frac{\\prod_{\\mu=0}^{Q} (s - s_{0 \\mu})}{\\prod_{\\nu=0}^{P} (s - s_{\\infty \\nu})}\n",
        "\\end{equation}\n",
        "donde $M$ y $N$ son el orden de los polinomios del numerador y denominador respectivamente, $s_{0 \\mu}$ representa el $\\mu$-th cero y $s_{\\infty \\nu}$ el $\\nu$-th polo de $X(s)$, $Q = M-1$ y $P = N-1$ son el número total de ceros y polos respectivamente.\n",
        "\n",
        "- Para $M=N$ el factor $K = \\frac{\\beta_M}{\\alpha_N}$. Si $M > N$, hay por lo menos un polo ubicado en $|s| = \\infty$.\n",
        "\n",
        "- Es común ilustrar los polos y los ceros en un [gráfico de polos y ceros](https://en.wikipedia.org/wiki/Pole%E2%80%93zero_plot), donde la ubicación de los polos y ceros complejos, sus ángulos y el factor $K$ son graficados en el plano $s$:\n",
        "\n",
        "![Ilustración de los polos y ceros en un gráfico de polos y ceros](https://github.com/amalvarezme/SenalesSistemas/blob/master/4_Transformada_Laplace/pz_plot.png?raw=1)\n",
        "\n",
        "- Las ubicaciones de los polos y ceros proporcionan información sobre la composición de una señal. Por ejemplo, la transformada de Laplace de una señal exponencial compleja tiene un polo en $s = - s_0$.\n",
        "\n",
        "- Una señal que se compone de una superposición de señales exponenciales complejas tendrá múltiples polos cuyas posiciones están relacionadas con las frecuencias complejas de las que se compone."
      ]
    },
    {
      "cell_type": "markdown",
      "metadata": {
        "id": "y5UcRZL23Y5_"
      },
      "source": [
        "**Ejercicio**\n",
        "\n",
        "* Obtenga $X(s)$ junto con su ROC de la anterior gráfica de polos y ceros."
      ]
    },
    {
      "cell_type": "markdown",
      "metadata": {
        "id": "g5XuZHN03Y6B"
      },
      "source": [
        "**Ejemplo - Ilustración de la transformada de Laplace de una señal exponencial causal**\n",
        "\n",
        "La transformada de Laplace de una señal exponencial compleja causal:\n",
        "\n",
        "\\begin{equation}\n",
        "X(s) = \\frac{1}{s + s_0} \\qquad \\text{for } \\Re \\{ s \\} > \\Re \\{ - s_0 \\}\n",
        "\\end{equation}\n",
        "\n",
        "es ilustrada en el gráfico de su magnitud $|X(s)|$ en el  plano $s$ con $s = \\sigma + j \\omega$ para $s_0 = 1 + j$."
      ]
    },
    {
      "cell_type": "code",
      "execution_count": null,
      "metadata": {
        "colab": {
          "base_uri": "https://localhost:8080/",
          "height": 248
        },
        "id": "nRms7sR83Y6F",
        "outputId": "eb298e57-70e5-4146-bf87-615b4afc059a"
      },
      "outputs": [
        {
          "data": {
            "image/png": "[encoded data removed]",
            "text/plain": [
              "<Figure size 432x288 with 1 Axes>"
            ]
          },
          "metadata": {
            "needs_background": "light"
          },
          "output_type": "display_data"
        }
      ],
      "source": [
        "sigma, omega = sym.symbols('sigma omega') #declarar variables simbólicas y expresión de la transformada\n",
        "\n",
        "X = 1/(s + s0)\n",
        "X1 = X.subs({s: sigma+sym.I*omega, s0: 1+sym.I})\n",
        "#gráfico en 3D\n",
        "sym.plotting.plot3d(abs(X1), (sigma, -2, 2), (omega, -2, 2),\n",
        "                    xlabel=r'$\\Re\\{s\\}$', ylabel=r'$\\Im\\{s\\}$', title=r'$|X(s)|$');"
      ]
    },
    {
      "cell_type": "markdown",
      "metadata": {
        "id": "tQcoJR_-3Y6P"
      },
      "source": [
        "Alternativamente, la transformada de Laplace es ilustrada en un gráfica de polos y ceros.\n",
        "\n",
        "Primero los polos."
      ]
    },
    {
      "cell_type": "code",
      "execution_count": null,
      "metadata": {
        "colab": {
          "base_uri": "https://localhost:8080/",
          "height": 38
        },
        "id": "3S4KRNHl3Y6S",
        "outputId": "24541fbd-fa26-4cd0-8532-debde651d6fc"
      },
      "outputs": [
        {
          "output_type": "execute_result",
          "data": {
            "image/png": "[encoded data removed]",
            "text/latex": "$\\displaystyle \\left\\{ - s_{0} : 1\\right\\}$",
            "text/plain": [
              "{-s₀: 1}"
            ]
          },
          "metadata": {},
          "execution_count": 4
        }
      ],
      "source": [
        "poles = sym.roots(sym.denom(X), s) #se obtienen la raices del denominador\n",
        "poles"
      ]
    },
    {
      "cell_type": "markdown",
      "metadata": {
        "id": "YZC96hoo3Y6f"
      },
      "source": [
        "y los ceros"
      ]
    },
    {
      "cell_type": "code",
      "execution_count": null,
      "metadata": {
        "colab": {
          "base_uri": "https://localhost:8080/",
          "height": 37
        },
        "id": "86g0HUpB3Y6i",
        "outputId": "c2c2eece-61b6-458e-9025-8cd8592ea24f"
      },
      "outputs": [
        {
          "output_type": "execute_result",
          "data": {
            "image/png": "[encoded data removed]",
            "text/latex": "$\\displaystyle \\left\\{ \\right\\}$",
            "text/plain": [
              "{}"
            ]
          },
          "metadata": {},
          "execution_count": 5
        }
      ],
      "source": [
        "zeros = sym.roots(sym.numer(X), s) #raíces del numerador\n",
        "zeros"
      ]
    },
    {
      "cell_type": "markdown",
      "metadata": {
        "id": "F4PXFlWo3Y6p"
      },
      "source": [
        "Los anteriores diccionarios están compuestos de polos y ceros, y sus respectivos ángulos.\n",
        "\n",
        "Para ilustrar la localización de polos y ceros en el plano $s$, hay una función definida para gráficos de polos y ceros utilizando la librería de Python [`matplotlib`](http://matplotlib.org/)."
      ]
    },
    {
      "cell_type": "code",
      "execution_count": null,
      "metadata": {
        "id": "9ODt5SBy3Y6r"
      },
      "outputs": [],
      "source": [
        "import matplotlib.pyplot as plt\n",
        "\n",
        "def pole_zero_plot(poles, zeros, ax=None):\n",
        "\n",
        "    for pole in poles:\n",
        "        plt.plot(complex(pole).real, complex(pole).imag, 'rx', markersize=10)\n",
        "    for zero in zeros:\n",
        "        plt.plot(complex(zero).real, complex(zero).imag, 'bo', markersize=10)\n",
        "\n",
        "    if ax is None:\n",
        "        ax = plt.gca()\n",
        "    ax.set_aspect(1)\n",
        "\n",
        "    plt.axis([-2, 2, -2, 2])\n",
        "    plt.xlabel(r'$\\Re \\{ s \\}$')\n",
        "    plt.ylabel(r'$\\Im \\{ s \\}$')\n",
        "    plt.grid()"
      ]
    },
    {
      "cell_type": "markdown",
      "metadata": {
        "id": "fMDr5qqi3Y6w"
      },
      "source": [
        "El diagrama de polos y ceros es mostrado para $s_0 = 1 + j$"
      ]
    },
    {
      "cell_type": "code",
      "execution_count": null,
      "metadata": {
        "colab": {
          "base_uri": "https://localhost:8080/",
          "height": 287
        },
        "id": "L1LY83zF3Y6z",
        "outputId": "6ee93cd1-dc8f-4a97-b867-99ea99f7e6a7"
      },
      "outputs": [
        {
          "output_type": "display_data",
          "data": {
            "image/png": "[encoded data removed]",
            "text/plain": [
              "<Figure size 432x288 with 1 Axes>"
            ]
          },
          "metadata": {
            "needs_background": "light"
          }
        }
      ],
      "source": [
        "X2 = X.subs(s0, 1+sym.I)\n",
        "pole_zero_plot(sym.roots(sym.denom(X2), s), sym.roots(sym.numer(X2), s))"
      ]
    },
    {
      "cell_type": "markdown",
      "metadata": {
        "id": "PlKdixHE3Y67",
        "nbsphinx": "hidden"
      },
      "source": [
        "**Copyright**\n",
        "\n",
        "The notebooks are provided as [Open Educational Resource](https://de.wikipedia.org/wiki/Open_Educational_Resources). Feel free to use the notebooks for your own educational purposes. The text is licensed under [Creative Commons Attribution 4.0](https://creativecommons.org/licenses/by/4.0/), the code of the IPython examples under the [MIT license](https://opensource.org/licenses/MIT). Please attribute the work as follows: *Lecture Notes on Signals and Systems* by Sascha Spors."
      ]
    }
  ],
  "metadata": {
    "colab": {
      "provenance": [],
      "include_colab_link": true
    },
    "kernelspec": {
      "display_name": "Python 3",
      "language": "python",
      "name": "python3"
    },
    "language_info": {
      "codemirror_mode": {
        "name": "ipython",
        "version": 3
      },
      "file_extension": ".py",
      "mimetype": "text/x-python",
      "name": "python",
      "nbconvert_exporter": "python",
      "pygments_lexer": "ipython3",
      "version": "3.7.1"
    }
  },
  "nbformat": 4,
  "nbformat_minor": 0
}
